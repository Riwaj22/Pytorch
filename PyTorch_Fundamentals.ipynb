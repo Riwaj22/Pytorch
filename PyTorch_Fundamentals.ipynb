{
  "nbformat": 4,
  "nbformat_minor": 0,
  "metadata": {
    "colab": {
      "provenance": [],
      "gpuType": "T4"
    },
    "kernelspec": {
      "name": "python3",
      "display_name": "Python 3"
    },
    "language_info": {
      "name": "python"
    },
    "accelerator": "GPU"
  },
  "cells": [
    {
      "cell_type": "code",
      "execution_count": 3,
      "metadata": {
        "id": "AI0ZCZB236wY"
      },
      "outputs": [],
      "source": [
        "import torch\n",
        "import numpy as np\n",
        "import pandas as pd\n",
        "from matplotlib import pyplot as plt"
      ]
    },
    {
      "cell_type": "code",
      "source": [
        "print(torch.__version__)"
      ],
      "metadata": {
        "colab": {
          "base_uri": "https://localhost:8080/"
        },
        "id": "n_0mnTl2_Vpx",
        "outputId": "1cefbfb7-9427-4a8c-8139-99e90fafee67"
      },
      "execution_count": 4,
      "outputs": [
        {
          "output_type": "stream",
          "name": "stdout",
          "text": [
            "2.1.0+cu121\n"
          ]
        }
      ]
    },
    {
      "cell_type": "code",
      "source": [
        "# Introduction to Tensors"
      ],
      "metadata": {
        "id": "oPvvAao__g4u"
      },
      "execution_count": 6,
      "outputs": []
    },
    {
      "cell_type": "code",
      "source": [
        "scaler = torch.tensor(7)\n",
        "scaler"
      ],
      "metadata": {
        "colab": {
          "base_uri": "https://localhost:8080/"
        },
        "id": "90sNofHjAErr",
        "outputId": "4e8375d4-66dc-40c4-c619-7321553e034b"
      },
      "execution_count": 8,
      "outputs": [
        {
          "output_type": "execute_result",
          "data": {
            "text/plain": [
              "tensor(7)"
            ]
          },
          "metadata": {},
          "execution_count": 8
        }
      ]
    },
    {
      "cell_type": "code",
      "source": [
        "scaler.ndim"
      ],
      "metadata": {
        "colab": {
          "base_uri": "https://localhost:8080/"
        },
        "id": "ipKVuOLUAa0A",
        "outputId": "9739f790-b0b2-4482-af8f-aa11e1b0bfc0"
      },
      "execution_count": 9,
      "outputs": [
        {
          "output_type": "execute_result",
          "data": {
            "text/plain": [
              "0"
            ]
          },
          "metadata": {},
          "execution_count": 9
        }
      ]
    },
    {
      "cell_type": "code",
      "source": [
        "scaler.item()"
      ],
      "metadata": {
        "colab": {
          "base_uri": "https://localhost:8080/"
        },
        "id": "aliPQhqtAudE",
        "outputId": "c592364c-10a7-45ef-85b7-7a0400e95e89"
      },
      "execution_count": 10,
      "outputs": [
        {
          "output_type": "execute_result",
          "data": {
            "text/plain": [
              "7"
            ]
          },
          "metadata": {},
          "execution_count": 10
        }
      ]
    },
    {
      "cell_type": "code",
      "source": [
        "# Vector\n",
        "\n",
        "vector = torch.tensor([1,7])"
      ],
      "metadata": {
        "id": "7cn2BLnwBDc9"
      },
      "execution_count": 11,
      "outputs": []
    },
    {
      "cell_type": "code",
      "source": [
        "vector"
      ],
      "metadata": {
        "colab": {
          "base_uri": "https://localhost:8080/"
        },
        "id": "1kI5_6eFBKwK",
        "outputId": "1deb46d6-58c7-4536-94eb-f524d53d86be"
      },
      "execution_count": 12,
      "outputs": [
        {
          "output_type": "execute_result",
          "data": {
            "text/plain": [
              "tensor([1, 7])"
            ]
          },
          "metadata": {},
          "execution_count": 12
        }
      ]
    },
    {
      "cell_type": "code",
      "source": [
        "vector.ndim"
      ],
      "metadata": {
        "colab": {
          "base_uri": "https://localhost:8080/"
        },
        "id": "MteZeUKWBL3l",
        "outputId": "119820d8-c0ec-4818-dd6f-b89f61f62d6f"
      },
      "execution_count": 13,
      "outputs": [
        {
          "output_type": "execute_result",
          "data": {
            "text/plain": [
              "1"
            ]
          },
          "metadata": {},
          "execution_count": 13
        }
      ]
    },
    {
      "cell_type": "code",
      "source": [
        "vector.shape"
      ],
      "metadata": {
        "colab": {
          "base_uri": "https://localhost:8080/"
        },
        "id": "EWrAB5VZBVOt",
        "outputId": "d177b085-b2a2-48d7-8adf-001873697ef5"
      },
      "execution_count": 14,
      "outputs": [
        {
          "output_type": "execute_result",
          "data": {
            "text/plain": [
              "torch.Size([2])"
            ]
          },
          "metadata": {},
          "execution_count": 14
        }
      ]
    },
    {
      "cell_type": "code",
      "source": [
        "# Matrix\n",
        "\n",
        "MATRIX = torch.tensor([[7,8],[10,10]])"
      ],
      "metadata": {
        "id": "QwU82jfsBa5I"
      },
      "execution_count": 15,
      "outputs": []
    },
    {
      "cell_type": "code",
      "source": [
        "MATRIX.ndim"
      ],
      "metadata": {
        "colab": {
          "base_uri": "https://localhost:8080/"
        },
        "id": "1k1-QC00BqRo",
        "outputId": "172fdb96-90a5-4f55-b5ee-fd06d2a1d070"
      },
      "execution_count": 16,
      "outputs": [
        {
          "output_type": "execute_result",
          "data": {
            "text/plain": [
              "2"
            ]
          },
          "metadata": {},
          "execution_count": 16
        }
      ]
    },
    {
      "cell_type": "code",
      "source": [
        "MATRIX.shape"
      ],
      "metadata": {
        "colab": {
          "base_uri": "https://localhost:8080/"
        },
        "id": "yvrKcPY8Br7C",
        "outputId": "152884ec-61fb-436c-cfaa-11969507056d"
      },
      "execution_count": 17,
      "outputs": [
        {
          "output_type": "execute_result",
          "data": {
            "text/plain": [
              "torch.Size([2, 2])"
            ]
          },
          "metadata": {},
          "execution_count": 17
        }
      ]
    },
    {
      "cell_type": "code",
      "source": [
        "# Tensor"
      ],
      "metadata": {
        "id": "JFY0k_BFBuxq"
      },
      "execution_count": 18,
      "outputs": []
    },
    {
      "cell_type": "code",
      "source": [
        "TENSOR = torch.tensor([[[1,1,1],[2,2,2],[3,3,3]]])"
      ],
      "metadata": {
        "id": "p01d-6Y1CKCJ"
      },
      "execution_count": 21,
      "outputs": []
    },
    {
      "cell_type": "code",
      "source": [
        "TENSOR.ndim\n"
      ],
      "metadata": {
        "colab": {
          "base_uri": "https://localhost:8080/"
        },
        "id": "uAAJc2wNCjFE",
        "outputId": "a883d1a1-eaeb-446a-a08a-efaf3ef30514"
      },
      "execution_count": 25,
      "outputs": [
        {
          "output_type": "execute_result",
          "data": {
            "text/plain": [
              "3"
            ]
          },
          "metadata": {},
          "execution_count": 25
        }
      ]
    },
    {
      "cell_type": "code",
      "source": [
        "TENSOR.shape"
      ],
      "metadata": {
        "colab": {
          "base_uri": "https://localhost:8080/"
        },
        "id": "KYDOQX7HClVY",
        "outputId": "7688f67b-c69f-4ce9-f82f-0951dc5fc819"
      },
      "execution_count": 26,
      "outputs": [
        {
          "output_type": "execute_result",
          "data": {
            "text/plain": [
              "torch.Size([1, 3, 3])"
            ]
          },
          "metadata": {},
          "execution_count": 26
        }
      ]
    },
    {
      "cell_type": "code",
      "source": [
        "# # Random Tensors\n",
        "\n",
        "# why random tensors:\n",
        "\n",
        "# Random tensors are inportant because the way many neural network learn is that they start with tensors full of random numbers and then adjust those random numbers to better represent the data'\n",
        "\n",
        "# start with random numbers -> look at data -> update random numbers -> look at data -> update"
      ],
      "metadata": {
        "id": "zj5RlL7BCtUK"
      },
      "execution_count": 28,
      "outputs": []
    },
    {
      "cell_type": "code",
      "source": [
        "random_tensor = torch.rand(size =(3,4,5))\n",
        "random_tensor"
      ],
      "metadata": {
        "colab": {
          "base_uri": "https://localhost:8080/"
        },
        "id": "9w1oe0fjC6vu",
        "outputId": "3814f9a4-4ba7-4907-e334-46dd064d49b3"
      },
      "execution_count": 38,
      "outputs": [
        {
          "output_type": "execute_result",
          "data": {
            "text/plain": [
              "tensor([[[0.7474, 0.7242, 0.6277, 0.9423, 0.7161],\n",
              "         [0.0253, 0.9123, 0.1784, 0.4494, 0.8574],\n",
              "         [0.1421, 0.7781, 0.6765, 0.2780, 0.8090],\n",
              "         [0.6600, 0.7954, 0.3352, 0.0288, 0.5917]],\n",
              "\n",
              "        [[0.4218, 0.8804, 0.5923, 0.6079, 0.1435],\n",
              "         [0.3783, 0.1252, 0.7961, 0.2542, 0.0249],\n",
              "         [0.5831, 0.2005, 0.2255, 0.5408, 0.3368],\n",
              "         [0.3771, 0.9285, 0.6679, 0.2934, 0.2663]],\n",
              "\n",
              "        [[0.5898, 0.8748, 0.9870, 0.3907, 0.1624],\n",
              "         [0.4089, 0.9701, 0.4178, 0.4222, 0.6782],\n",
              "         [0.4362, 0.2768, 0.1584, 0.9960, 0.1090],\n",
              "         [0.0372, 0.2268, 0.2701, 0.2000, 0.2579]]])"
            ]
          },
          "metadata": {},
          "execution_count": 38
        }
      ]
    },
    {
      "cell_type": "code",
      "source": [
        "random_tensor.ndim\n"
      ],
      "metadata": {
        "colab": {
          "base_uri": "https://localhost:8080/"
        },
        "id": "Dd33T8RpEK_A",
        "outputId": "c9e4e0c5-7327-4a0c-942f-481940039e6e"
      },
      "execution_count": 41,
      "outputs": [
        {
          "output_type": "execute_result",
          "data": {
            "text/plain": [
              "3"
            ]
          },
          "metadata": {},
          "execution_count": 41
        }
      ]
    },
    {
      "cell_type": "code",
      "source": [
        "# Create a random tesnor with similar shape to an image\n",
        "\n",
        "random_image_size_tensor = torch.rand(size = (224,224,3))\n",
        "random_image_size_tensor.shape, random_image_size_tensor.ndim"
      ],
      "metadata": {
        "colab": {
          "base_uri": "https://localhost:8080/"
        },
        "id": "pAGkQUakESgc",
        "outputId": "98cdd936-d34f-4b76-e575-5e7e38943369"
      },
      "execution_count": 43,
      "outputs": [
        {
          "output_type": "execute_result",
          "data": {
            "text/plain": [
              "(torch.Size([224, 224, 3]), 3)"
            ]
          },
          "metadata": {},
          "execution_count": 43
        }
      ]
    },
    {
      "cell_type": "code",
      "source": [
        "# Creating Tensors with zeros and ones"
      ],
      "metadata": {
        "id": "hJ712xR3Ex7H"
      },
      "execution_count": 44,
      "outputs": []
    },
    {
      "cell_type": "code",
      "source": [
        "zero = torch.zeros(size =(224,224,3))\n",
        "zero"
      ],
      "metadata": {
        "colab": {
          "base_uri": "https://localhost:8080/"
        },
        "id": "bwQZ3xdsFN4t",
        "outputId": "204abcae-ab29-4dc1-9de1-b742709d1ee3"
      },
      "execution_count": 50,
      "outputs": [
        {
          "output_type": "execute_result",
          "data": {
            "text/plain": [
              "tensor([[[0., 0., 0.],\n",
              "         [0., 0., 0.],\n",
              "         [0., 0., 0.],\n",
              "         ...,\n",
              "         [0., 0., 0.],\n",
              "         [0., 0., 0.],\n",
              "         [0., 0., 0.]],\n",
              "\n",
              "        [[0., 0., 0.],\n",
              "         [0., 0., 0.],\n",
              "         [0., 0., 0.],\n",
              "         ...,\n",
              "         [0., 0., 0.],\n",
              "         [0., 0., 0.],\n",
              "         [0., 0., 0.]],\n",
              "\n",
              "        [[0., 0., 0.],\n",
              "         [0., 0., 0.],\n",
              "         [0., 0., 0.],\n",
              "         ...,\n",
              "         [0., 0., 0.],\n",
              "         [0., 0., 0.],\n",
              "         [0., 0., 0.]],\n",
              "\n",
              "        ...,\n",
              "\n",
              "        [[0., 0., 0.],\n",
              "         [0., 0., 0.],\n",
              "         [0., 0., 0.],\n",
              "         ...,\n",
              "         [0., 0., 0.],\n",
              "         [0., 0., 0.],\n",
              "         [0., 0., 0.]],\n",
              "\n",
              "        [[0., 0., 0.],\n",
              "         [0., 0., 0.],\n",
              "         [0., 0., 0.],\n",
              "         ...,\n",
              "         [0., 0., 0.],\n",
              "         [0., 0., 0.],\n",
              "         [0., 0., 0.]],\n",
              "\n",
              "        [[0., 0., 0.],\n",
              "         [0., 0., 0.],\n",
              "         [0., 0., 0.],\n",
              "         ...,\n",
              "         [0., 0., 0.],\n",
              "         [0., 0., 0.],\n",
              "         [0., 0., 0.]]])"
            ]
          },
          "metadata": {},
          "execution_count": 50
        }
      ]
    },
    {
      "cell_type": "code",
      "source": [
        "zero * random_image_size_tensor"
      ],
      "metadata": {
        "colab": {
          "base_uri": "https://localhost:8080/"
        },
        "id": "lNYo-i5MFTZ2",
        "outputId": "7e862c9d-f361-4cee-98f7-5e6e8b3aaeb9"
      },
      "execution_count": 51,
      "outputs": [
        {
          "output_type": "execute_result",
          "data": {
            "text/plain": [
              "tensor([[[0., 0., 0.],\n",
              "         [0., 0., 0.],\n",
              "         [0., 0., 0.],\n",
              "         ...,\n",
              "         [0., 0., 0.],\n",
              "         [0., 0., 0.],\n",
              "         [0., 0., 0.]],\n",
              "\n",
              "        [[0., 0., 0.],\n",
              "         [0., 0., 0.],\n",
              "         [0., 0., 0.],\n",
              "         ...,\n",
              "         [0., 0., 0.],\n",
              "         [0., 0., 0.],\n",
              "         [0., 0., 0.]],\n",
              "\n",
              "        [[0., 0., 0.],\n",
              "         [0., 0., 0.],\n",
              "         [0., 0., 0.],\n",
              "         ...,\n",
              "         [0., 0., 0.],\n",
              "         [0., 0., 0.],\n",
              "         [0., 0., 0.]],\n",
              "\n",
              "        ...,\n",
              "\n",
              "        [[0., 0., 0.],\n",
              "         [0., 0., 0.],\n",
              "         [0., 0., 0.],\n",
              "         ...,\n",
              "         [0., 0., 0.],\n",
              "         [0., 0., 0.],\n",
              "         [0., 0., 0.]],\n",
              "\n",
              "        [[0., 0., 0.],\n",
              "         [0., 0., 0.],\n",
              "         [0., 0., 0.],\n",
              "         ...,\n",
              "         [0., 0., 0.],\n",
              "         [0., 0., 0.],\n",
              "         [0., 0., 0.]],\n",
              "\n",
              "        [[0., 0., 0.],\n",
              "         [0., 0., 0.],\n",
              "         [0., 0., 0.],\n",
              "         ...,\n",
              "         [0., 0., 0.],\n",
              "         [0., 0., 0.],\n",
              "         [0., 0., 0.]]])"
            ]
          },
          "metadata": {},
          "execution_count": 51
        }
      ]
    },
    {
      "cell_type": "code",
      "source": [
        "ones = torch.ones(size = (2,2))"
      ],
      "metadata": {
        "id": "vSo2KR3UFaG4"
      },
      "execution_count": 54,
      "outputs": []
    },
    {
      "cell_type": "code",
      "source": [
        "ones.ndim"
      ],
      "metadata": {
        "colab": {
          "base_uri": "https://localhost:8080/"
        },
        "id": "D_sSlKL-FoZG",
        "outputId": "929308a9-e114-42da-863a-794bbceae207"
      },
      "execution_count": 56,
      "outputs": [
        {
          "output_type": "execute_result",
          "data": {
            "text/plain": [
              "2"
            ]
          },
          "metadata": {},
          "execution_count": 56
        }
      ]
    },
    {
      "cell_type": "code",
      "source": [
        "# Creating Tensor range and tensors like another tensor"
      ],
      "metadata": {
        "id": "QFCsql0xFo6q"
      },
      "execution_count": 57,
      "outputs": []
    },
    {
      "cell_type": "code",
      "source": [
        "one_to_ten = torch.arange(start=1, end =1000, step =99)"
      ],
      "metadata": {
        "id": "7VnxcslvFy8K"
      },
      "execution_count": 64,
      "outputs": []
    },
    {
      "cell_type": "code",
      "source": [
        "one_to_ten"
      ],
      "metadata": {
        "colab": {
          "base_uri": "https://localhost:8080/"
        },
        "id": "XuPfZMlvF54u",
        "outputId": "8973ab12-a604-43a7-9815-eaec7a05e0fa"
      },
      "execution_count": 65,
      "outputs": [
        {
          "output_type": "execute_result",
          "data": {
            "text/plain": [
              "tensor([  1, 100, 199, 298, 397, 496, 595, 694, 793, 892, 991])"
            ]
          },
          "metadata": {},
          "execution_count": 65
        }
      ]
    },
    {
      "cell_type": "code",
      "source": [
        "ten_zeros"
      ],
      "metadata": {
        "id": "aiI340UBGjH_",
        "outputId": "b470512b-9a7f-4b87-e8bc-12e67c335241",
        "colab": {
          "base_uri": "https://localhost:8080/"
        }
      },
      "execution_count": 67,
      "outputs": [
        {
          "output_type": "execute_result",
          "data": {
            "text/plain": [
              "tensor([0, 0, 0, 0, 0, 0, 0, 0, 0, 0, 0])"
            ]
          },
          "metadata": {},
          "execution_count": 67
        }
      ]
    },
    {
      "cell_type": "code",
      "source": [
        "# Creating tensors like\n",
        "\n",
        "ten_zeros = torch.zeros_like(input = one_to_ten)"
      ],
      "metadata": {
        "id": "_2cj3RTGGOTQ"
      },
      "execution_count": 66,
      "outputs": []
    },
    {
      "cell_type": "code",
      "source": [
        "# Dealing with tensor data types"
      ],
      "metadata": {
        "id": "Zz05J_mLGlr5"
      },
      "execution_count": 68,
      "outputs": []
    },
    {
      "cell_type": "code",
      "source": [
        "float32_tensor = torch.tensor([3,6,7], dtype = None,\n",
        "                              device = 'cuda',\n",
        "                              requires_grad = False\n",
        "                              )"
      ],
      "metadata": {
        "id": "EktiOIDSG0RU"
      },
      "execution_count": 77,
      "outputs": []
    },
    {
      "cell_type": "code",
      "source": [
        "float32_tensor.dtype\n"
      ],
      "metadata": {
        "id": "oTkox3LZG7Uf",
        "outputId": "20022b7d-b592-43d1-b325-b1cacb5b2b0d",
        "colab": {
          "base_uri": "https://localhost:8080/"
        }
      },
      "execution_count": 78,
      "outputs": [
        {
          "output_type": "execute_result",
          "data": {
            "text/plain": [
              "torch.int64"
            ]
          },
          "metadata": {},
          "execution_count": 78
        }
      ]
    },
    {
      "cell_type": "code",
      "source": [
        "float_16_tensor = float32_tensor.type(torch.float16)"
      ],
      "metadata": {
        "id": "sYnmduM4G_Xc"
      },
      "execution_count": 79,
      "outputs": []
    },
    {
      "cell_type": "code",
      "source": [
        "float_16_tensor.dtype"
      ],
      "metadata": {
        "id": "KiQxvvPBH6Aa",
        "outputId": "3b771303-7a1b-4c19-a290-de588568087b",
        "colab": {
          "base_uri": "https://localhost:8080/"
        }
      },
      "execution_count": 80,
      "outputs": [
        {
          "output_type": "execute_result",
          "data": {
            "text/plain": [
              "torch.float16"
            ]
          },
          "metadata": {},
          "execution_count": 80
        }
      ]
    },
    {
      "cell_type": "code",
      "source": [
        "float32_tensor * float_16_tensor"
      ],
      "metadata": {
        "id": "Wv8pWH4sH8GP",
        "outputId": "cde89215-f7bd-47c6-daf4-fc54e0781337",
        "colab": {
          "base_uri": "https://localhost:8080/"
        }
      },
      "execution_count": 81,
      "outputs": [
        {
          "output_type": "execute_result",
          "data": {
            "text/plain": [
              "tensor([ 9., 36., 49.], device='cuda:0', dtype=torch.float16)"
            ]
          },
          "metadata": {},
          "execution_count": 81
        }
      ]
    },
    {
      "cell_type": "code",
      "source": [
        "# Getting Tensor Attributes"
      ],
      "metadata": {
        "id": "CqA4X0N0IImP"
      },
      "execution_count": 82,
      "outputs": []
    },
    {
      "cell_type": "code",
      "source": [
        "int32_tensor = torch.tensor([3,5,7], dtype = torch.int32)\n",
        "int32_tensor"
      ],
      "metadata": {
        "id": "TWssdN1YINSk",
        "outputId": "a33cd5bc-c867-4395-9967-819e4ed31636",
        "colab": {
          "base_uri": "https://localhost:8080/"
        }
      },
      "execution_count": 85,
      "outputs": [
        {
          "output_type": "execute_result",
          "data": {
            "text/plain": [
              "tensor([3, 5, 7], dtype=torch.int32)"
            ]
          },
          "metadata": {},
          "execution_count": 85
        }
      ]
    },
    {
      "cell_type": "code",
      "source": [
        "int32_tensor"
      ],
      "metadata": {
        "id": "MlNMI7IiIhvn",
        "outputId": "688a6483-4ac7-476e-abf6-d2075f594152",
        "colab": {
          "base_uri": "https://localhost:8080/"
        }
      },
      "execution_count": 87,
      "outputs": [
        {
          "output_type": "execute_result",
          "data": {
            "text/plain": [
              "tensor([3, 5, 7], dtype=torch.int32)"
            ]
          },
          "metadata": {},
          "execution_count": 87
        }
      ]
    },
    {
      "cell_type": "code",
      "source": [
        "# Getting Information from tensor\n",
        "\n",
        "int32_tensor.dtype"
      ],
      "metadata": {
        "id": "FCqSzJqZIoNT",
        "outputId": "37568b32-1e53-4266-c34c-d6762dba0bbd",
        "colab": {
          "base_uri": "https://localhost:8080/"
        }
      },
      "execution_count": 88,
      "outputs": [
        {
          "output_type": "execute_result",
          "data": {
            "text/plain": [
              "torch.int32"
            ]
          },
          "metadata": {},
          "execution_count": 88
        }
      ]
    },
    {
      "cell_type": "code",
      "source": [
        "int32_tensor.shape"
      ],
      "metadata": {
        "id": "11bfq8y_I-w2",
        "outputId": "eae8dade-50a0-47c8-b3a4-6104210cdcac",
        "colab": {
          "base_uri": "https://localhost:8080/"
        }
      },
      "execution_count": 89,
      "outputs": [
        {
          "output_type": "execute_result",
          "data": {
            "text/plain": [
              "torch.Size([3])"
            ]
          },
          "metadata": {},
          "execution_count": 89
        }
      ]
    },
    {
      "cell_type": "code",
      "source": [
        "int32_tensor.device"
      ],
      "metadata": {
        "id": "MrJ9v18EJAGN",
        "outputId": "459a0d20-dc7a-4202-bdce-86f6bbf3ed6d",
        "colab": {
          "base_uri": "https://localhost:8080/"
        }
      },
      "execution_count": 90,
      "outputs": [
        {
          "output_type": "execute_result",
          "data": {
            "text/plain": [
              "device(type='cpu')"
            ]
          },
          "metadata": {},
          "execution_count": 90
        }
      ]
    },
    {
      "cell_type": "code",
      "source": [
        "print('data type of Tensor={}'.format(int32_tensor.dtype))"
      ],
      "metadata": {
        "id": "H5YdzezCJCLm",
        "outputId": "d04cc67e-93f8-4c39-e2a8-4b2d5a7f4c5d",
        "colab": {
          "base_uri": "https://localhost:8080/"
        }
      },
      "execution_count": 95,
      "outputs": [
        {
          "output_type": "stream",
          "name": "stdout",
          "text": [
            "data type of Tensor=torch.int32\n"
          ]
        }
      ]
    },
    {
      "cell_type": "code",
      "source": [
        "# Manipulating Tensors"
      ],
      "metadata": {
        "id": "FYYcSTxOJNJJ"
      },
      "execution_count": 96,
      "outputs": []
    },
    {
      "cell_type": "code",
      "source": [
        "# 1. Addition\n",
        "# 2. Subtraction\n",
        "# 3. Multiplication\n",
        "# 4. Division\n",
        "# 5.Matrix Multiplication"
      ],
      "metadata": {
        "id": "U2R9bAfIJfOD"
      },
      "execution_count": 97,
      "outputs": []
    },
    {
      "cell_type": "code",
      "source": [
        "tensor_a = torch.tensor([1,2,3])\n",
        "tensor_a + 10"
      ],
      "metadata": {
        "id": "8aDSb4AWJ-TT",
        "outputId": "7ab92bea-77fb-4017-b459-a53a0a7f5518",
        "colab": {
          "base_uri": "https://localhost:8080/"
        }
      },
      "execution_count": 99,
      "outputs": [
        {
          "output_type": "execute_result",
          "data": {
            "text/plain": [
              "tensor([11, 12, 13])"
            ]
          },
          "metadata": {},
          "execution_count": 99
        }
      ]
    },
    {
      "cell_type": "code",
      "source": [
        "tensor_a = torch.tensor([1,2,3])\n",
        "tensor_a *  10"
      ],
      "metadata": {
        "id": "KttxWfMvKGyr",
        "outputId": "e2967678-c0d1-4d98-a107-34320f269758",
        "colab": {
          "base_uri": "https://localhost:8080/"
        }
      },
      "execution_count": 100,
      "outputs": [
        {
          "output_type": "execute_result",
          "data": {
            "text/plain": [
              "tensor([10, 20, 30])"
            ]
          },
          "metadata": {},
          "execution_count": 100
        }
      ]
    },
    {
      "cell_type": "code",
      "source": [
        "torch.mul(tensor_a, 10)"
      ],
      "metadata": {
        "id": "6ifsEEMqKLIq",
        "outputId": "0500590e-27aa-42b3-eb6c-6eaab96d077c",
        "colab": {
          "base_uri": "https://localhost:8080/"
        }
      },
      "execution_count": 102,
      "outputs": [
        {
          "output_type": "execute_result",
          "data": {
            "text/plain": [
              "tensor([10, 20, 30])"
            ]
          },
          "metadata": {},
          "execution_count": 102
        }
      ]
    },
    {
      "cell_type": "code",
      "source": [
        "tensor_a * tensor_a"
      ],
      "metadata": {
        "id": "4s4xpyqiKRBJ",
        "outputId": "cc08a635-2978-4809-8365-7e1c87c12bb7",
        "colab": {
          "base_uri": "https://localhost:8080/"
        }
      },
      "execution_count": 103,
      "outputs": [
        {
          "output_type": "execute_result",
          "data": {
            "text/plain": [
              "tensor([1, 4, 9])"
            ]
          },
          "metadata": {},
          "execution_count": 103
        }
      ]
    },
    {
      "cell_type": "code",
      "source": [
        "torch.matmul(tensor_a, tensor_a)"
      ],
      "metadata": {
        "id": "Wg0iV_K2KeZy",
        "outputId": "afde7280-63a1-4984-c5ab-018fe972f193",
        "colab": {
          "base_uri": "https://localhost:8080/"
        }
      },
      "execution_count": 105,
      "outputs": [
        {
          "output_type": "execute_result",
          "data": {
            "text/plain": [
              "tensor(14)"
            ]
          },
          "metadata": {},
          "execution_count": 105
        }
      ]
    },
    {
      "cell_type": "code",
      "source": [
        "# Matrix Multiplication by hand"
      ],
      "metadata": {
        "id": "57NoxDM8Kodm"
      },
      "execution_count": 107,
      "outputs": []
    },
    {
      "cell_type": "code",
      "source": [
        "%%time\n",
        "torch.matmul(tensor_a, tensor_a)"
      ],
      "metadata": {
        "id": "c3K4WDFnK5o1",
        "outputId": "f9f24669-5291-44c6-cd0f-3cf0f04947ee",
        "colab": {
          "base_uri": "https://localhost:8080/"
        }
      },
      "execution_count": 108,
      "outputs": [
        {
          "output_type": "stream",
          "name": "stdout",
          "text": [
            "CPU times: user 556 µs, sys: 6 µs, total: 562 µs\n",
            "Wall time: 485 µs\n"
          ]
        },
        {
          "output_type": "execute_result",
          "data": {
            "text/plain": [
              "tensor(14)"
            ]
          },
          "metadata": {},
          "execution_count": 108
        }
      ]
    },
    {
      "cell_type": "code",
      "source": [
        "tensor_a = torch.tensor([[1,2],[3,4],[5,6]])"
      ],
      "metadata": {
        "id": "-K6xV3TmLI7n"
      },
      "execution_count": 109,
      "outputs": []
    },
    {
      "cell_type": "code",
      "source": [
        "tensor_a.shape\n"
      ],
      "metadata": {
        "id": "EsEsabC2Lich",
        "outputId": "d2e5fd95-4487-4375-a79b-74772d76639a",
        "colab": {
          "base_uri": "https://localhost:8080/"
        }
      },
      "execution_count": 117,
      "outputs": [
        {
          "output_type": "execute_result",
          "data": {
            "text/plain": [
              "torch.Size([3, 2])"
            ]
          },
          "metadata": {},
          "execution_count": 117
        }
      ]
    },
    {
      "cell_type": "code",
      "source": [
        "tensor_b = torch.tensor([[1,2],[3,4],[5,6]])\n",
        "tensor_b.shape"
      ],
      "metadata": {
        "id": "jVzu3orrLjsS",
        "outputId": "1fb63160-7f03-4114-c697-b37243ac5703",
        "colab": {
          "base_uri": "https://localhost:8080/"
        }
      },
      "execution_count": 121,
      "outputs": [
        {
          "output_type": "execute_result",
          "data": {
            "text/plain": [
              "torch.Size([3, 2])"
            ]
          },
          "metadata": {},
          "execution_count": 121
        }
      ]
    },
    {
      "cell_type": "code",
      "source": [
        "tensor_b = tensor_b.T"
      ],
      "metadata": {
        "id": "QUpzA8WvLwn7"
      },
      "execution_count": 127,
      "outputs": []
    },
    {
      "cell_type": "code",
      "source": [
        "tensor_b = tensor_b.reshape(shape =(2,3))\n"
      ],
      "metadata": {
        "id": "fQrdlz-fML89"
      },
      "execution_count": 131,
      "outputs": []
    },
    {
      "cell_type": "code",
      "source": [
        "torch.matmul(tensor_a, tensor_b)"
      ],
      "metadata": {
        "id": "tiXXpiN7MTvm",
        "outputId": "b18a07be-d6b9-4ad4-c0ec-d9a42288e593",
        "colab": {
          "base_uri": "https://localhost:8080/"
        }
      },
      "execution_count": 132,
      "outputs": [
        {
          "output_type": "execute_result",
          "data": {
            "text/plain": [
              "tensor([[ 9, 12, 15],\n",
              "        [19, 26, 33],\n",
              "        [29, 40, 51]])"
            ]
          },
          "metadata": {},
          "execution_count": 132
        }
      ]
    },
    {
      "cell_type": "code",
      "source": [
        "# Finding min, max, mean and sum of Tensor Aggregation"
      ],
      "metadata": {
        "id": "hlUIQ-vNMZPm"
      },
      "execution_count": 133,
      "outputs": []
    },
    {
      "cell_type": "code",
      "source": [
        "torch.mean(tensor_a.type(torch.float32))"
      ],
      "metadata": {
        "id": "dd-eFZKrMyE5",
        "outputId": "0c91a4f3-4c77-4f8a-b138-8b4804c4018b",
        "colab": {
          "base_uri": "https://localhost:8080/"
        }
      },
      "execution_count": 143,
      "outputs": [
        {
          "output_type": "execute_result",
          "data": {
            "text/plain": [
              "tensor(3.5000)"
            ]
          },
          "metadata": {},
          "execution_count": 143
        }
      ]
    },
    {
      "cell_type": "code",
      "source": [
        "# Find the positional min and max of tensors"
      ],
      "metadata": {
        "id": "9LbOEGpSMzdJ"
      },
      "execution_count": 144,
      "outputs": []
    },
    {
      "cell_type": "code",
      "source": [
        "tensor_a.argmin()"
      ],
      "metadata": {
        "id": "tmvba5IlNVjf",
        "outputId": "b8e2855c-02f5-4df9-ff22-478266cdc97a",
        "colab": {
          "base_uri": "https://localhost:8080/"
        }
      },
      "execution_count": 145,
      "outputs": [
        {
          "output_type": "execute_result",
          "data": {
            "text/plain": [
              "tensor(0)"
            ]
          },
          "metadata": {},
          "execution_count": 145
        }
      ]
    },
    {
      "cell_type": "code",
      "source": [
        "tensor_a.argmax()"
      ],
      "metadata": {
        "id": "22_-rSMINYm6",
        "outputId": "e4be805d-4c21-4fc9-b611-04f289ee3e3a",
        "colab": {
          "base_uri": "https://localhost:8080/"
        }
      },
      "execution_count": 147,
      "outputs": [
        {
          "output_type": "execute_result",
          "data": {
            "text/plain": [
              "tensor(5)"
            ]
          },
          "metadata": {},
          "execution_count": 147
        }
      ]
    },
    {
      "cell_type": "code",
      "source": [
        "# Reshaping, viewing and stacking tensors"
      ],
      "metadata": {
        "id": "SI1wmBwkNaZD"
      },
      "execution_count": 148,
      "outputs": []
    },
    {
      "cell_type": "code",
      "source": [
        "tensor_a.reshape(shape = (2,3,1))"
      ],
      "metadata": {
        "id": "azdLJFhjNjYi",
        "outputId": "b5090caf-ba02-4f73-919f-d0f0ed7bbc4c",
        "colab": {
          "base_uri": "https://localhost:8080/"
        }
      },
      "execution_count": 154,
      "outputs": [
        {
          "output_type": "execute_result",
          "data": {
            "text/plain": [
              "tensor([[[1],\n",
              "         [2],\n",
              "         [3]],\n",
              "\n",
              "        [[4],\n",
              "         [5],\n",
              "         [6]]])"
            ]
          },
          "metadata": {},
          "execution_count": 154
        }
      ]
    },
    {
      "cell_type": "code",
      "source": [
        "tensor_a.shape"
      ],
      "metadata": {
        "id": "V8uPz7nYNpnF",
        "outputId": "0749cc9b-7035-44eb-b7a4-17dd64f55cc9",
        "colab": {
          "base_uri": "https://localhost:8080/"
        }
      },
      "execution_count": 150,
      "outputs": [
        {
          "output_type": "execute_result",
          "data": {
            "text/plain": [
              "torch.Size([3, 2])"
            ]
          },
          "metadata": {},
          "execution_count": 150
        }
      ]
    },
    {
      "cell_type": "code",
      "source": [
        "# Change the view"
      ],
      "metadata": {
        "id": "5ps1VfhzNsTw"
      },
      "execution_count": 155,
      "outputs": []
    },
    {
      "cell_type": "code",
      "source": [
        "z = tensor_a.view(1,6)\n",
        "z, z.shape"
      ],
      "metadata": {
        "id": "euWSLijNOCvc",
        "outputId": "60bd1e66-f2c8-486d-fb5d-8837079eac4f",
        "colab": {
          "base_uri": "https://localhost:8080/"
        }
      },
      "execution_count": 156,
      "outputs": [
        {
          "output_type": "execute_result",
          "data": {
            "text/plain": [
              "(tensor([[1, 2, 3, 4, 5, 6]]), torch.Size([1, 6]))"
            ]
          },
          "metadata": {},
          "execution_count": 156
        }
      ]
    },
    {
      "cell_type": "code",
      "source": [
        "z = tensor_a.view(1,6)"
      ],
      "metadata": {
        "id": "dfstnbOPOMop"
      },
      "execution_count": 159,
      "outputs": []
    },
    {
      "cell_type": "code",
      "source": [
        "z == tensor_a"
      ],
      "metadata": {
        "id": "Mr-iwRtiOPhf",
        "outputId": "fbeebf50-9dae-481e-e161-2dc3c786a8ac",
        "colab": {
          "base_uri": "https://localhost:8080/"
        }
      },
      "execution_count": 161,
      "outputs": [
        {
          "output_type": "execute_result",
          "data": {
            "text/plain": [
              "tensor([[True, True],\n",
              "        [True, True],\n",
              "        [True, True]])"
            ]
          },
          "metadata": {},
          "execution_count": 161
        }
      ]
    },
    {
      "cell_type": "code",
      "source": [
        "# Stack Tensors on top of each other"
      ],
      "metadata": {
        "id": "0gMc6Ry8OVzX"
      },
      "execution_count": 162,
      "outputs": []
    },
    {
      "cell_type": "code",
      "source": [
        "tensor_a_stacked = torch.stack([tensor_a,tensor_a,tensor_a,tensor_a], dim=0)"
      ],
      "metadata": {
        "id": "MoLiifmgOcAd"
      },
      "execution_count": 168,
      "outputs": []
    },
    {
      "cell_type": "code",
      "source": [
        "tensor_a_stacked"
      ],
      "metadata": {
        "id": "id8r3YS8OlFS",
        "outputId": "d6270a54-f072-499c-d541-39f648105f32",
        "colab": {
          "base_uri": "https://localhost:8080/"
        }
      },
      "execution_count": 169,
      "outputs": [
        {
          "output_type": "execute_result",
          "data": {
            "text/plain": [
              "tensor([[[1, 2],\n",
              "         [3, 4],\n",
              "         [5, 6]],\n",
              "\n",
              "        [[1, 2],\n",
              "         [3, 4],\n",
              "         [5, 6]],\n",
              "\n",
              "        [[1, 2],\n",
              "         [3, 4],\n",
              "         [5, 6]],\n",
              "\n",
              "        [[1, 2],\n",
              "         [3, 4],\n",
              "         [5, 6]]])"
            ]
          },
          "metadata": {},
          "execution_count": 169
        }
      ]
    },
    {
      "cell_type": "code",
      "source": [
        "# Squezzing, unsquezzing and permuting tensors"
      ],
      "metadata": {
        "id": "ZQG1uK_dOmyJ"
      },
      "execution_count": 170,
      "outputs": []
    },
    {
      "cell_type": "code",
      "source": [
        "torch.unsqueeze(tensor_a, dim=0)"
      ],
      "metadata": {
        "id": "7o1CH_4AO7o9",
        "outputId": "a7c90f7b-c784-4d58-cb33-e6ba5a945646",
        "colab": {
          "base_uri": "https://localhost:8080/"
        }
      },
      "execution_count": 177,
      "outputs": [
        {
          "output_type": "execute_result",
          "data": {
            "text/plain": [
              "tensor([[[1, 2],\n",
              "         [3, 4],\n",
              "         [5, 6]]])"
            ]
          },
          "metadata": {},
          "execution_count": 177
        }
      ]
    },
    {
      "cell_type": "code",
      "source": [
        "x = torch.randn(2,3,5)\n",
        "x.size()\n",
        "\n",
        "torch.permute(x, (2,0,1)).size()"
      ],
      "metadata": {
        "id": "hO0zGJ7qO_I1",
        "outputId": "6840ecd4-519b-43e4-a51b-12acd73f7f99",
        "colab": {
          "base_uri": "https://localhost:8080/"
        }
      },
      "execution_count": 180,
      "outputs": [
        {
          "output_type": "execute_result",
          "data": {
            "text/plain": [
              "torch.Size([5, 2, 3])"
            ]
          },
          "metadata": {},
          "execution_count": 180
        }
      ]
    },
    {
      "cell_type": "code",
      "source": [
        "X_original = torch.randn(size =(224,224,3))"
      ],
      "metadata": {
        "id": "E9XnurKaPlq2"
      },
      "execution_count": 181,
      "outputs": []
    },
    {
      "cell_type": "code",
      "source": [
        "X_original"
      ],
      "metadata": {
        "id": "1dTiCAQ0P-yZ",
        "outputId": "0be430ed-1787-464d-ffdf-752f2e30871b",
        "colab": {
          "base_uri": "https://localhost:8080/"
        }
      },
      "execution_count": 182,
      "outputs": [
        {
          "output_type": "execute_result",
          "data": {
            "text/plain": [
              "tensor([[[ 1.0737, -1.5447,  2.2001],\n",
              "         [-0.3277,  0.9254, -0.0220],\n",
              "         [ 1.0071,  2.9336, -0.3487],\n",
              "         ...,\n",
              "         [ 0.7084, -0.3948, -0.1302],\n",
              "         [ 1.0882,  0.2639,  0.6447],\n",
              "         [-0.4045,  1.4234, -0.1257]],\n",
              "\n",
              "        [[ 0.9469, -1.2466,  0.5357],\n",
              "         [-0.1690,  0.1734,  0.9816],\n",
              "         [ 0.6505,  1.0289, -0.4936],\n",
              "         ...,\n",
              "         [-2.3960,  0.8059,  0.4194],\n",
              "         [-0.2217, -2.4616, -0.9614],\n",
              "         [-1.1061, -0.5018, -0.3760]],\n",
              "\n",
              "        [[ 2.0156,  2.8049,  0.0344],\n",
              "         [ 0.5210, -0.3934, -0.6056],\n",
              "         [-0.9780,  0.2496,  0.0234],\n",
              "         ...,\n",
              "         [-1.2960,  2.0503,  0.7608],\n",
              "         [ 0.5526, -1.5351, -0.6803],\n",
              "         [-0.5024, -0.5772,  0.4262]],\n",
              "\n",
              "        ...,\n",
              "\n",
              "        [[-0.1193, -1.0197, -2.0384],\n",
              "         [-0.2191,  0.2255, -0.0031],\n",
              "         [-0.2994, -0.8131, -0.1283],\n",
              "         ...,\n",
              "         [-1.0573,  0.6044,  0.4545],\n",
              "         [-0.6942, -1.9804, -0.9232],\n",
              "         [ 0.6365,  1.6102, -0.3453]],\n",
              "\n",
              "        [[-1.1306,  0.7671,  0.7264],\n",
              "         [-0.2311, -0.5296,  2.0798],\n",
              "         [-1.1286, -1.0777, -1.1740],\n",
              "         ...,\n",
              "         [-0.9166, -1.5515, -0.1587],\n",
              "         [-0.0528,  0.5519, -1.2595],\n",
              "         [ 0.1257, -0.6254, -0.2149]],\n",
              "\n",
              "        [[-0.6991,  0.6882,  0.0724],\n",
              "         [ 0.3233, -0.4777,  1.0095],\n",
              "         [-0.8848, -1.5333, -1.2770],\n",
              "         ...,\n",
              "         [-0.2747, -0.1723,  0.1914],\n",
              "         [-1.0238,  1.2259,  0.0903],\n",
              "         [ 0.3595, -0.6596,  0.9486]]])"
            ]
          },
          "metadata": {},
          "execution_count": 182
        }
      ]
    },
    {
      "cell_type": "code",
      "source": [
        "X_permuted = X_original.permute(2,0,1)"
      ],
      "metadata": {
        "id": "rhn1NjKSQBTJ"
      },
      "execution_count": 184,
      "outputs": []
    },
    {
      "cell_type": "code",
      "source": [
        "X_permuted.shape"
      ],
      "metadata": {
        "id": "khaU8EjRQO4Q",
        "outputId": "3a317c91-fdd3-44db-b567-0f31a053ae60",
        "colab": {
          "base_uri": "https://localhost:8080/"
        }
      },
      "execution_count": 185,
      "outputs": [
        {
          "output_type": "execute_result",
          "data": {
            "text/plain": [
              "torch.Size([3, 224, 224])"
            ]
          },
          "metadata": {},
          "execution_count": 185
        }
      ]
    },
    {
      "cell_type": "code",
      "source": [
        "X_original.shape"
      ],
      "metadata": {
        "id": "YhpZ_R9wQWyY",
        "outputId": "b37edde2-e7ee-4092-eadb-125630342b8b",
        "colab": {
          "base_uri": "https://localhost:8080/"
        }
      },
      "execution_count": 186,
      "outputs": [
        {
          "output_type": "execute_result",
          "data": {
            "text/plain": [
              "torch.Size([224, 224, 3])"
            ]
          },
          "metadata": {},
          "execution_count": 186
        }
      ]
    },
    {
      "cell_type": "code",
      "source": [
        "# Selecting data from tensors"
      ],
      "metadata": {
        "id": "imxYjM0iQZSP"
      },
      "execution_count": 187,
      "outputs": []
    },
    {
      "cell_type": "code",
      "source": [
        "# Indexing (selecting data from tensors)\n",
        "\n",
        "# Indexing in tesnors in similar like array in numpy"
      ],
      "metadata": {
        "id": "mV_6iFNMQf5J"
      },
      "execution_count": 188,
      "outputs": []
    },
    {
      "cell_type": "code",
      "source": [
        "x = torch.arange(1,10).reshape(1,3,3)"
      ],
      "metadata": {
        "id": "gcRj_2x8Q1k1"
      },
      "execution_count": 191,
      "outputs": []
    },
    {
      "cell_type": "code",
      "source": [
        "x"
      ],
      "metadata": {
        "id": "L7IA7zDTQ-5W",
        "outputId": "95568409-3441-4613-9f68-abd435d0d065",
        "colab": {
          "base_uri": "https://localhost:8080/"
        }
      },
      "execution_count": 192,
      "outputs": [
        {
          "output_type": "execute_result",
          "data": {
            "text/plain": [
              "tensor([[[1, 2, 3],\n",
              "         [4, 5, 6],\n",
              "         [7, 8, 9]]])"
            ]
          },
          "metadata": {},
          "execution_count": 192
        }
      ]
    },
    {
      "cell_type": "code",
      "source": [
        "# lets index"
      ],
      "metadata": {
        "id": "2BKEERSRQ_Ov"
      },
      "execution_count": 193,
      "outputs": []
    },
    {
      "cell_type": "code",
      "source": [
        "x[:][0][0]"
      ],
      "metadata": {
        "id": "kUIs-cWQRGq3",
        "outputId": "e9239d41-59c5-49c3-a998-1bb329d2728d",
        "colab": {
          "base_uri": "https://localhost:8080/"
        }
      },
      "execution_count": 197,
      "outputs": [
        {
          "output_type": "execute_result",
          "data": {
            "text/plain": [
              "tensor([1, 2, 3])"
            ]
          },
          "metadata": {},
          "execution_count": 197
        }
      ]
    },
    {
      "cell_type": "code",
      "source": [
        "# get index from 0th abd 1st dimension and all values of 2nd dimension"
      ],
      "metadata": {
        "id": "SVDChwZLRHVc"
      },
      "execution_count": 198,
      "outputs": []
    },
    {
      "cell_type": "code",
      "source": [
        "x[0][2][2]"
      ],
      "metadata": {
        "id": "o5E6Uoy0RYu8",
        "outputId": "4bd7c71d-3b12-4f67-efdc-9a12c6820efe",
        "colab": {
          "base_uri": "https://localhost:8080/"
        }
      },
      "execution_count": 202,
      "outputs": [
        {
          "output_type": "execute_result",
          "data": {
            "text/plain": [
              "tensor(9)"
            ]
          },
          "metadata": {},
          "execution_count": 202
        }
      ]
    },
    {
      "cell_type": "code",
      "source": [
        "x[:,:,2]"
      ],
      "metadata": {
        "id": "7GZkvszWRbo0",
        "outputId": "29b7b405-4f53-4744-f287-067e7b932387",
        "colab": {
          "base_uri": "https://localhost:8080/"
        }
      },
      "execution_count": 226,
      "outputs": [
        {
          "output_type": "execute_result",
          "data": {
            "text/plain": [
              "tensor([[3, 6, 9]])"
            ]
          },
          "metadata": {},
          "execution_count": 226
        }
      ]
    },
    {
      "cell_type": "code",
      "source": [
        "# Pytorch Reproducbility\n"
      ],
      "metadata": {
        "id": "Xv3D5v_1Rmbn"
      },
      "execution_count": 228,
      "outputs": []
    },
    {
      "cell_type": "code",
      "source": [
        "torch.rand(2,2)\n",
        "torch.manual_seed(42\n",
        "                  )"
      ],
      "metadata": {
        "id": "sZD3WsIdSYYG",
        "outputId": "e94ac7ac-315f-4e51-8f1f-7b817b96243c",
        "colab": {
          "base_uri": "https://localhost:8080/"
        }
      },
      "execution_count": 233,
      "outputs": [
        {
          "output_type": "execute_result",
          "data": {
            "text/plain": [
              "<torch._C.Generator at 0x7844b81b56f0>"
            ]
          },
          "metadata": {},
          "execution_count": 233
        }
      ]
    },
    {
      "cell_type": "code",
      "source": [
        "# Acessing gpu in pytorch"
      ],
      "metadata": {
        "id": "KKBcqACeSrNq"
      },
      "execution_count": 234,
      "outputs": []
    },
    {
      "cell_type": "code",
      "source": [
        "import torch\n",
        "torch.cuda.is_available()"
      ],
      "metadata": {
        "id": "Is9jdivETQw9",
        "outputId": "803c2e78-0ec2-4bf4-a530-208527a8a2f6",
        "colab": {
          "base_uri": "https://localhost:8080/"
        }
      },
      "execution_count": 235,
      "outputs": [
        {
          "output_type": "execute_result",
          "data": {
            "text/plain": [
              "True"
            ]
          },
          "metadata": {},
          "execution_count": 235
        }
      ]
    },
    {
      "cell_type": "code",
      "source": [
        "# Setup device agnostic code"
      ],
      "metadata": {
        "id": "pgKgLwXHT01P"
      },
      "execution_count": 237,
      "outputs": []
    },
    {
      "cell_type": "code",
      "source": [
        "device = \"cuda\" if torch.cuda.is_available() else \"cpu\""
      ],
      "metadata": {
        "id": "XlQtQbyJT6c_"
      },
      "execution_count": 238,
      "outputs": []
    },
    {
      "cell_type": "code",
      "source": [
        "device"
      ],
      "metadata": {
        "id": "gKduU1YUUJLC",
        "outputId": "7eac17ad-15e3-4045-ab36-82f00c81d5ef",
        "colab": {
          "base_uri": "https://localhost:8080/",
          "height": 35
        }
      },
      "execution_count": 239,
      "outputs": [
        {
          "output_type": "execute_result",
          "data": {
            "text/plain": [
              "'cuda'"
            ],
            "application/vnd.google.colaboratory.intrinsic+json": {
              "type": "string"
            }
          },
          "metadata": {},
          "execution_count": 239
        }
      ]
    },
    {
      "cell_type": "code",
      "source": [
        "torch.cuda.device_count()"
      ],
      "metadata": {
        "id": "5wNGkO19UKgG",
        "outputId": "bb869820-bb5e-468e-a3b4-54e59f9ac373",
        "colab": {
          "base_uri": "https://localhost:8080/"
        }
      },
      "execution_count": 240,
      "outputs": [
        {
          "output_type": "execute_result",
          "data": {
            "text/plain": [
              "1"
            ]
          },
          "metadata": {},
          "execution_count": 240
        }
      ]
    },
    {
      "cell_type": "code",
      "source": [
        "# Exercies"
      ],
      "metadata": {
        "id": "I8ppWGVEUSHo"
      },
      "execution_count": 241,
      "outputs": []
    },
    {
      "cell_type": "code",
      "source": [
        "rand = torch.rand(size = (7,7   ))\n",
        "rand.shape"
      ],
      "metadata": {
        "id": "eVs5DqaGUmCq",
        "outputId": "33d7069c-2c64-4f46-f5aa-11ea7f00523e",
        "colab": {
          "base_uri": "https://localhost:8080/"
        }
      },
      "execution_count": 249,
      "outputs": [
        {
          "output_type": "execute_result",
          "data": {
            "text/plain": [
              "torch.Size([7, 7])"
            ]
          },
          "metadata": {},
          "execution_count": 249
        }
      ]
    },
    {
      "cell_type": "code",
      "source": [
        "rand2 = torch.rand(size = (1,7   )).reshape(7,1)\n",
        "rand2.shape"
      ],
      "metadata": {
        "id": "nT3dJKSvU422",
        "outputId": "3814d062-17d3-4582-b7ec-bb90d52fc6be",
        "colab": {
          "base_uri": "https://localhost:8080/"
        }
      },
      "execution_count": 251,
      "outputs": [
        {
          "output_type": "execute_result",
          "data": {
            "text/plain": [
              "torch.Size([7, 1])"
            ]
          },
          "metadata": {},
          "execution_count": 251
        }
      ]
    },
    {
      "cell_type": "code",
      "source": [
        "torch.matmul(rand, rand2)"
      ],
      "metadata": {
        "id": "GAYtCye4VHdJ",
        "outputId": "0f2460eb-3764-4f84-f876-7b8bdbe5c2a4",
        "colab": {
          "base_uri": "https://localhost:8080/"
        }
      },
      "execution_count": 252,
      "outputs": [
        {
          "output_type": "execute_result",
          "data": {
            "text/plain": [
              "tensor([[1.5815],\n",
              "        [1.4061],\n",
              "        [1.0741],\n",
              "        [1.6700],\n",
              "        [1.8314],\n",
              "        [1.3191],\n",
              "        [1.0933]])"
            ]
          },
          "metadata": {},
          "execution_count": 252
        }
      ]
    },
    {
      "cell_type": "code",
      "source": [],
      "metadata": {
        "id": "zWGKAkGaVTJM"
      },
      "execution_count": null,
      "outputs": []
    }
  ]
}