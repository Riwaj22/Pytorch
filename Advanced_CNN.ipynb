{
  "nbformat": 4,
  "nbformat_minor": 0,
  "metadata": {
    "colab": {
      "provenance": [],
      "gpuType": "T4"
    },
    "kernelspec": {
      "name": "python3",
      "display_name": "Python 3"
    },
    "language_info": {
      "name": "python"
    },
    "accelerator": "GPU",
    "widgets": {
      "application/vnd.jupyter.widget-state+json": {
        "237cfff486bd4d5da186d6089e5381c5": {
          "model_module": "@jupyter-widgets/controls",
          "model_name": "HBoxModel",
          "model_module_version": "1.5.0",
          "state": {
            "_dom_classes": [],
            "_model_module": "@jupyter-widgets/controls",
            "_model_module_version": "1.5.0",
            "_model_name": "HBoxModel",
            "_view_count": null,
            "_view_module": "@jupyter-widgets/controls",
            "_view_module_version": "1.5.0",
            "_view_name": "HBoxView",
            "box_style": "",
            "children": [
              "IPY_MODEL_fc6c14b3b7b24152ae6dc7947e1b0216",
              "IPY_MODEL_150cd1aac4c14a10a50e3274d72c1249",
              "IPY_MODEL_cf29b326b2d9446d89225cf332d8a1cf"
            ],
            "layout": "IPY_MODEL_5377a07c70534f279d9505af97adaa7f"
          }
        },
        "fc6c14b3b7b24152ae6dc7947e1b0216": {
          "model_module": "@jupyter-widgets/controls",
          "model_name": "HTMLModel",
          "model_module_version": "1.5.0",
          "state": {
            "_dom_classes": [],
            "_model_module": "@jupyter-widgets/controls",
            "_model_module_version": "1.5.0",
            "_model_name": "HTMLModel",
            "_view_count": null,
            "_view_module": "@jupyter-widgets/controls",
            "_view_module_version": "1.5.0",
            "_view_name": "HTMLView",
            "description": "",
            "description_tooltip": null,
            "layout": "IPY_MODEL_fd53d9854aaa43968abd0a0ef97e755b",
            "placeholder": "​",
            "style": "IPY_MODEL_55f5c7d6f77d41a1bdaee5e9fe37fe85",
            "value": "Making Predictions...: 100%"
          }
        },
        "150cd1aac4c14a10a50e3274d72c1249": {
          "model_module": "@jupyter-widgets/controls",
          "model_name": "FloatProgressModel",
          "model_module_version": "1.5.0",
          "state": {
            "_dom_classes": [],
            "_model_module": "@jupyter-widgets/controls",
            "_model_module_version": "1.5.0",
            "_model_name": "FloatProgressModel",
            "_view_count": null,
            "_view_module": "@jupyter-widgets/controls",
            "_view_module_version": "1.5.0",
            "_view_name": "ProgressView",
            "bar_style": "success",
            "description": "",
            "description_tooltip": null,
            "layout": "IPY_MODEL_aaf82dbda7274d6495e3dadb54673d83",
            "max": 313,
            "min": 0,
            "orientation": "horizontal",
            "style": "IPY_MODEL_5d5b6497aa044293ada38a7a784fc9ec",
            "value": 313
          }
        },
        "cf29b326b2d9446d89225cf332d8a1cf": {
          "model_module": "@jupyter-widgets/controls",
          "model_name": "HTMLModel",
          "model_module_version": "1.5.0",
          "state": {
            "_dom_classes": [],
            "_model_module": "@jupyter-widgets/controls",
            "_model_module_version": "1.5.0",
            "_model_name": "HTMLModel",
            "_view_count": null,
            "_view_module": "@jupyter-widgets/controls",
            "_view_module_version": "1.5.0",
            "_view_name": "HTMLView",
            "description": "",
            "description_tooltip": null,
            "layout": "IPY_MODEL_c11a100422154e16b6162c54f413ff57",
            "placeholder": "​",
            "style": "IPY_MODEL_cb8a51b762ca40d19d4dee707e979317",
            "value": " 313/313 [00:02&lt;00:00, 150.41it/s]"
          }
        },
        "5377a07c70534f279d9505af97adaa7f": {
          "model_module": "@jupyter-widgets/base",
          "model_name": "LayoutModel",
          "model_module_version": "1.2.0",
          "state": {
            "_model_module": "@jupyter-widgets/base",
            "_model_module_version": "1.2.0",
            "_model_name": "LayoutModel",
            "_view_count": null,
            "_view_module": "@jupyter-widgets/base",
            "_view_module_version": "1.2.0",
            "_view_name": "LayoutView",
            "align_content": null,
            "align_items": null,
            "align_self": null,
            "border": null,
            "bottom": null,
            "display": null,
            "flex": null,
            "flex_flow": null,
            "grid_area": null,
            "grid_auto_columns": null,
            "grid_auto_flow": null,
            "grid_auto_rows": null,
            "grid_column": null,
            "grid_gap": null,
            "grid_row": null,
            "grid_template_areas": null,
            "grid_template_columns": null,
            "grid_template_rows": null,
            "height": null,
            "justify_content": null,
            "justify_items": null,
            "left": null,
            "margin": null,
            "max_height": null,
            "max_width": null,
            "min_height": null,
            "min_width": null,
            "object_fit": null,
            "object_position": null,
            "order": null,
            "overflow": null,
            "overflow_x": null,
            "overflow_y": null,
            "padding": null,
            "right": null,
            "top": null,
            "visibility": null,
            "width": null
          }
        },
        "fd53d9854aaa43968abd0a0ef97e755b": {
          "model_module": "@jupyter-widgets/base",
          "model_name": "LayoutModel",
          "model_module_version": "1.2.0",
          "state": {
            "_model_module": "@jupyter-widgets/base",
            "_model_module_version": "1.2.0",
            "_model_name": "LayoutModel",
            "_view_count": null,
            "_view_module": "@jupyter-widgets/base",
            "_view_module_version": "1.2.0",
            "_view_name": "LayoutView",
            "align_content": null,
            "align_items": null,
            "align_self": null,
            "border": null,
            "bottom": null,
            "display": null,
            "flex": null,
            "flex_flow": null,
            "grid_area": null,
            "grid_auto_columns": null,
            "grid_auto_flow": null,
            "grid_auto_rows": null,
            "grid_column": null,
            "grid_gap": null,
            "grid_row": null,
            "grid_template_areas": null,
            "grid_template_columns": null,
            "grid_template_rows": null,
            "height": null,
            "justify_content": null,
            "justify_items": null,
            "left": null,
            "margin": null,
            "max_height": null,
            "max_width": null,
            "min_height": null,
            "min_width": null,
            "object_fit": null,
            "object_position": null,
            "order": null,
            "overflow": null,
            "overflow_x": null,
            "overflow_y": null,
            "padding": null,
            "right": null,
            "top": null,
            "visibility": null,
            "width": null
          }
        },
        "55f5c7d6f77d41a1bdaee5e9fe37fe85": {
          "model_module": "@jupyter-widgets/controls",
          "model_name": "DescriptionStyleModel",
          "model_module_version": "1.5.0",
          "state": {
            "_model_module": "@jupyter-widgets/controls",
            "_model_module_version": "1.5.0",
            "_model_name": "DescriptionStyleModel",
            "_view_count": null,
            "_view_module": "@jupyter-widgets/base",
            "_view_module_version": "1.2.0",
            "_view_name": "StyleView",
            "description_width": ""
          }
        },
        "aaf82dbda7274d6495e3dadb54673d83": {
          "model_module": "@jupyter-widgets/base",
          "model_name": "LayoutModel",
          "model_module_version": "1.2.0",
          "state": {
            "_model_module": "@jupyter-widgets/base",
            "_model_module_version": "1.2.0",
            "_model_name": "LayoutModel",
            "_view_count": null,
            "_view_module": "@jupyter-widgets/base",
            "_view_module_version": "1.2.0",
            "_view_name": "LayoutView",
            "align_content": null,
            "align_items": null,
            "align_self": null,
            "border": null,
            "bottom": null,
            "display": null,
            "flex": null,
            "flex_flow": null,
            "grid_area": null,
            "grid_auto_columns": null,
            "grid_auto_flow": null,
            "grid_auto_rows": null,
            "grid_column": null,
            "grid_gap": null,
            "grid_row": null,
            "grid_template_areas": null,
            "grid_template_columns": null,
            "grid_template_rows": null,
            "height": null,
            "justify_content": null,
            "justify_items": null,
            "left": null,
            "margin": null,
            "max_height": null,
            "max_width": null,
            "min_height": null,
            "min_width": null,
            "object_fit": null,
            "object_position": null,
            "order": null,
            "overflow": null,
            "overflow_x": null,
            "overflow_y": null,
            "padding": null,
            "right": null,
            "top": null,
            "visibility": null,
            "width": null
          }
        },
        "5d5b6497aa044293ada38a7a784fc9ec": {
          "model_module": "@jupyter-widgets/controls",
          "model_name": "ProgressStyleModel",
          "model_module_version": "1.5.0",
          "state": {
            "_model_module": "@jupyter-widgets/controls",
            "_model_module_version": "1.5.0",
            "_model_name": "ProgressStyleModel",
            "_view_count": null,
            "_view_module": "@jupyter-widgets/base",
            "_view_module_version": "1.2.0",
            "_view_name": "StyleView",
            "bar_color": null,
            "description_width": ""
          }
        },
        "c11a100422154e16b6162c54f413ff57": {
          "model_module": "@jupyter-widgets/base",
          "model_name": "LayoutModel",
          "model_module_version": "1.2.0",
          "state": {
            "_model_module": "@jupyter-widgets/base",
            "_model_module_version": "1.2.0",
            "_model_name": "LayoutModel",
            "_view_count": null,
            "_view_module": "@jupyter-widgets/base",
            "_view_module_version": "1.2.0",
            "_view_name": "LayoutView",
            "align_content": null,
            "align_items": null,
            "align_self": null,
            "border": null,
            "bottom": null,
            "display": null,
            "flex": null,
            "flex_flow": null,
            "grid_area": null,
            "grid_auto_columns": null,
            "grid_auto_flow": null,
            "grid_auto_rows": null,
            "grid_column": null,
            "grid_gap": null,
            "grid_row": null,
            "grid_template_areas": null,
            "grid_template_columns": null,
            "grid_template_rows": null,
            "height": null,
            "justify_content": null,
            "justify_items": null,
            "left": null,
            "margin": null,
            "max_height": null,
            "max_width": null,
            "min_height": null,
            "min_width": null,
            "object_fit": null,
            "object_position": null,
            "order": null,
            "overflow": null,
            "overflow_x": null,
            "overflow_y": null,
            "padding": null,
            "right": null,
            "top": null,
            "visibility": null,
            "width": null
          }
        },
        "cb8a51b762ca40d19d4dee707e979317": {
          "model_module": "@jupyter-widgets/controls",
          "model_name": "DescriptionStyleModel",
          "model_module_version": "1.5.0",
          "state": {
            "_model_module": "@jupyter-widgets/controls",
            "_model_module_version": "1.5.0",
            "_model_name": "DescriptionStyleModel",
            "_view_count": null,
            "_view_module": "@jupyter-widgets/base",
            "_view_module_version": "1.2.0",
            "_view_name": "StyleView",
            "description_width": ""
          }
        }
      }
    }
  },
  "cells": [
    {
      "cell_type": "code",
      "execution_count": 1,
      "metadata": {
        "id": "OF_gBqOWR6ni"
      },
      "outputs": [],
      "source": [
        "import numpy as np\n",
        "import torch\n",
        "from torch import nn\n",
        "import pandas as pd\n",
        "from matplotlib import pyplot as plt\n",
        "import sklearn\n",
        "from sklearn.model_selection import train_test_split\n",
        "import torchvision\n",
        "from torchvision import transforms, datasets\n",
        "from torchvision.transforms import ToTensor"
      ]
    },
    {
      "cell_type": "code",
      "source": [
        "# Setup training data\n",
        "\n",
        "train_data = datasets.FashionMNIST(\n",
        "    root = \"data\",\n",
        "    train= True,\n",
        "    download = True,\n",
        "    transform = ToTensor(),\n",
        "    target_transform = None\n",
        "\n",
        ")\n",
        "\n",
        "test_data = datasets.FashionMNIST(\n",
        "    root = \"data\",\n",
        "    train= False,\n",
        "    download = True,\n",
        "    transform = ToTensor(),\n",
        "    target_transform = None\n",
        "\n",
        ")"
      ],
      "metadata": {
        "colab": {
          "base_uri": "https://localhost:8080/"
        },
        "id": "sNYF2bUaSBIK",
        "outputId": "e276205a-79cf-47cd-b619-1bbb645f1564"
      },
      "execution_count": 2,
      "outputs": [
        {
          "output_type": "stream",
          "name": "stdout",
          "text": [
            "Downloading http://fashion-mnist.s3-website.eu-central-1.amazonaws.com/train-images-idx3-ubyte.gz\n",
            "Downloading http://fashion-mnist.s3-website.eu-central-1.amazonaws.com/train-images-idx3-ubyte.gz to data/FashionMNIST/raw/train-images-idx3-ubyte.gz\n"
          ]
        },
        {
          "output_type": "stream",
          "name": "stderr",
          "text": [
            "100%|██████████| 26421880/26421880 [00:01<00:00, 17497033.26it/s]\n"
          ]
        },
        {
          "output_type": "stream",
          "name": "stdout",
          "text": [
            "Extracting data/FashionMNIST/raw/train-images-idx3-ubyte.gz to data/FashionMNIST/raw\n",
            "\n",
            "Downloading http://fashion-mnist.s3-website.eu-central-1.amazonaws.com/train-labels-idx1-ubyte.gz\n",
            "Downloading http://fashion-mnist.s3-website.eu-central-1.amazonaws.com/train-labels-idx1-ubyte.gz to data/FashionMNIST/raw/train-labels-idx1-ubyte.gz\n"
          ]
        },
        {
          "output_type": "stream",
          "name": "stderr",
          "text": [
            "100%|██████████| 29515/29515 [00:00<00:00, 301681.94it/s]\n"
          ]
        },
        {
          "output_type": "stream",
          "name": "stdout",
          "text": [
            "Extracting data/FashionMNIST/raw/train-labels-idx1-ubyte.gz to data/FashionMNIST/raw\n",
            "\n",
            "Downloading http://fashion-mnist.s3-website.eu-central-1.amazonaws.com/t10k-images-idx3-ubyte.gz\n",
            "Downloading http://fashion-mnist.s3-website.eu-central-1.amazonaws.com/t10k-images-idx3-ubyte.gz to data/FashionMNIST/raw/t10k-images-idx3-ubyte.gz\n"
          ]
        },
        {
          "output_type": "stream",
          "name": "stderr",
          "text": [
            "100%|██████████| 4422102/4422102 [00:00<00:00, 5620405.03it/s]\n"
          ]
        },
        {
          "output_type": "stream",
          "name": "stdout",
          "text": [
            "Extracting data/FashionMNIST/raw/t10k-images-idx3-ubyte.gz to data/FashionMNIST/raw\n",
            "\n",
            "Downloading http://fashion-mnist.s3-website.eu-central-1.amazonaws.com/t10k-labels-idx1-ubyte.gz\n",
            "Downloading http://fashion-mnist.s3-website.eu-central-1.amazonaws.com/t10k-labels-idx1-ubyte.gz to data/FashionMNIST/raw/t10k-labels-idx1-ubyte.gz\n"
          ]
        },
        {
          "output_type": "stream",
          "name": "stderr",
          "text": [
            "100%|██████████| 5148/5148 [00:00<00:00, 6044870.38it/s]"
          ]
        },
        {
          "output_type": "stream",
          "name": "stdout",
          "text": [
            "Extracting data/FashionMNIST/raw/t10k-labels-idx1-ubyte.gz to data/FashionMNIST/raw\n",
            "\n"
          ]
        },
        {
          "output_type": "stream",
          "name": "stderr",
          "text": [
            "\n"
          ]
        }
      ]
    },
    {
      "cell_type": "code",
      "source": [
        "train_data, test_data"
      ],
      "metadata": {
        "colab": {
          "base_uri": "https://localhost:8080/"
        },
        "id": "AhNTFQN5Sbr8",
        "outputId": "fb6e47c6-78dc-44f0-f84c-a484981f855f"
      },
      "execution_count": 3,
      "outputs": [
        {
          "output_type": "execute_result",
          "data": {
            "text/plain": [
              "(Dataset FashionMNIST\n",
              "     Number of datapoints: 60000\n",
              "     Root location: data\n",
              "     Split: Train\n",
              "     StandardTransform\n",
              " Transform: ToTensor(),\n",
              " Dataset FashionMNIST\n",
              "     Number of datapoints: 10000\n",
              "     Root location: data\n",
              "     Split: Test\n",
              "     StandardTransform\n",
              " Transform: ToTensor())"
            ]
          },
          "metadata": {},
          "execution_count": 3
        }
      ]
    },
    {
      "cell_type": "code",
      "source": [
        "image, label = train_data[0]"
      ],
      "metadata": {
        "id": "Y_62MriTSeJn"
      },
      "execution_count": 4,
      "outputs": []
    },
    {
      "cell_type": "code",
      "source": [
        "image, label"
      ],
      "metadata": {
        "colab": {
          "base_uri": "https://localhost:8080/"
        },
        "id": "D0kRu9w6SfTE",
        "outputId": "b5d761d1-84e6-48df-bf9b-7ca8573d010d"
      },
      "execution_count": 7,
      "outputs": [
        {
          "output_type": "execute_result",
          "data": {
            "text/plain": [
              "(tensor([[[0.0000, 0.0000, 0.0000, 0.0000, 0.0000, 0.0000, 0.0000, 0.0000,\n",
              "           0.0000, 0.0000, 0.0000, 0.0000, 0.0000, 0.0000, 0.0000, 0.0000,\n",
              "           0.0000, 0.0000, 0.0000, 0.0000, 0.0000, 0.0000, 0.0000, 0.0000,\n",
              "           0.0000, 0.0000, 0.0000, 0.0000],\n",
              "          [0.0000, 0.0000, 0.0000, 0.0000, 0.0000, 0.0000, 0.0000, 0.0000,\n",
              "           0.0000, 0.0000, 0.0000, 0.0000, 0.0000, 0.0000, 0.0000, 0.0000,\n",
              "           0.0000, 0.0000, 0.0000, 0.0000, 0.0000, 0.0000, 0.0000, 0.0000,\n",
              "           0.0000, 0.0000, 0.0000, 0.0000],\n",
              "          [0.0000, 0.0000, 0.0000, 0.0000, 0.0000, 0.0000, 0.0000, 0.0000,\n",
              "           0.0000, 0.0000, 0.0000, 0.0000, 0.0000, 0.0000, 0.0000, 0.0000,\n",
              "           0.0000, 0.0000, 0.0000, 0.0000, 0.0000, 0.0000, 0.0000, 0.0000,\n",
              "           0.0000, 0.0000, 0.0000, 0.0000],\n",
              "          [0.0000, 0.0000, 0.0000, 0.0000, 0.0000, 0.0000, 0.0000, 0.0000,\n",
              "           0.0000, 0.0000, 0.0000, 0.0000, 0.0039, 0.0000, 0.0000, 0.0510,\n",
              "           0.2863, 0.0000, 0.0000, 0.0039, 0.0157, 0.0000, 0.0000, 0.0000,\n",
              "           0.0000, 0.0039, 0.0039, 0.0000],\n",
              "          [0.0000, 0.0000, 0.0000, 0.0000, 0.0000, 0.0000, 0.0000, 0.0000,\n",
              "           0.0000, 0.0000, 0.0000, 0.0000, 0.0118, 0.0000, 0.1412, 0.5333,\n",
              "           0.4980, 0.2431, 0.2118, 0.0000, 0.0000, 0.0000, 0.0039, 0.0118,\n",
              "           0.0157, 0.0000, 0.0000, 0.0118],\n",
              "          [0.0000, 0.0000, 0.0000, 0.0000, 0.0000, 0.0000, 0.0000, 0.0000,\n",
              "           0.0000, 0.0000, 0.0000, 0.0000, 0.0235, 0.0000, 0.4000, 0.8000,\n",
              "           0.6902, 0.5255, 0.5647, 0.4824, 0.0902, 0.0000, 0.0000, 0.0000,\n",
              "           0.0000, 0.0471, 0.0392, 0.0000],\n",
              "          [0.0000, 0.0000, 0.0000, 0.0000, 0.0000, 0.0000, 0.0000, 0.0000,\n",
              "           0.0000, 0.0000, 0.0000, 0.0000, 0.0000, 0.0000, 0.6078, 0.9255,\n",
              "           0.8118, 0.6980, 0.4196, 0.6118, 0.6314, 0.4275, 0.2510, 0.0902,\n",
              "           0.3020, 0.5098, 0.2824, 0.0588],\n",
              "          [0.0000, 0.0000, 0.0000, 0.0000, 0.0000, 0.0000, 0.0000, 0.0000,\n",
              "           0.0000, 0.0000, 0.0000, 0.0039, 0.0000, 0.2706, 0.8118, 0.8745,\n",
              "           0.8549, 0.8471, 0.8471, 0.6392, 0.4980, 0.4745, 0.4784, 0.5725,\n",
              "           0.5529, 0.3451, 0.6745, 0.2588],\n",
              "          [0.0000, 0.0000, 0.0000, 0.0000, 0.0000, 0.0000, 0.0000, 0.0000,\n",
              "           0.0000, 0.0039, 0.0039, 0.0039, 0.0000, 0.7843, 0.9098, 0.9098,\n",
              "           0.9137, 0.8980, 0.8745, 0.8745, 0.8431, 0.8353, 0.6431, 0.4980,\n",
              "           0.4824, 0.7686, 0.8980, 0.0000],\n",
              "          [0.0000, 0.0000, 0.0000, 0.0000, 0.0000, 0.0000, 0.0000, 0.0000,\n",
              "           0.0000, 0.0000, 0.0000, 0.0000, 0.0000, 0.7176, 0.8824, 0.8471,\n",
              "           0.8745, 0.8941, 0.9216, 0.8902, 0.8784, 0.8706, 0.8784, 0.8667,\n",
              "           0.8745, 0.9608, 0.6784, 0.0000],\n",
              "          [0.0000, 0.0000, 0.0000, 0.0000, 0.0000, 0.0000, 0.0000, 0.0000,\n",
              "           0.0000, 0.0000, 0.0000, 0.0000, 0.0000, 0.7569, 0.8941, 0.8549,\n",
              "           0.8353, 0.7765, 0.7059, 0.8314, 0.8235, 0.8275, 0.8353, 0.8745,\n",
              "           0.8627, 0.9529, 0.7922, 0.0000],\n",
              "          [0.0000, 0.0000, 0.0000, 0.0000, 0.0000, 0.0000, 0.0000, 0.0000,\n",
              "           0.0000, 0.0039, 0.0118, 0.0000, 0.0471, 0.8588, 0.8627, 0.8314,\n",
              "           0.8549, 0.7529, 0.6627, 0.8902, 0.8157, 0.8549, 0.8784, 0.8314,\n",
              "           0.8863, 0.7725, 0.8196, 0.2039],\n",
              "          [0.0000, 0.0000, 0.0000, 0.0000, 0.0000, 0.0000, 0.0000, 0.0000,\n",
              "           0.0000, 0.0000, 0.0235, 0.0000, 0.3882, 0.9569, 0.8706, 0.8627,\n",
              "           0.8549, 0.7961, 0.7765, 0.8667, 0.8431, 0.8353, 0.8706, 0.8627,\n",
              "           0.9608, 0.4667, 0.6549, 0.2196],\n",
              "          [0.0000, 0.0000, 0.0000, 0.0000, 0.0000, 0.0000, 0.0000, 0.0000,\n",
              "           0.0000, 0.0157, 0.0000, 0.0000, 0.2157, 0.9255, 0.8941, 0.9020,\n",
              "           0.8941, 0.9412, 0.9098, 0.8353, 0.8549, 0.8745, 0.9176, 0.8510,\n",
              "           0.8510, 0.8196, 0.3608, 0.0000],\n",
              "          [0.0000, 0.0000, 0.0039, 0.0157, 0.0235, 0.0275, 0.0078, 0.0000,\n",
              "           0.0000, 0.0000, 0.0000, 0.0000, 0.9294, 0.8863, 0.8510, 0.8745,\n",
              "           0.8706, 0.8588, 0.8706, 0.8667, 0.8471, 0.8745, 0.8980, 0.8431,\n",
              "           0.8549, 1.0000, 0.3020, 0.0000],\n",
              "          [0.0000, 0.0118, 0.0000, 0.0000, 0.0000, 0.0000, 0.0000, 0.0000,\n",
              "           0.0000, 0.2431, 0.5686, 0.8000, 0.8941, 0.8118, 0.8353, 0.8667,\n",
              "           0.8549, 0.8157, 0.8275, 0.8549, 0.8784, 0.8745, 0.8588, 0.8431,\n",
              "           0.8784, 0.9569, 0.6235, 0.0000],\n",
              "          [0.0000, 0.0000, 0.0000, 0.0000, 0.0706, 0.1725, 0.3216, 0.4196,\n",
              "           0.7412, 0.8941, 0.8627, 0.8706, 0.8510, 0.8863, 0.7843, 0.8039,\n",
              "           0.8275, 0.9020, 0.8784, 0.9176, 0.6902, 0.7373, 0.9804, 0.9725,\n",
              "           0.9137, 0.9333, 0.8431, 0.0000],\n",
              "          [0.0000, 0.2235, 0.7333, 0.8157, 0.8784, 0.8667, 0.8784, 0.8157,\n",
              "           0.8000, 0.8392, 0.8157, 0.8196, 0.7843, 0.6235, 0.9608, 0.7569,\n",
              "           0.8078, 0.8745, 1.0000, 1.0000, 0.8667, 0.9176, 0.8667, 0.8275,\n",
              "           0.8627, 0.9098, 0.9647, 0.0000],\n",
              "          [0.0118, 0.7922, 0.8941, 0.8784, 0.8667, 0.8275, 0.8275, 0.8392,\n",
              "           0.8039, 0.8039, 0.8039, 0.8627, 0.9412, 0.3137, 0.5882, 1.0000,\n",
              "           0.8980, 0.8667, 0.7373, 0.6039, 0.7490, 0.8235, 0.8000, 0.8196,\n",
              "           0.8706, 0.8941, 0.8824, 0.0000],\n",
              "          [0.3843, 0.9137, 0.7765, 0.8235, 0.8706, 0.8980, 0.8980, 0.9176,\n",
              "           0.9765, 0.8627, 0.7608, 0.8431, 0.8510, 0.9451, 0.2549, 0.2863,\n",
              "           0.4157, 0.4588, 0.6588, 0.8588, 0.8667, 0.8431, 0.8510, 0.8745,\n",
              "           0.8745, 0.8784, 0.8980, 0.1137],\n",
              "          [0.2941, 0.8000, 0.8314, 0.8000, 0.7569, 0.8039, 0.8275, 0.8824,\n",
              "           0.8471, 0.7255, 0.7725, 0.8078, 0.7765, 0.8353, 0.9412, 0.7647,\n",
              "           0.8902, 0.9608, 0.9373, 0.8745, 0.8549, 0.8314, 0.8196, 0.8706,\n",
              "           0.8627, 0.8667, 0.9020, 0.2627],\n",
              "          [0.1882, 0.7961, 0.7176, 0.7608, 0.8353, 0.7725, 0.7255, 0.7451,\n",
              "           0.7608, 0.7529, 0.7922, 0.8392, 0.8588, 0.8667, 0.8627, 0.9255,\n",
              "           0.8824, 0.8471, 0.7804, 0.8078, 0.7294, 0.7098, 0.6941, 0.6745,\n",
              "           0.7098, 0.8039, 0.8078, 0.4510],\n",
              "          [0.0000, 0.4784, 0.8588, 0.7569, 0.7020, 0.6706, 0.7176, 0.7686,\n",
              "           0.8000, 0.8235, 0.8353, 0.8118, 0.8275, 0.8235, 0.7843, 0.7686,\n",
              "           0.7608, 0.7490, 0.7647, 0.7490, 0.7765, 0.7529, 0.6902, 0.6118,\n",
              "           0.6549, 0.6941, 0.8235, 0.3608],\n",
              "          [0.0000, 0.0000, 0.2902, 0.7412, 0.8314, 0.7490, 0.6863, 0.6745,\n",
              "           0.6863, 0.7098, 0.7255, 0.7373, 0.7412, 0.7373, 0.7569, 0.7765,\n",
              "           0.8000, 0.8196, 0.8235, 0.8235, 0.8275, 0.7373, 0.7373, 0.7608,\n",
              "           0.7529, 0.8471, 0.6667, 0.0000],\n",
              "          [0.0078, 0.0000, 0.0000, 0.0000, 0.2588, 0.7843, 0.8706, 0.9294,\n",
              "           0.9373, 0.9490, 0.9647, 0.9529, 0.9569, 0.8667, 0.8627, 0.7569,\n",
              "           0.7490, 0.7020, 0.7137, 0.7137, 0.7098, 0.6902, 0.6510, 0.6588,\n",
              "           0.3882, 0.2275, 0.0000, 0.0000],\n",
              "          [0.0000, 0.0000, 0.0000, 0.0000, 0.0000, 0.0000, 0.0000, 0.1569,\n",
              "           0.2392, 0.1725, 0.2824, 0.1608, 0.1373, 0.0000, 0.0000, 0.0000,\n",
              "           0.0000, 0.0000, 0.0000, 0.0000, 0.0000, 0.0000, 0.0000, 0.0000,\n",
              "           0.0000, 0.0000, 0.0000, 0.0000],\n",
              "          [0.0000, 0.0000, 0.0000, 0.0000, 0.0000, 0.0000, 0.0000, 0.0000,\n",
              "           0.0000, 0.0000, 0.0000, 0.0000, 0.0000, 0.0000, 0.0000, 0.0000,\n",
              "           0.0000, 0.0000, 0.0000, 0.0000, 0.0000, 0.0000, 0.0000, 0.0000,\n",
              "           0.0000, 0.0000, 0.0000, 0.0000],\n",
              "          [0.0000, 0.0000, 0.0000, 0.0000, 0.0000, 0.0000, 0.0000, 0.0000,\n",
              "           0.0000, 0.0000, 0.0000, 0.0000, 0.0000, 0.0000, 0.0000, 0.0000,\n",
              "           0.0000, 0.0000, 0.0000, 0.0000, 0.0000, 0.0000, 0.0000, 0.0000,\n",
              "           0.0000, 0.0000, 0.0000, 0.0000]]]),\n",
              " 9)"
            ]
          },
          "metadata": {},
          "execution_count": 7
        }
      ]
    },
    {
      "cell_type": "code",
      "source": [
        "class_name =train_data.classes\n",
        "print(class_name)"
      ],
      "metadata": {
        "colab": {
          "base_uri": "https://localhost:8080/"
        },
        "id": "IHYnk5ejSgTD",
        "outputId": "40626691-642a-4a7a-fdd0-fe5cfa589105"
      },
      "execution_count": 6,
      "outputs": [
        {
          "output_type": "stream",
          "name": "stdout",
          "text": [
            "['T-shirt/top', 'Trouser', 'Pullover', 'Dress', 'Coat', 'Sandal', 'Shirt', 'Sneaker', 'Bag', 'Ankle boot']\n"
          ]
        }
      ]
    },
    {
      "cell_type": "code",
      "source": [
        "# plot more images\n",
        "\n",
        "# torch.manual_seed(42)\n",
        "fig = plt.figure(figsize =(9,9))\n",
        "rows, cols = 4,4\n",
        "for i in range(1, rows*cols+1):\n",
        "  random_idx = torch.randint(0, len(train_data), size =[1]).item()\n",
        "  img, label = train_data[random_idx]\n",
        "  fig.add_subplot(rows, cols, i)\n",
        "  plt.imshow(img.squeeze(), cmap= \"gray\")\n",
        "  plt.title(class_name[label])\n",
        "  plt.axis(False)"
      ],
      "metadata": {
        "colab": {
          "base_uri": "https://localhost:8080/",
          "height": 752
        },
        "id": "xnBzl8CbSibG",
        "outputId": "cb3f361b-645e-41cc-d3ef-aa6d765d9acc"
      },
      "execution_count": 8,
      "outputs": [
        {
          "output_type": "display_data",
          "data": {
            "text/plain": [
              "<Figure size 900x900 with 16 Axes>"
            ],
            "image/png": "[encoded data removed]"
          },
          "metadata": {}
        }
      ]
    },
    {
      "cell_type": "code",
      "source": [
        "from torch.utils.data import DataLoader\n",
        "\n",
        "train_data_loader = DataLoader(dataset= train_data,\n",
        "                               batch_size = 32,\n",
        "                               shuffle = True)\n",
        "\n",
        "test_data_loader = DataLoader(dataset = test_data,\n",
        "                              batch_size =32,\n",
        "                              shuffle = False)\n",
        "\n",
        "train_data_loader,"
      ],
      "metadata": {
        "colab": {
          "base_uri": "https://localhost:8080/"
        },
        "id": "9sB6BfZaSll6",
        "outputId": "8cd19218-b9d5-4af9-ecb4-297f3d491176"
      },
      "execution_count": 9,
      "outputs": [
        {
          "output_type": "execute_result",
          "data": {
            "text/plain": [
              "(<torch.utils.data.dataloader.DataLoader at 0x7ecebc4e8a00>,)"
            ]
          },
          "metadata": {},
          "execution_count": 9
        }
      ]
    },
    {
      "cell_type": "code",
      "source": [
        "from torch import nn\n",
        "\n",
        "class FashionMNISTModelV0(nn.Module):\n",
        "    def __init__(\n",
        "        self,\n",
        "        input_shape: int,\n",
        "        hidden_units: int,\n",
        "        output_shape: int,\n",
        "    ):\n",
        "        super(FashionMNISTModelV0, self).__init__()\n",
        "        self.layer_stack = nn.Sequential(\n",
        "            nn.Flatten(),\n",
        "            nn.Linear(in_features=input_shape, out_features=hidden_units),\n",
        "            nn.Linear(in_features=hidden_units, out_features=output_shape)\n",
        "        )\n",
        "\n",
        "    def forward(self, x):\n",
        "        return self.layer_stack(x)\n"
      ],
      "metadata": {
        "id": "tc8YwuNdSm7L"
      },
      "execution_count": 11,
      "outputs": []
    },
    {
      "cell_type": "code",
      "source": [
        "torch.manual_seed(42)\n",
        "\n",
        "model_0 = FashionMNISTModelV0(\n",
        "    input_shape = 28 *28,\n",
        "    hidden_units =10,\n",
        "    output_shape = len(class_name)\n",
        ")\n",
        "\n",
        "model_0.to(\"cuda\")\n",
        "\n",
        "model_0"
      ],
      "metadata": {
        "colab": {
          "base_uri": "https://localhost:8080/"
        },
        "id": "mdMH8_3PSolM",
        "outputId": "151d7295-7f9b-4bec-ed11-453ea27ac0d4"
      },
      "execution_count": 12,
      "outputs": [
        {
          "output_type": "execute_result",
          "data": {
            "text/plain": [
              "FashionMNISTModelV0(\n",
              "  (layer_stack): Sequential(\n",
              "    (0): Flatten(start_dim=1, end_dim=-1)\n",
              "    (1): Linear(in_features=784, out_features=10, bias=True)\n",
              "    (2): Linear(in_features=10, out_features=10, bias=True)\n",
              "  )\n",
              ")"
            ]
          },
          "metadata": {},
          "execution_count": 12
        }
      ]
    },
    {
      "cell_type": "code",
      "source": [
        "model_0.state_dict()"
      ],
      "metadata": {
        "id": "4toNQNwDSvCU"
      },
      "execution_count": null,
      "outputs": []
    },
    {
      "cell_type": "code",
      "source": [
        "import requests\n",
        "from pathlib import Path\n",
        "\n",
        "if Path(\"helper_functions.py\").is_file():\n",
        "  print(\"Helper function already exists\")\n",
        "else:\n",
        "  print(\"Downloading file\")\n",
        "  request = requests.get(\"https://raw.githubusercontent.com/mrdbourke/pytorch-deep-learning/main/helper_functions.py\")\n",
        "  with open(\"helper_function.py\", \"wb\") as f:\n",
        "    f.write(request.content)\n",
        "\n",
        "\n"
      ],
      "metadata": {
        "colab": {
          "base_uri": "https://localhost:8080/"
        },
        "id": "ONUlkLiUSxNw",
        "outputId": "bcb7cd63-b0dd-4161-8ce9-4ba9c25197a7"
      },
      "execution_count": 14,
      "outputs": [
        {
          "output_type": "stream",
          "name": "stdout",
          "text": [
            "Downloading file\n"
          ]
        }
      ]
    },
    {
      "cell_type": "code",
      "source": [
        "# import accuracy metric\n",
        "\n",
        "from helper_function import accuracy_fn"
      ],
      "metadata": {
        "id": "zadjZL98Syhn"
      },
      "execution_count": 15,
      "outputs": []
    },
    {
      "cell_type": "code",
      "source": [
        "loss_fn = nn.CrossEntropyLoss()\n",
        "optimizer = torch.optim.SGD(params = model1.parameters(),lr =0.1)"
      ],
      "metadata": {
        "id": "b2zdWTdhSzyx"
      },
      "execution_count": 66,
      "outputs": []
    },
    {
      "cell_type": "code",
      "source": [
        "from sklearn.metrics import precision_recall_fscore_support\n",
        "\n",
        "def eval_model(model: torch.nn.Module,\n",
        "               data_loader: torch.utils.data.DataLoader,\n",
        "               loss_fn: torch.nn.Module,\n",
        "               accuracy_fn):\n",
        "\n",
        "    loss, acc = 0, 0\n",
        "    all_true_labels, all_predicted_labels = [], []\n",
        "\n",
        "    model.eval()\n",
        "    with torch.inference_mode():\n",
        "        for X, y in data_loader:\n",
        "            X = X.to(\"cuda\")\n",
        "            y = y.to(\"cuda\")\n",
        "            y_pred = model(X)\n",
        "\n",
        "            # Use detach() to avoid in-place update error\n",
        "            loss += loss_fn(y_pred, y).detach()\n",
        "            acc += accuracy_fn(y_true=y, y_pred=y_pred.argmax(dim=1))\n",
        "\n",
        "            all_true_labels.extend(y.cpu().numpy())\n",
        "            all_predicted_labels.extend(y_pred.argmax(dim=1).cpu().numpy())\n",
        "\n",
        "        # Scale loss and acc to find the average loss/acc per batch\n",
        "        loss /= len(data_loader)\n",
        "        acc /= len(data_loader)\n",
        "\n",
        "    # Calculate Precision, Recall, and F1\n",
        "    precision, recall, f1, _ = precision_recall_fscore_support(\n",
        "        all_true_labels, all_predicted_labels, average='weighted', zero_division=0\n",
        "    )\n",
        "\n",
        "    return {\n",
        "        \"model_name\": model.__class__.__name__,\n",
        "        \"model_loss\": loss.item(),\n",
        "        \"model_acc\": acc,\n",
        "        \"precision\": precision,\n",
        "        \"recall\": recall,\n",
        "        \"f1\": f1\n",
        "    }\n"
      ],
      "metadata": {
        "id": "qaiaaxl5S5LH"
      },
      "execution_count": 61,
      "outputs": []
    },
    {
      "cell_type": "code",
      "source": [
        "model_0_results = eval_model(model1, test_data_loader,\n",
        "                             loss_fn, accuracy_fn)\n",
        "model_0_results"
      ],
      "metadata": {
        "colab": {
          "base_uri": "https://localhost:8080/"
        },
        "id": "4P79rS69S05G",
        "outputId": "9e348df8-4c66-4812-d483-742541cdb90b"
      },
      "execution_count": 62,
      "outputs": [
        {
          "output_type": "execute_result",
          "data": {
            "text/plain": [
              "{'model_name': 'Sequential',\n",
              " 'model_loss': 6.591240406036377,\n",
              " 'model_acc': 0.16972843450479233,\n",
              " 'precision': 0.04,\n",
              " 'recall': 0.0016,\n",
              " 'f1': 0.0030769230769230765}"
            ]
          },
          "metadata": {},
          "execution_count": 62
        }
      ]
    },
    {
      "cell_type": "code",
      "source": [
        "\n",
        "def train_step(model: torch.nn.Module,\n",
        "               data_loader: torch.utils.data.DataLoader,\n",
        "               loss_fn: torch.nn.Module,\n",
        "               optimizer: torch.optim.Optimizer,\n",
        "               accuracy_fn,\n",
        "               device: torch.device = device):\n",
        "    train_loss, train_acc = 0, 0\n",
        "    for batch, (X, y) in enumerate(data_loader):\n",
        "        # Send data to GPU\n",
        "        X, y = X.to(device), y.to(device)\n",
        "\n",
        "        # 1. Forward pass\n",
        "        y_pred = model(X)\n",
        "\n",
        "        # 2. Calculate loss\n",
        "        loss = loss_fn(y_pred, y)\n",
        "        train_loss += loss\n",
        "        train_acc += accuracy_fn(y_true=y,\n",
        "                                 y_pred=y_pred.argmax(dim=1)) # Go from logits -> pred labels\n",
        "\n",
        "        # 3. Optimizer zero grad\n",
        "        optimizer.zero_grad()\n",
        "\n",
        "        # 4. Loss backward\n",
        "        loss.backward()\n",
        "\n",
        "        # 5. Optimizer step\n",
        "        optimizer.step()\n",
        "\n",
        "    # Calculate loss and accuracy per epoch and print out what's happening\n",
        "    train_loss /= len(data_loader)\n",
        "    train_acc /= len(data_loader)\n",
        "    print(f\"Train loss: {train_loss:.5f} | Train accuracy: {train_acc:.2f}%\")\n",
        "\n",
        "def test_step(data_loader: torch.utils.data.DataLoader,\n",
        "              model: torch.nn.Module,\n",
        "              loss_fn: torch.nn.Module,\n",
        "              accuracy_fn,\n",
        "              device: torch.device = device):\n",
        "    test_loss, test_acc = 0, 0\n",
        "    model.eval() # put model in eval mode\n",
        "    # Turn on inference context manager\n",
        "    with torch.inference_mode():\n",
        "        for X, y in data_loader:\n",
        "            # Send data to GPU\n",
        "            X, y = X.to(device), y.to(device)\n",
        "\n",
        "            # 1. Forward pass\n",
        "            test_pred = model(X)\n",
        "\n",
        "            # 2. Calculate loss and accuracy\n",
        "            test_loss += loss_fn(test_pred, y)\n",
        "            test_acc += accuracy_fn(y_true=y,\n",
        "                y_pred=test_pred.argmax(dim=1) # Go from logits -> pred labels\n",
        "            )\n",
        "\n",
        "        # Adjust metrics and print out\n",
        "        test_loss /= len(data_loader)\n",
        "        test_acc /= len(data_loader)\n",
        "        print(f\"Test loss: {test_loss:.5f} | Test accuracy: {test_acc:.2f}%\\n\")"
      ],
      "metadata": {
        "id": "e-583qk3S2I5"
      },
      "execution_count": 63,
      "outputs": []
    },
    {
      "cell_type": "code",
      "source": [
        "torch.manual_seed(42)\n",
        "from tqdm import tqdm\n",
        "epochs = 10\n",
        "\n",
        "\n",
        "# device = \"cuda\" if torch.cuda.is_available() else \"cpu\"\n",
        "# Move the model to the desired device before the training loop\n",
        "# model1 = model1.to(device)\n",
        "\n",
        "for epoch in tqdm(range(epochs)):\n",
        "    print(f\"Epoch: {epoch}\")\n",
        "\n",
        "    train_step(model=model1, data_loader=train_data_loader,\n",
        "               loss_fn=loss_fn, optimizer=optimizer,\n",
        "               accuracy_fn=accuracy_fn, device=device)\n",
        "\n",
        "    test_step(model=model1, data_loader=test_data_loader,\n",
        "              loss_fn=loss_fn, accuracy_fn=accuracy_fn,\n",
        "              device=device)\n"
      ],
      "metadata": {
        "colab": {
          "base_uri": "https://localhost:8080/"
        },
        "id": "Uy43yQ6AS_cQ",
        "outputId": "096e5db6-6cf1-4c97-f5ad-e43941203532"
      },
      "execution_count": 70,
      "outputs": [
        {
          "output_type": "stream",
          "name": "stderr",
          "text": [
            "\r  0%|          | 0/10 [00:00<?, ?it/s]"
          ]
        },
        {
          "output_type": "stream",
          "name": "stdout",
          "text": [
            "Epoch: 0\n",
            "Train loss: 0.43082 | Train accuracy: 84.65%\n"
          ]
        },
        {
          "output_type": "stream",
          "name": "stderr",
          "text": [
            "\r 10%|█         | 1/10 [00:12<01:48, 12.09s/it]"
          ]
        },
        {
          "output_type": "stream",
          "name": "stdout",
          "text": [
            "Test loss: 0.45603 | Test accuracy: 84.48%\n",
            "\n",
            "Epoch: 1\n",
            "Train loss: 0.42347 | Train accuracy: 84.83%\n"
          ]
        },
        {
          "output_type": "stream",
          "name": "stderr",
          "text": [
            "\r 20%|██        | 2/10 [00:22<01:27, 10.88s/it]"
          ]
        },
        {
          "output_type": "stream",
          "name": "stdout",
          "text": [
            "Test loss: 0.46193 | Test accuracy: 84.12%\n",
            "\n",
            "Epoch: 2\n",
            "Train loss: 0.41529 | Train accuracy: 85.23%\n"
          ]
        },
        {
          "output_type": "stream",
          "name": "stderr",
          "text": [
            "\r 30%|███       | 3/10 [00:31<01:11, 10.26s/it]"
          ]
        },
        {
          "output_type": "stream",
          "name": "stdout",
          "text": [
            "Test loss: 0.46443 | Test accuracy: 83.88%\n",
            "\n",
            "Epoch: 3\n",
            "Train loss: 0.40958 | Train accuracy: 85.22%\n"
          ]
        },
        {
          "output_type": "stream",
          "name": "stderr",
          "text": [
            "\r 40%|████      | 4/10 [00:41<01:01, 10.18s/it]"
          ]
        },
        {
          "output_type": "stream",
          "name": "stdout",
          "text": [
            "Test loss: 0.46448 | Test accuracy: 83.73%\n",
            "\n",
            "Epoch: 4\n",
            "Train loss: 0.40621 | Train accuracy: 85.34%\n"
          ]
        },
        {
          "output_type": "stream",
          "name": "stderr",
          "text": [
            "\r 50%|█████     | 5/10 [00:51<00:50, 10.13s/it]"
          ]
        },
        {
          "output_type": "stream",
          "name": "stdout",
          "text": [
            "Test loss: 0.46556 | Test accuracy: 83.46%\n",
            "\n",
            "Epoch: 5\n",
            "Train loss: 0.40147 | Train accuracy: 85.64%\n"
          ]
        },
        {
          "output_type": "stream",
          "name": "stderr",
          "text": [
            "\r 60%|██████    | 6/10 [01:09<00:50, 12.59s/it]"
          ]
        },
        {
          "output_type": "stream",
          "name": "stdout",
          "text": [
            "Test loss: 0.47532 | Test accuracy: 83.28%\n",
            "\n",
            "Epoch: 6\n",
            "Train loss: 0.39779 | Train accuracy: 85.70%\n"
          ]
        },
        {
          "output_type": "stream",
          "name": "stderr",
          "text": [
            "\r 70%|███████   | 7/10 [01:24<00:40, 13.49s/it]"
          ]
        },
        {
          "output_type": "stream",
          "name": "stdout",
          "text": [
            "Test loss: 0.44895 | Test accuracy: 84.13%\n",
            "\n",
            "Epoch: 7\n",
            "Train loss: 0.39561 | Train accuracy: 85.72%\n"
          ]
        },
        {
          "output_type": "stream",
          "name": "stderr",
          "text": [
            "\r 80%|████████  | 8/10 [01:43<00:30, 15.41s/it]"
          ]
        },
        {
          "output_type": "stream",
          "name": "stdout",
          "text": [
            "Test loss: 0.43957 | Test accuracy: 84.26%\n",
            "\n",
            "Epoch: 8\n",
            "Train loss: 0.39350 | Train accuracy: 85.78%\n"
          ]
        },
        {
          "output_type": "stream",
          "name": "stderr",
          "text": [
            "\r 90%|█████████ | 9/10 [01:59<00:15, 15.37s/it]"
          ]
        },
        {
          "output_type": "stream",
          "name": "stdout",
          "text": [
            "Test loss: 0.44228 | Test accuracy: 84.60%\n",
            "\n",
            "Epoch: 9\n",
            "Train loss: 0.39200 | Train accuracy: 85.84%\n"
          ]
        },
        {
          "output_type": "stream",
          "name": "stderr",
          "text": [
            "100%|██████████| 10/10 [02:15<00:00, 13.58s/it]"
          ]
        },
        {
          "output_type": "stream",
          "name": "stdout",
          "text": [
            "Test loss: 0.43928 | Test accuracy: 84.50%\n",
            "\n"
          ]
        },
        {
          "output_type": "stream",
          "name": "stderr",
          "text": [
            "\n"
          ]
        }
      ]
    },
    {
      "cell_type": "code",
      "source": [
        "# Buliding CNN"
      ],
      "metadata": {
        "id": "S_aw9JveTAe5"
      },
      "execution_count": 29,
      "outputs": []
    },
    {
      "cell_type": "code",
      "source": [
        "model1 = nn.Sequential(\n",
        "    nn.Flatten(),\n",
        "    nn.Linear(in_features=784,out_features=10),\n",
        "    nn.ReLU(),\n",
        "    nn.Linear(in_features=10,out_features=784),\n",
        "    nn.ReLU()\n",
        "\n",
        ")\n"
      ],
      "metadata": {
        "id": "hKFmGoxYVWaf"
      },
      "execution_count": 65,
      "outputs": []
    },
    {
      "cell_type": "code",
      "source": [
        "model1.to(\"cuda\")"
      ],
      "metadata": {
        "colab": {
          "base_uri": "https://localhost:8080/"
        },
        "id": "5dD1H9gIXpbI",
        "outputId": "f2d06062-ef6a-41b5-a050-69344bd10451"
      },
      "execution_count": 68,
      "outputs": [
        {
          "output_type": "execute_result",
          "data": {
            "text/plain": [
              "Sequential(\n",
              "  (0): Flatten(start_dim=1, end_dim=-1)\n",
              "  (1): Linear(in_features=784, out_features=10, bias=True)\n",
              "  (2): ReLU()\n",
              "  (3): Linear(in_features=10, out_features=784, bias=True)\n",
              "  (4): ReLU()\n",
              ")"
            ]
          },
          "metadata": {},
          "execution_count": 68
        }
      ]
    },
    {
      "cell_type": "code",
      "source": [
        "import torch.nn as nn\n",
        "\n",
        "class FashionMNISTModelV2(nn.Module):\n",
        "\n",
        "    def __init__(self, input_shape:int, hidden_units:int, output_shape:int):\n",
        "        super().__init__()\n",
        "        self.conv_block1 = nn.Sequential(\n",
        "            nn.Conv2d(in_channels=input_shape,\n",
        "                      out_channels=hidden_units,\n",
        "                      kernel_size=3,\n",
        "                      stride=1, padding=1),\n",
        "            nn.ReLU(),\n",
        "\n",
        "            nn.Conv2d(in_channels=hidden_units,\n",
        "                      out_channels=hidden_units,\n",
        "                      kernel_size=3,\n",
        "                      stride=1, padding=1),\n",
        "            nn.ReLU(),\n",
        "\n",
        "            nn.MaxPool2d(kernel_size=2)\n",
        "        )\n",
        "\n",
        "        self.conv_block2 = nn.Sequential(\n",
        "            nn.Conv2d(in_channels=hidden_units,\n",
        "                      out_channels=hidden_units,\n",
        "                      kernel_size=3,\n",
        "                      stride=1, padding=1),\n",
        "            nn.ReLU(),\n",
        "\n",
        "            nn.Conv2d(in_channels=hidden_units,\n",
        "                      out_channels=hidden_units,\n",
        "                      kernel_size=3,\n",
        "                      stride=1, padding=1),\n",
        "            nn.ReLU(),\n",
        "\n",
        "            nn.MaxPool2d(kernel_size=2)\n",
        "        )\n",
        "\n",
        "        self.classifier = nn.Sequential(\n",
        "            nn.Flatten(),\n",
        "            nn.Linear(in_features=hidden_units*7*7 ,  # You may want to fix this line\n",
        "                      out_features=output_shape)\n",
        "        )\n",
        "\n",
        "    def forward(self, x):\n",
        "        x = self.conv_block1(x)\n",
        "        # print(x.shape)\n",
        "        x = self.conv_block2(x)\n",
        "        # print(x.shape)\n",
        "        x = self.classifier(x)\n",
        "        # print(x.shape)\n",
        "        return x\n"
      ],
      "metadata": {
        "id": "UEfMQ2FlXqMf"
      },
      "execution_count": 118,
      "outputs": []
    },
    {
      "cell_type": "code",
      "source": [
        "torch.manual_seed(42)\n",
        "model_2 = FashionMNISTModelV2(input_shape = 1,\n",
        "                              hidden_units = 10,\n",
        "                              output_shape = len(class_name)\n",
        "\n",
        "\n",
        "                              ).to(device)"
      ],
      "metadata": {
        "id": "7sI7ZSOVd-1F"
      },
      "execution_count": 119,
      "outputs": []
    },
    {
      "cell_type": "code",
      "source": [
        "image.shape"
      ],
      "metadata": {
        "colab": {
          "base_uri": "https://localhost:8080/"
        },
        "id": "aPsqfiUZebFT",
        "outputId": "99cea18e-60fb-435b-ae07-f2dc0ff7f101"
      },
      "execution_count": 110,
      "outputs": [
        {
          "output_type": "execute_result",
          "data": {
            "text/plain": [
              "torch.Size([1, 28, 28])"
            ]
          },
          "metadata": {},
          "execution_count": 110
        }
      ]
    },
    {
      "cell_type": "code",
      "source": [
        "torch.manual_seed(42)\n",
        "\n",
        "images = torch.randn(size = (32,3,64,64))\n",
        "test_image = images[0]\n",
        "print(test_image.shape)\n",
        "print(test_image)"
      ],
      "metadata": {
        "colab": {
          "base_uri": "https://localhost:8080/"
        },
        "id": "dL0hXdyEecGF",
        "outputId": "a94b6d8a-5805-4548-c00a-66665a1c880a"
      },
      "execution_count": 111,
      "outputs": [
        {
          "output_type": "stream",
          "name": "stdout",
          "text": [
            "torch.Size([3, 64, 64])\n",
            "tensor([[[ 1.9269,  1.4873,  0.9007,  ...,  1.8446, -1.1845,  1.3835],\n",
            "         [ 1.4451,  0.8564,  2.2181,  ...,  0.3399,  0.7200,  0.4114],\n",
            "         [ 1.9312,  1.0119, -1.4364,  ..., -0.5558,  0.7043,  0.7099],\n",
            "         ...,\n",
            "         [-0.5610, -0.4830,  0.4770,  ..., -0.2713, -0.9537, -0.6737],\n",
            "         [ 0.3076, -0.1277,  0.0366,  ..., -2.0060,  0.2824, -0.8111],\n",
            "         [-1.5486,  0.0485, -0.7712,  ..., -0.1403,  0.9416, -0.0118]],\n",
            "\n",
            "        [[-0.5197,  1.8524,  1.8365,  ...,  0.8935, -1.5114, -0.8515],\n",
            "         [ 2.0818,  1.0677, -1.4277,  ...,  1.6612, -2.6223, -0.4319],\n",
            "         [-0.1010, -0.4388, -1.9775,  ...,  0.2106,  0.2536, -0.7318],\n",
            "         ...,\n",
            "         [ 0.2779,  0.7342, -0.3736,  ..., -0.4601,  0.1815,  0.1850],\n",
            "         [ 0.7205, -0.2833,  0.0937,  ..., -0.1002, -2.3609,  2.2465],\n",
            "         [-1.3242, -0.1973,  0.2920,  ...,  0.5409,  0.6940,  1.8563]],\n",
            "\n",
            "        [[-0.7978,  1.0261,  1.1465,  ...,  1.2134,  0.9354, -0.0780],\n",
            "         [-1.4647, -1.9571,  0.1017,  ..., -1.9986, -0.7409,  0.7011],\n",
            "         [-1.3938,  0.8466, -1.7191,  ..., -1.1867,  0.1320,  0.3407],\n",
            "         ...,\n",
            "         [ 0.8206, -0.3745,  1.2499,  ..., -0.0676,  0.0385,  0.6335],\n",
            "         [-0.5589, -0.3393,  0.2347,  ...,  2.1181,  2.4569,  1.3083],\n",
            "         [-0.4092,  1.5199,  0.2401,  ..., -0.2558,  0.7870,  0.9924]]])\n"
          ]
        }
      ]
    },
    {
      "cell_type": "code",
      "source": [
        "test_image.shape"
      ],
      "metadata": {
        "colab": {
          "base_uri": "https://localhost:8080/"
        },
        "id": "V60-E2BufvLD",
        "outputId": "b0c18e80-6510-464e-b82a-89c5df9c6610"
      },
      "execution_count": 112,
      "outputs": [
        {
          "output_type": "execute_result",
          "data": {
            "text/plain": [
              "torch.Size([3, 64, 64])"
            ]
          },
          "metadata": {},
          "execution_count": 112
        }
      ]
    },
    {
      "cell_type": "code",
      "source": [
        "# create a single conv2d layer\n",
        "\n",
        "conv_layer = nn.Conv2d(in_channels =3,\n",
        "                       out_channels = 10,\n",
        "                       kernel_size = 3,\n",
        "                       stride =1 , padding=0\n",
        "                       )\n",
        "\n",
        "# Pass the data\n",
        "\n",
        "conv_output = conv_layer(test_image)\n",
        "print(conv_output.shape)"
      ],
      "metadata": {
        "colab": {
          "base_uri": "https://localhost:8080/"
        },
        "id": "LJjw054Gfzrk",
        "outputId": "92a842fc-e200-4c27-a917-5b1697017095"
      },
      "execution_count": 113,
      "outputs": [
        {
          "output_type": "stream",
          "name": "stdout",
          "text": [
            "torch.Size([10, 62, 62])\n"
          ]
        }
      ]
    },
    {
      "cell_type": "code",
      "source": [
        "plt.imshow(image.squeeze(), cmap= \"gray\")"
      ],
      "metadata": {
        "colab": {
          "base_uri": "https://localhost:8080/",
          "height": 447
        },
        "id": "HJFsl9V4heOY",
        "outputId": "e0722bca-ec14-47e1-f082-1ce9e7ca79a2"
      },
      "execution_count": 114,
      "outputs": [
        {
          "output_type": "execute_result",
          "data": {
            "text/plain": [
              "<matplotlib.image.AxesImage at 0x7eceb011e500>"
            ]
          },
          "metadata": {},
          "execution_count": 114
        },
        {
          "output_type": "display_data",
          "data": {
            "text/plain": [
              "<Figure size 640x480 with 1 Axes>"
            ],
            "image/png": "[encoded data removed]"
          },
          "metadata": {}
        }
      ]
    },
    {
      "cell_type": "code",
      "source": [
        "rand_image_tensor = torch.randn(size =(1,28,28))\n",
        "rand_image_tensor.to(device)\n"
      ],
      "metadata": {
        "id": "y3qe83ogjAPK"
      },
      "execution_count": null,
      "outputs": []
    },
    {
      "cell_type": "code",
      "source": [
        "device = torch.device('cuda:0' if torch.cuda.is_available() else 'cpu')\n",
        "\n",
        "# Move the model to the specified device\n",
        "model_2.to(device)\n",
        "\n",
        "# Generate a random image tensor\n",
        "rand_image_tensor =rand_image_tensor.to(device)\n",
        "\n",
        "# Ensure the model and input tensor are on the same device\n",
        "model_output = model_2(rand_image_tensor.unsqueeze(0))"
      ],
      "metadata": {
        "colab": {
          "base_uri": "https://localhost:8080/"
        },
        "id": "AJ8aAEoUjNfY",
        "outputId": "d0cf7738-5286-49d3-9eb9-216d0b80ee2b"
      },
      "execution_count": 116,
      "outputs": [
        {
          "output_type": "stream",
          "name": "stdout",
          "text": [
            "torch.Size([1, 10, 14, 14])\n",
            "torch.Size([1, 10, 7, 7])\n",
            "torch.Size([1, 10])\n"
          ]
        }
      ]
    },
    {
      "cell_type": "code",
      "source": [
        "loss_fn = nn.CrossEntropyLoss()\n",
        "optimizer = torch.optim.SGD(params = model_2.parameters(),\n",
        "                            lr =0.1)"
      ],
      "metadata": {
        "id": "f32Frlknjt8O"
      },
      "execution_count": 120,
      "outputs": []
    },
    {
      "cell_type": "code",
      "source": [
        "import torch\n",
        "from tqdm import tqdm\n",
        "import time\n",
        "\n",
        "torch.manual_seed(42)\n",
        "\n",
        "# Define your model, loss function, optimizer, and data loaders\n",
        "\n",
        "epochs = 10\n",
        "device = \"cuda\" if torch.cuda.is_available() else \"cpu\"\n",
        "\n",
        "# Move the model to the desired device before the training loop\n",
        "model_2 = model_2.to(device)\n",
        "\n",
        "start_time = time.time()\n",
        "\n",
        "for epoch in tqdm(range(epochs)):\n",
        "    print(f\"Epoch: {epoch}\")\n",
        "\n",
        "    # Train step\n",
        "    train_step(model=model_2, data_loader=train_data_loader,\n",
        "               loss_fn=loss_fn, optimizer=optimizer,\n",
        "               accuracy_fn=accuracy_fn, device=device)\n",
        "\n",
        "    # Test step\n",
        "    test_step(model=model_2, data_loader=test_data_loader,\n",
        "              loss_fn=loss_fn, accuracy_fn=accuracy_fn,\n",
        "              device=device)\n",
        "\n",
        "end_time = time.time()\n",
        "elapsed_time = end_time - start_time\n",
        "\n",
        "print(f\"Training took {elapsed_time:.2f} seconds\")\n"
      ],
      "metadata": {
        "colab": {
          "base_uri": "https://localhost:8080/"
        },
        "id": "-Fqv5Ow9mrg8",
        "outputId": "d4a2b27f-4c60-4a77-8304-b92daa55be07"
      },
      "execution_count": 122,
      "outputs": [
        {
          "output_type": "stream",
          "name": "stderr",
          "text": [
            "\r  0%|          | 0/10 [00:00<?, ?it/s]"
          ]
        },
        {
          "output_type": "stream",
          "name": "stdout",
          "text": [
            "Epoch: 0\n",
            "Train loss: 0.30408 | Train accuracy: 88.96%\n"
          ]
        },
        {
          "output_type": "stream",
          "name": "stderr",
          "text": [
            "\r 10%|█         | 1/10 [00:13<01:57, 13.09s/it]"
          ]
        },
        {
          "output_type": "stream",
          "name": "stdout",
          "text": [
            "Test loss: 0.32814 | Test accuracy: 88.29%\n",
            "\n",
            "Epoch: 1\n",
            "Train loss: 0.28933 | Train accuracy: 89.56%\n"
          ]
        },
        {
          "output_type": "stream",
          "name": "stderr",
          "text": [
            "\r 20%|██        | 2/10 [00:25<01:39, 12.46s/it]"
          ]
        },
        {
          "output_type": "stream",
          "name": "stdout",
          "text": [
            "Test loss: 0.30341 | Test accuracy: 89.10%\n",
            "\n",
            "Epoch: 2\n",
            "Train loss: 0.28206 | Train accuracy: 89.80%\n"
          ]
        },
        {
          "output_type": "stream",
          "name": "stderr",
          "text": [
            "\r 30%|███       | 3/10 [00:37<01:25, 12.28s/it]"
          ]
        },
        {
          "output_type": "stream",
          "name": "stdout",
          "text": [
            "Test loss: 0.30518 | Test accuracy: 88.85%\n",
            "\n",
            "Epoch: 3\n",
            "Train loss: 0.27249 | Train accuracy: 90.13%\n"
          ]
        },
        {
          "output_type": "stream",
          "name": "stderr",
          "text": [
            "\r 40%|████      | 4/10 [00:52<01:20, 13.41s/it]"
          ]
        },
        {
          "output_type": "stream",
          "name": "stdout",
          "text": [
            "Test loss: 0.30744 | Test accuracy: 89.13%\n",
            "\n",
            "Epoch: 4\n",
            "Train loss: 0.26510 | Train accuracy: 90.43%\n"
          ]
        },
        {
          "output_type": "stream",
          "name": "stderr",
          "text": [
            "\r 50%|█████     | 5/10 [01:20<01:33, 18.76s/it]"
          ]
        },
        {
          "output_type": "stream",
          "name": "stdout",
          "text": [
            "Test loss: 0.29317 | Test accuracy: 89.66%\n",
            "\n",
            "Epoch: 5\n",
            "Train loss: 0.25848 | Train accuracy: 90.57%\n"
          ]
        },
        {
          "output_type": "stream",
          "name": "stderr",
          "text": [
            "\r 60%|██████    | 6/10 [01:45<01:23, 20.92s/it]"
          ]
        },
        {
          "output_type": "stream",
          "name": "stdout",
          "text": [
            "Test loss: 0.28407 | Test accuracy: 90.04%\n",
            "\n",
            "Epoch: 6\n",
            "Train loss: 0.25325 | Train accuracy: 90.78%\n"
          ]
        },
        {
          "output_type": "stream",
          "name": "stderr",
          "text": [
            "\r 70%|███████   | 7/10 [01:58<00:54, 18.17s/it]"
          ]
        },
        {
          "output_type": "stream",
          "name": "stdout",
          "text": [
            "Test loss: 0.28555 | Test accuracy: 89.82%\n",
            "\n",
            "Epoch: 7\n",
            "Train loss: 0.24993 | Train accuracy: 90.97%\n"
          ]
        },
        {
          "output_type": "stream",
          "name": "stderr",
          "text": [
            "\r 80%|████████  | 8/10 [02:10<00:32, 16.29s/it]"
          ]
        },
        {
          "output_type": "stream",
          "name": "stdout",
          "text": [
            "Test loss: 0.28302 | Test accuracy: 89.76%\n",
            "\n",
            "Epoch: 8\n",
            "Train loss: 0.24485 | Train accuracy: 91.09%\n"
          ]
        },
        {
          "output_type": "stream",
          "name": "stderr",
          "text": [
            "\r 90%|█████████ | 9/10 [02:22<00:15, 15.08s/it]"
          ]
        },
        {
          "output_type": "stream",
          "name": "stdout",
          "text": [
            "Test loss: 0.27359 | Test accuracy: 90.04%\n",
            "\n",
            "Epoch: 9\n",
            "Train loss: 0.24149 | Train accuracy: 91.21%\n"
          ]
        },
        {
          "output_type": "stream",
          "name": "stderr",
          "text": [
            "100%|██████████| 10/10 [02:34<00:00, 15.49s/it]"
          ]
        },
        {
          "output_type": "stream",
          "name": "stdout",
          "text": [
            "Test loss: 0.30092 | Test accuracy: 89.49%\n",
            "\n",
            "Training took 154.95 seconds\n"
          ]
        },
        {
          "output_type": "stream",
          "name": "stderr",
          "text": [
            "\n"
          ]
        }
      ]
    },
    {
      "cell_type": "code",
      "source": [
        "model_2_results = eval_model(model=model_2,\n",
        "                             data_loader = test_data_loader,\n",
        "                             loss_fn = loss_fn, accuracy_fn = accuracy_fn,\n",
        "                             )"
      ],
      "metadata": {
        "id": "C5ryQSPqnYsF"
      },
      "execution_count": 124,
      "outputs": []
    },
    {
      "cell_type": "code",
      "source": [
        "model_2_results"
      ],
      "metadata": {
        "colab": {
          "base_uri": "https://localhost:8080/"
        },
        "id": "nz9-E5SnoMqX",
        "outputId": "a823664b-26b0-419d-9a7e-9a77823346e9"
      },
      "execution_count": 125,
      "outputs": [
        {
          "output_type": "execute_result",
          "data": {
            "text/plain": [
              "{'model_name': 'FashionMNISTModelV2',\n",
              " 'model_loss': 0.30092281103134155,\n",
              " 'model_acc': 89.48682108626198,\n",
              " 'precision': 0.8944361784696526,\n",
              " 'recall': 0.8949,\n",
              " 'f1': 0.8936009780482685}"
            ]
          },
          "metadata": {},
          "execution_count": 125
        }
      ]
    },
    {
      "cell_type": "code",
      "source": [
        "model_0_results = eval_model(model=model_0,\n",
        "                             data_loader = test_data_loader,\n",
        "                             loss_fn = loss_fn, accuracy_fn = accuracy_fn,\n",
        "                             )"
      ],
      "metadata": {
        "id": "TroeA7_EoaRv"
      },
      "execution_count": 136,
      "outputs": []
    },
    {
      "cell_type": "code",
      "source": [
        "model_0_results"
      ],
      "metadata": {
        "colab": {
          "base_uri": "https://localhost:8080/"
        },
        "id": "NgkjCcJqofNQ",
        "outputId": "dd3add14-cbc7-41bb-ba4d-84d8c707cff0"
      },
      "execution_count": 137,
      "outputs": [
        {
          "output_type": "execute_result",
          "data": {
            "text/plain": [
              "{'model_name': 'FashionMNISTModelV0',\n",
              " 'model_loss': 0.4609110653400421,\n",
              " 'model_acc': 83.4564696485623,\n",
              " 'precision': 0.8376492137765,\n",
              " 'recall': 0.8347,\n",
              " 'f1': 0.8351114388923626}"
            ]
          },
          "metadata": {},
          "execution_count": 137
        }
      ]
    },
    {
      "cell_type": "code",
      "source": [
        "from tabulate import tabulate\n",
        "\n",
        "results = [\n",
        "    model_1_results,\n",
        "    model_2_results,\n",
        "    model_0_results\n",
        "\n",
        "]\n",
        "\n",
        "table = tabulate(results, headers=\"keys\", tablefmt=\"github\")\n",
        "\n",
        "print(table)\n"
      ],
      "metadata": {
        "colab": {
          "base_uri": "https://localhost:8080/"
        },
        "id": "DYN0lLGwoiaP",
        "outputId": "9ce9b7fd-448e-4a1d-e8d5-0b6cd565e18c"
      },
      "execution_count": 138,
      "outputs": [
        {
          "output_type": "stream",
          "name": "stdout",
          "text": [
            "| model_name          |   model_loss |   model_acc |   precision |   recall |       f1 |\n",
            "|---------------------|--------------|-------------|-------------|----------|----------|\n",
            "| Sequential          |     0.439283 |     84.5048 |    0.843981 |   0.8451 | 0.8426   |\n",
            "| FashionMNISTModelV2 |     0.300923 |     89.4868 |    0.894436 |   0.8949 | 0.893601 |\n",
            "| FashionMNISTModelV0 |     0.460911 |     83.4565 |    0.837649 |   0.8347 | 0.835111 |\n"
          ]
        }
      ]
    },
    {
      "cell_type": "code",
      "source": [
        "results = [model_1_results, model_2_results, model_0_results]\n",
        "\n",
        "# Extract relevant information for plotting\n",
        "model_names = [result['model_name'] for result in results]\n",
        "accuracy_values = [result['model_acc'] for result in results]\n",
        "loss_values = [result['model_loss'] for result in results]\n",
        "precision_values = [result['precision'] for result in results]\n",
        "recall_values = [result['recall'] for result in results]\n",
        "\n",
        "# Plotting\n",
        "fig, ax = plt.subplots(2, 2, figsize=(12, 8))\n",
        "\n",
        "def plot_horizontal_bar(ax, values, labels, title, color):\n",
        "    y_pos = np.arange(len(labels))\n",
        "    ax.barh(y_pos, values, color=color)\n",
        "    ax.set_yticks(y_pos)\n",
        "    ax.set_yticklabels(labels)\n",
        "    ax.set_xlabel(title)\n",
        "    ax.invert_yaxis()\n",
        "\n",
        "plot_horizontal_bar(ax[0, 0], accuracy_values, model_names, 'Accuracy', 'skyblue')\n",
        "plot_horizontal_bar(ax[0, 1], loss_values, model_names, 'Loss', 'salmon')\n",
        "plot_horizontal_bar(ax[1, 0], precision_values, model_names, 'Precision', 'lightgreen')\n",
        "plot_horizontal_bar(ax[1, 1], recall_values, model_names, 'Recall', 'lightcoral')\n",
        "\n",
        "plt.tight_layout()\n",
        "plt.show()\n"
      ],
      "metadata": {
        "colab": {
          "base_uri": "https://localhost:8080/",
          "height": 807
        },
        "id": "0L6V9P33o8Wd",
        "outputId": "ff147e8d-7396-41d2-c158-0ce1634298ec"
      },
      "execution_count": 140,
      "outputs": [
        {
          "output_type": "display_data",
          "data": {
            "text/plain": [
              "<Figure size 1200x800 with 4 Axes>"
            ],
            "image/png": "[encoded data removed]"
          },
          "metadata": {}
        }
      ]
    },
    {
      "cell_type": "code",
      "source": [
        "# Making predictions on random test samples"
      ],
      "metadata": {
        "id": "_3dIS3AWqJ5Y"
      },
      "execution_count": 141,
      "outputs": []
    },
    {
      "cell_type": "code",
      "source": [
        "def make_predictions(model:nn.Module,\n",
        "                     data:list,\n",
        "                     device: torch.device = device):\n",
        "  pred_probs = []\n",
        "  model.to(device)\n",
        "  model.eval()\n",
        "  with torch.inference_mode():\n",
        "    for sample in data:\n",
        "      sample = torch.unsqueeze(sample, dim=0).to(device)\n",
        "\n",
        "      pred_logit = model(sample)\n",
        "\n",
        "\n",
        "      # get prediction probability\n",
        "\n",
        "      pred_prob = torch.softmax(pred_logit.squeeze(), dim=0)\n",
        "\n",
        "      pred_probs.append(pred_prob.cpu())\n",
        "\n",
        "  return torch.stack(pred_probs)\n"
      ],
      "metadata": {
        "id": "qtqYkZQwqosB"
      },
      "execution_count": 169,
      "outputs": []
    },
    {
      "cell_type": "code",
      "source": [
        "import random\n",
        "random.seed(42)\n",
        "test_samples = []\n",
        "test_labels = []\n",
        "for sample, label in random.sample(list(test_data), k =9):\n",
        "  test_samples.append(sample)\n",
        "  test_labels.append(label)\n",
        "\n",
        "  test_samples[0].shape\n",
        "\n"
      ],
      "metadata": {
        "id": "-pQygXwBro_p"
      },
      "execution_count": 170,
      "outputs": []
    },
    {
      "cell_type": "code",
      "source": [
        "plt.imshow(test_samples[0].squeeze(), cmap = 'gray')\n",
        "plt.title(class_name[test_labels[0]])"
      ],
      "metadata": {
        "colab": {
          "base_uri": "https://localhost:8080/",
          "height": 469
        },
        "id": "xr4G79pgsMVN",
        "outputId": "6b98f14a-3deb-4ff0-dc35-e687d23c115f"
      },
      "execution_count": 171,
      "outputs": [
        {
          "output_type": "execute_result",
          "data": {
            "text/plain": [
              "Text(0.5, 1.0, 'Sandal')"
            ]
          },
          "metadata": {},
          "execution_count": 171
        },
        {
          "output_type": "display_data",
          "data": {
            "text/plain": [
              "<Figure size 640x480 with 1 Axes>"
            ],
            "image/png": "[encoded data removed]"
          },
          "metadata": {}
        }
      ]
    },
    {
      "cell_type": "markdown",
      "source": [
        "Make prediction"
      ],
      "metadata": {
        "id": "GvYm0EMqsZ8D"
      }
    },
    {
      "cell_type": "code",
      "source": [
        "pred_probs = make_predictions(model = model_2,\n",
        "                              data = test_samples)\n",
        "\n",
        "pred_probs[:2]"
      ],
      "metadata": {
        "colab": {
          "base_uri": "https://localhost:8080/"
        },
        "id": "fxKOZfuxseUw",
        "outputId": "8905625f-4bf3-45e8-9ec4-66d76fab0988"
      },
      "execution_count": 172,
      "outputs": [
        {
          "output_type": "execute_result",
          "data": {
            "text/plain": [
              "tensor([[4.7993e-11, 2.2091e-12, 7.8051e-11, 2.0531e-12, 6.5694e-11, 1.0000e+00,\n",
              "         8.9473e-11, 5.7396e-08, 7.0192e-08, 4.7837e-07],\n",
              "        [7.4868e-03, 9.8462e-01, 7.7421e-05, 2.5865e-03, 3.9283e-03, 2.9383e-06,\n",
              "         1.1673e-03, 1.3171e-05, 9.3808e-05, 2.0069e-05]])"
            ]
          },
          "metadata": {},
          "execution_count": 172
        }
      ]
    },
    {
      "cell_type": "code",
      "source": [
        "# convert prediction probs to labels\n",
        "\n",
        "pred_classes = pred_probs.argmax(dim=1)\n",
        "pred_classes"
      ],
      "metadata": {
        "colab": {
          "base_uri": "https://localhost:8080/"
        },
        "id": "FZQYH19Lsria",
        "outputId": "cc5ab13c-e94e-4c65-cedb-081569438407"
      },
      "execution_count": 173,
      "outputs": [
        {
          "output_type": "execute_result",
          "data": {
            "text/plain": [
              "tensor([5, 1, 7, 2, 3, 6, 4, 7, 1])"
            ]
          },
          "metadata": {},
          "execution_count": 173
        }
      ]
    },
    {
      "cell_type": "markdown",
      "source": [
        "Plot images alongside predictions"
      ],
      "metadata": {
        "id": "V07VvgDAsvqo"
      }
    },
    {
      "cell_type": "code",
      "source": [
        "plt.figure(figsize =(9,9))\n",
        "nrows =3\n",
        "ncols =3\n",
        "for i, sample in enumerate(test_samples):\n",
        "  plt.subplot(nrows, ncols, i+1)\n",
        "  plt.imshow(sample.squeeze(), cmap= \"gray\")\n",
        "\n",
        "  plt.axis(False)\n",
        "\n",
        "  # Find prediction label\n",
        "  pred_label = class_name[pred_classes[i]]\n",
        "\n",
        "  truth_label = class_name[test_labels[i]]\n",
        "\n",
        "  title_text = f\"Pred: {pred_label} | Truth: {truth_label}\"\n",
        "\n",
        "  if pred_label == truth_label:\n",
        "    plt.title(title_text, fontsize =10, c =\"g\")\n",
        "  else:\n",
        "    plt.title(title_text, fontsize =10, c =\"r\")\n",
        "\n",
        "\n",
        "\n"
      ],
      "metadata": {
        "colab": {
          "base_uri": "https://localhost:8080/",
          "height": 749
        },
        "id": "Tun6XMx-tJxA",
        "outputId": "d2fce8de-f8c9-424d-ce6e-4e4232f7883a"
      },
      "execution_count": 174,
      "outputs": [
        {
          "output_type": "display_data",
          "data": {
            "text/plain": [
              "<Figure size 900x900 with 9 Axes>"
            ],
            "image/png": "[encoded data removed]"
          },
          "metadata": {}
        }
      ]
    },
    {
      "cell_type": "code",
      "source": [
        "from tqdm.auto import tqdm\n",
        "\n",
        "y_preds = []\n",
        "model_2.eval()\n",
        "with torch.inference_mode():\n",
        "  for X, y in tqdm(test_data_loader, desc=\"Making Predictions...\"):\n",
        "    X, y = X.to(device), y.to(device)\n",
        "\n",
        "    y_logit = model_2(X)\n",
        "\n",
        "    y_pred = torch.softmax(y_logit.squeeze(), dim=0).argmax(dim=1)\n",
        "\n",
        "    y_preds.append(y_pred.cpu())\n",
        "\n",
        "print(y_preds)\n",
        "y_pred_tensor = torch.cat(y_preds)\n",
        "y_pred_tensor\n"
      ],
      "metadata": {
        "colab": {
          "base_uri": "https://localhost:8080/",
          "height": 1000,
          "referenced_widgets": [
            "237cfff486bd4d5da186d6089e5381c5",
            "fc6c14b3b7b24152ae6dc7947e1b0216",
            "150cd1aac4c14a10a50e3274d72c1249",
            "cf29b326b2d9446d89225cf332d8a1cf",
            "5377a07c70534f279d9505af97adaa7f",
            "fd53d9854aaa43968abd0a0ef97e755b",
            "55f5c7d6f77d41a1bdaee5e9fe37fe85",
            "aaf82dbda7274d6495e3dadb54673d83",
            "5d5b6497aa044293ada38a7a784fc9ec",
            "c11a100422154e16b6162c54f413ff57",
            "cb8a51b762ca40d19d4dee707e979317"
          ]
        },
        "id": "LwkK7OjftJpM",
        "outputId": "9afc9282-08d3-4b6b-e8c8-971d4f0b1741"
      },
      "execution_count": 181,
      "outputs": [
        {
          "output_type": "display_data",
          "data": {
            "text/plain": [
              "Making Predictions...:   0%|          | 0/313 [00:00<?, ?it/s]"
            ],
            "application/vnd.jupyter.widget-view+json": {
              "version_major": 2,
              "version_minor": 0,
              "model_id": "237cfff486bd4d5da186d6089e5381c5"
            }
          },
          "metadata": {}
        },
        {
          "output_type": "stream",
          "name": "stdout",
          "text": [
            "[tensor([9, 2, 1, 1, 6, 1, 4, 6, 5, 7, 4, 5, 5, 3, 4, 1, 2, 6, 0, 0, 2, 5, 7, 5,\n",
            "        1, 6, 6, 0, 9, 3, 8, 8]), tensor([3, 3, 8, 0, 7, 5, 7, 9, 6, 1, 0, 7, 6, 7, 2, 1, 2, 6, 4, 4, 5, 8, 2, 2,\n",
            "        8, 4, 8, 0, 7, 7, 8, 5]), tensor([1, 1, 3, 3, 7, 8, 7, 0, 2, 6, 2, 3, 1, 2, 8, 4, 1, 8, 5, 9, 5, 0, 3, 2,\n",
            "        0, 2, 5, 3, 6, 7, 1, 0]), tensor([0, 1, 2, 2, 3, 6, 7, 6, 7, 8, 5, 7, 9, 4, 2, 5, 7, 0, 5, 2, 8, 6, 7, 8,\n",
            "        0, 0, 9, 9, 3, 0, 8, 4]), tensor([1, 5, 4, 1, 9, 1, 8, 6, 6, 1, 2, 5, 1, 0, 0, 0, 1, 6, 1, 3, 2, 2, 4, 4,\n",
            "        1, 4, 5, 0, 4, 7, 9, 3]), tensor([5, 2, 3, 8, 0, 9, 4, 8, 4, 2, 6, 5, 8, 1, 2, 8, 3, 8, 9, 1, 0, 9, 3, 6,\n",
            "        7, 9, 8, 4, 4, 7, 1, 6]), tensor([3, 6, 3, 2, 8, 3, 6, 1, 1, 0, 2, 9, 2, 4, 6, 7, 9, 8, 4, 1, 8, 4, 1, 3,\n",
            "        1, 6, 7, 2, 8, 5, 6, 0]), tensor([7, 7, 6, 3, 7, 0, 7, 8, 9, 2, 9, 0, 5, 1, 3, 4, 5, 4, 9, 2, 2, 8, 6, 4,\n",
            "        3, 3, 9, 7, 3, 5, 5, 4]), tensor([8, 5, 2, 3, 0, 4, 8, 0, 0, 6, 3, 8, 9, 6, 1, 3, 0, 2, 3, 0, 8, 3, 7, 4,\n",
            "        0, 1, 6, 3, 6, 6, 6, 7]), tensor([8, 3, 7, 9, 7, 6, 5, 5, 1, 9, 8, 8, 3, 3, 6, 8, 0, 0, 2, 9, 7, 7, 1, 3,\n",
            "        6, 6, 0, 4, 7, 1, 6, 4]), tensor([8, 2, 6, 5, 6, 2, 7, 7, 7, 3, 3, 7, 0, 7, 1, 3, 7, 2, 2, 3, 4, 0, 0, 1,\n",
            "        6, 1, 9, 4, 9, 9, 1, 7]), tensor([8, 3, 6, 6, 6, 6, 8, 0, 1, 6, 2, 4, 4, 7, 3, 2, 2, 5, 0, 7, 9, 4, 0, 9,\n",
            "        3, 7, 3, 6, 5, 0, 0, 3]), tensor([5, 8, 1, 3, 2, 3, 6, 4, 9, 5, 2, 0, 4, 6, 1, 2, 0, 9, 7, 0, 3, 4, 3, 3,\n",
            "        2, 3, 3, 6, 7, 3, 9, 4]), tensor([2, 1, 5, 4, 5, 3, 8, 5, 8, 6, 4, 8, 9, 8, 6, 2, 4, 0, 2, 4, 1, 6, 1, 3,\n",
            "        0, 7, 8, 8, 6, 5, 3, 1]), tensor([9, 5, 3, 3, 6, 1, 6, 2, 9, 4, 0, 6, 6, 4, 2, 0, 0, 3, 3, 8, 6, 8, 9, 6,\n",
            "        0, 7, 6, 4, 6, 7, 3, 9]), tensor([7, 9, 3, 7, 5, 7, 6, 1, 0, 0, 6, 4, 8, 9, 7, 9, 1, 2, 7, 0, 2, 0, 5, 9,\n",
            "        1, 8, 2, 2, 2, 2, 4, 6]), tensor([6, 0, 9, 0, 7, 1, 9, 0, 6, 8, 3, 0, 7, 2, 6, 6, 8, 0, 0, 0, 5, 8, 7, 5,\n",
            "        0, 7, 4, 3, 6, 0, 7, 1]), tensor([3, 1, 2, 6, 3, 9, 6, 3, 5, 3, 3, 1, 9, 3, 2, 5, 3, 6, 2, 6, 4, 6, 0, 5,\n",
            "        8, 3, 3, 4, 0, 7, 7, 8]), tensor([9, 0, 3, 8, 7, 6, 7, 9, 3, 2, 0, 3, 5, 0, 1, 1, 5, 9, 4, 2, 5, 7, 8, 1,\n",
            "        2, 9, 7, 7, 1, 0, 9, 3]), tensor([6, 9, 0, 5, 1, 8, 2, 7, 1, 2, 3, 1, 2, 6, 1, 5, 3, 0, 7, 8, 6, 2, 5, 1,\n",
            "        1, 6, 6, 1, 0, 1, 4, 1]), tensor([7, 5, 8, 4, 9, 1, 0, 5, 4, 4, 4, 0, 0, 4, 5, 6, 0, 0, 5, 2, 1, 3, 1, 1,\n",
            "        6, 6, 3, 8, 2, 8, 6, 7]), tensor([0, 4, 1, 8, 5, 0, 8, 2, 9, 1, 8, 7, 6, 4, 2, 9, 6, 4, 5, 0, 9, 5, 3, 6,\n",
            "        6, 8, 1, 3, 8, 1, 4, 0]), tensor([9, 7, 7, 3, 8, 9, 1, 3, 7, 3, 0, 2, 4, 7, 1, 0, 0, 8, 7, 2, 4, 6, 6, 4,\n",
            "        1, 5, 9, 0, 0, 3, 6, 5]), tensor([6, 6, 4, 3, 3, 8, 1, 1, 8, 5, 7, 9, 8, 7, 2, 0, 7, 0, 8, 0, 9, 7, 6, 1,\n",
            "        6, 6, 4, 8, 0, 6, 3, 6]), tensor([8, 4, 0, 8, 9, 2, 4, 5, 9, 3, 4, 4, 9, 2, 3, 7, 9, 7, 8, 3, 7, 7, 3, 1,\n",
            "        1, 6, 7, 5, 3, 8, 4, 2]), tensor([7, 0, 8, 0, 2, 0, 0, 7, 1, 4, 9, 0, 5, 8, 5, 2, 7, 2, 8, 5, 9, 3, 3, 6,\n",
            "        7, 1, 7, 0, 7, 4, 6, 0]), tensor([8, 3, 7, 1, 2, 6, 1, 9, 8, 2, 7, 1, 3, 7, 5, 9, 9, 1, 8, 4, 5, 7, 1, 5,\n",
            "        8, 1, 0, 0, 6, 1, 7, 1]), tensor([1, 8, 7, 1, 5, 2, 2, 3, 3, 1, 1, 4, 9, 4, 3, 7, 7, 0, 8, 9, 7, 6, 1, 3,\n",
            "        4, 0, 0, 8, 9, 4, 0, 5]), tensor([5, 1, 5, 7, 8, 7, 9, 3, 6, 6, 0, 4, 0, 0, 0, 2, 5, 5, 1, 2, 0, 9, 3, 7,\n",
            "        6, 4, 8, 3, 4, 7, 0, 7]), tensor([4, 8, 8, 3, 4, 4, 3, 4, 9, 0, 2, 3, 9, 1, 8, 1, 7, 5, 5, 6, 6, 2, 0, 0,\n",
            "        5, 4, 0, 0, 2, 7, 7, 0]), tensor([3, 5, 9, 6, 8, 0, 3, 3, 0, 2, 9, 0, 7, 7, 1, 4, 4, 0, 5, 0, 9, 9, 8, 8,\n",
            "        3, 0, 2, 4, 6, 6, 3, 2]), tensor([0, 7, 4, 9, 3, 4, 7, 7, 6, 3, 9, 5, 4, 4, 5, 9, 6, 3, 7, 5, 1, 9, 8, 8,\n",
            "        0, 9, 2, 7, 2, 2, 3, 8]), tensor([7, 4, 4, 8, 4, 8, 6, 1, 4, 9, 3, 1, 6, 8, 0, 5, 7, 5, 2, 3, 3, 9, 8, 3,\n",
            "        6, 0, 4, 8, 0, 4, 8, 4]), tensor([6, 3, 6, 7, 0, 2, 1, 3, 3, 6, 6, 5, 9, 0, 1, 6, 5, 1, 4, 4, 8, 6, 7, 7,\n",
            "        3, 8, 3, 1, 7, 8, 1, 3]), tensor([3, 7, 5, 0, 0, 7, 0, 9, 2, 3, 0, 8, 4, 6, 3, 0, 6, 0, 0, 2, 7, 1, 0, 3,\n",
            "        5, 4, 8, 6, 2, 1, 1, 7]), tensor([5, 6, 2, 7, 0, 4, 8, 2, 2, 0, 1, 4, 4, 9, 6, 8, 4, 5, 1, 0, 3, 9, 6, 9,\n",
            "        8, 7, 4, 2, 2, 5, 1, 7]), tensor([0, 7, 2, 9, 3, 7, 0, 9, 3, 8, 4, 4, 7, 2, 3, 6, 2, 0, 7, 8, 4, 2, 6, 5,\n",
            "        5, 6, 3, 5, 5, 8, 1, 1]), tensor([7, 4, 6, 9, 6, 8, 7, 2, 3, 1, 6, 7, 7, 4, 9, 8, 5, 1, 3, 3, 2, 3, 9, 3,\n",
            "        1, 9, 3, 5, 5, 2, 0, 7]), tensor([0, 6, 3, 1, 3, 1, 3, 4, 7, 2, 8, 9, 5, 2, 9, 6, 3, 4, 4, 0, 6, 8, 2, 2,\n",
            "        5, 6, 1, 4, 6, 5, 4, 4]), tensor([8, 6, 2, 3, 0, 6, 3, 6, 8, 3, 8, 6, 0, 3, 4, 8, 8, 4, 5, 2, 2, 3, 0, 1,\n",
            "        7, 0, 9, 1, 7, 0, 5, 2]), tensor([2, 7, 3, 8, 9, 0, 8, 0, 7, 5, 5, 9, 5, 0, 6, 0, 3, 2, 4, 4, 6, 7, 1, 3,\n",
            "        4, 0, 6, 5, 1, 6, 7, 3]), tensor([4, 8, 0, 2, 8, 7, 4, 1, 6, 5, 2, 7, 0, 5, 3, 8, 5, 2, 2, 8, 9, 8, 4, 3,\n",
            "        0, 8, 8, 3, 0, 9, 4, 4]), tensor([8, 1, 3, 6, 1, 9, 2, 1, 4, 2, 7, 9, 4, 6, 0, 4, 4, 2, 4, 5, 0, 2, 8, 3,\n",
            "        7, 4, 4, 0, 0, 5, 4, 8]), tensor([2, 4, 3, 0, 2, 1, 7, 9, 5, 4, 7, 2, 4, 7, 3, 3, 1, 3, 3, 6, 6, 1, 9, 2,\n",
            "        4, 7, 1, 0, 6, 5, 8, 4]), tensor([3, 7, 9, 8, 0, 7, 9, 8, 1, 2, 9, 5, 8, 3, 9, 9, 1, 2, 7, 8, 0, 1, 7, 2,\n",
            "        7, 1, 1, 5, 5, 6, 4, 5]), tensor([9, 5, 5, 2, 3, 9, 3, 8, 5, 2, 0, 0, 6, 5, 7, 6, 6, 2, 6, 4, 6, 7, 6, 0,\n",
            "        5, 1, 7, 2, 3, 6, 8, 9]), tensor([8, 7, 1, 2, 0, 2, 9, 7, 5, 0, 0, 0, 7, 1, 2, 4, 9, 3, 6, 4, 4, 0, 0, 0,\n",
            "        6, 3, 6, 1, 3, 7, 6, 5]), tensor([3, 9, 1, 1, 8, 2, 9, 5, 0, 5, 4, 6, 7, 1, 1, 5, 3, 8, 7, 8, 3, 8, 9, 2,\n",
            "        2, 3, 1, 3, 5, 6, 7, 3]), tensor([9, 5, 2, 2, 7, 0, 1, 0, 9, 6, 3, 7, 2, 8, 1, 8, 0, 7, 9, 8, 5, 8, 2, 6,\n",
            "        4, 0, 6, 5, 8, 3, 8, 7]), tensor([5, 7, 3, 7, 0, 7, 0, 2, 2, 5, 3, 5, 1, 1, 7, 7, 6, 3, 0, 4, 2, 8, 6, 3,\n",
            "        1, 4, 9, 9, 4, 5, 2, 2]), tensor([7, 8, 6, 7, 9, 1, 2, 9, 4, 9, 3, 2, 3, 3, 1, 8, 8, 5, 3, 8, 0, 3, 4, 0,\n",
            "        2, 0, 2, 7, 3, 6, 8, 3]), tensor([7, 7, 3, 1, 7, 5, 8, 8, 2, 0, 0, 4, 4, 0, 0, 7, 0, 6, 0, 7, 7, 3, 9, 4,\n",
            "        5, 9, 7, 1, 7, 2, 4, 5]), tensor([1, 6, 5, 4, 5, 0, 2, 4, 1, 6, 6, 8, 4, 7, 9, 4, 1, 1, 7, 2, 6, 6, 6, 3,\n",
            "        9, 7, 6, 3, 8, 8, 8, 7]), tensor([1, 1, 6, 3, 1, 4, 3, 4, 5, 5, 0, 0, 4, 9, 4, 9, 0, 6, 0, 8, 9, 2, 5, 4,\n",
            "        8, 0, 7, 2, 3, 6, 2, 5]), tensor([6, 1, 9, 3, 2, 2, 9, 9, 0, 8, 3, 2, 6, 6, 3, 4, 2, 4, 0, 5, 0, 2, 7, 8,\n",
            "        7, 4, 3, 6, 6, 5, 2, 4]), tensor([2, 9, 5, 2, 6, 7, 0, 1, 9, 5, 5, 0, 7, 7, 5, 0, 5, 0, 3, 4, 7, 9, 8, 2,\n",
            "        4, 7, 3, 3, 7, 7, 7, 8]), tensor([4, 9, 8, 7, 6, 8, 7, 5, 1, 3, 0, 2, 9, 9, 8, 3, 7, 0, 3, 4, 9, 3, 3, 1,\n",
            "        7, 9, 1, 3, 7, 2, 7, 6]), tensor([5, 7, 6, 7, 5, 5, 4, 0, 7, 3, 3, 2, 6, 2, 9, 9, 0, 6, 0, 8, 3, 8, 6, 4,\n",
            "        4, 1, 8, 2, 3, 5, 0, 4]), tensor([4, 3, 0, 6, 1, 6, 8, 4, 9, 0, 7, 6, 7, 7, 1, 5, 8, 7, 2, 9, 9, 1, 4, 4,\n",
            "        1, 1, 1, 8, 8, 1, 3, 7]), tensor([5, 2, 0, 8, 4, 8, 9, 4, 1, 3, 1, 9, 8, 1, 3, 1, 8, 0, 9, 5, 7, 6, 0, 3,\n",
            "        4, 1, 1, 7, 9, 4, 2, 0]), tensor([3, 6, 6, 6, 1, 9, 2, 4, 2, 2, 3, 8, 7, 1, 8, 5, 5, 9, 9, 6, 6, 4, 9, 0,\n",
            "        6, 3, 5, 5, 0, 6, 1, 0]), tensor([3, 7, 7, 3, 7, 4, 5, 7, 9, 8, 9, 1, 4, 8, 3, 2, 6, 6, 0, 8, 3, 8, 0, 8,\n",
            "        6, 0, 8, 8, 3, 2, 9, 3]), tensor([2, 0, 8, 5, 9, 0, 3, 1, 1, 9, 5, 1, 3, 3, 4, 0, 8, 4, 1, 3, 8, 8, 6, 7,\n",
            "        5, 0, 6, 7, 3, 3, 2, 4]), tensor([6, 5, 5, 6, 2, 3, 7, 1, 1, 7, 3, 8, 7, 2, 2, 9, 3, 9, 9, 0, 1, 7, 1, 3,\n",
            "        8, 1, 6, 9, 3, 4, 0, 0]), tensor([7, 6, 9, 9, 5, 5, 7, 0, 9, 3, 3, 6, 9, 8, 3, 2, 6, 3, 9, 2, 3, 6, 7, 3,\n",
            "        0, 3, 8, 1, 8, 7, 3, 4]), tensor([5, 2, 2, 3, 1, 7, 4, 9, 1, 3, 2, 8, 8, 7, 7, 7, 7, 2, 6, 0, 7, 5, 8, 5,\n",
            "        3, 0, 3, 4, 9, 2, 4, 3]), tensor([1, 9, 3, 1, 2, 2, 2, 3, 7, 8, 7, 6, 4, 4, 1, 2, 8, 5, 4, 2, 8, 1, 5, 9,\n",
            "        8, 6, 6, 8, 0, 1, 8, 7]), tensor([6, 6, 7, 7, 6, 0, 4, 3, 6, 7, 8, 7, 2, 8, 0, 8, 7, 4, 6, 6, 7, 0, 9, 9,\n",
            "        3, 1, 5, 9, 3, 1, 0, 3]), tensor([3, 5, 9, 7, 9, 8, 0, 8, 9, 3, 7, 9, 3, 6, 0, 6, 5, 7, 7, 2, 4, 8, 0, 1,\n",
            "        1, 9, 4, 3, 9, 8, 8, 7]), tensor([2, 4, 9, 0, 2, 1, 7, 7, 1, 5, 0, 5, 5, 0, 3, 0, 0, 3, 3, 7, 4, 2, 6, 8,\n",
            "        8, 9, 2, 1, 3, 5, 5, 8]), tensor([5, 3, 7, 4, 4, 3, 9, 6, 0, 0, 9, 1, 4, 3, 6, 5, 3, 8, 5, 1, 1, 2, 9, 4,\n",
            "        0, 5, 6, 8, 0, 4, 9, 8]), tensor([4, 4, 8, 3, 8, 0, 4, 2, 0, 2, 8, 5, 4, 9, 3, 9, 5, 8, 6, 9, 1, 2, 7, 2,\n",
            "        1, 6, 6, 0, 6, 5, 2, 4]), tensor([8, 7, 5, 2, 6, 6, 8, 6, 0, 1, 9, 6, 9, 7, 2, 6, 2, 8, 3, 4, 8, 5, 6, 8,\n",
            "        3, 3, 1, 4, 2, 0, 4, 9]), tensor([6, 4, 1, 9, 9, 8, 1, 4, 8, 3, 3, 3, 2, 5, 9, 2, 6, 8, 7, 6, 3, 6, 6, 4,\n",
            "        5, 7, 5, 0, 7, 9, 1, 6]), tensor([4, 8, 9, 3, 5, 2, 0, 4, 6, 7, 8, 9, 1, 2, 2, 5, 5, 3, 1, 1, 8, 8, 3, 0,\n",
            "        7, 0, 1, 8, 2, 6, 4, 9]), tensor([8, 5, 8, 8, 6, 9, 1, 8, 2, 2, 7, 7, 0, 5, 1, 1, 0, 6, 2, 3, 0, 4, 3, 5,\n",
            "        1, 6, 3, 3, 4, 6, 5, 0]), tensor([9, 8, 3, 3, 1, 0, 2, 1, 2, 4, 6, 7, 4, 9, 0, 7, 7, 5, 0, 6, 0, 7, 0, 3,\n",
            "        7, 7, 3, 6, 1, 7, 4, 1]), tensor([0, 6, 5, 4, 1, 4, 8, 5, 7, 4, 5, 3, 3, 8, 3, 6, 6, 8, 9, 0, 5, 0, 2, 8,\n",
            "        7, 3, 0, 2, 8, 7, 9, 2]), tensor([3, 1, 3, 3, 6, 2, 7, 4, 1, 2, 6, 3, 0, 4, 6, 5, 0, 8, 5, 6, 7, 8, 1, 5,\n",
            "        9, 8, 6, 9, 0, 9, 3, 7]), tensor([5, 9, 9, 6, 0, 7, 1, 5, 5, 9, 5, 3, 4, 2, 6, 5, 9, 7, 4, 2, 6, 9, 9, 3,\n",
            "        2, 1, 3, 7, 1, 8, 7, 9]), tensor([1, 8, 9, 3, 7, 7, 7, 1, 7, 3, 4, 3, 2, 3, 5, 6, 8, 9, 6, 8, 6, 0, 7, 7,\n",
            "        5, 0, 1, 9, 3, 0, 4, 9]), tensor([2, 2, 6, 9, 1, 0, 5, 8, 9, 2, 8, 0, 3, 6, 0, 7, 3, 8, 7, 4, 1, 7, 8, 0,\n",
            "        0, 0, 4, 4, 1, 0, 6, 9]), tensor([2, 9, 4, 5, 3, 3, 3, 8, 8, 2, 0, 7, 2, 4, 0, 3, 1, 3, 8, 1, 7, 7, 2, 6,\n",
            "        3, 1, 2, 7, 0, 6, 0, 3]), tensor([4, 7, 2, 8, 3, 2, 3, 0, 9, 7, 3, 5, 4, 9, 2, 4, 5, 0, 6, 8, 4, 0, 4, 4,\n",
            "        0, 4, 1, 6, 4, 3, 7, 1]), tensor([0, 6, 4, 0, 1, 5, 6, 3, 8, 3, 3, 1, 7, 2, 9, 8, 8, 4, 5, 5, 6, 7, 3, 9,\n",
            "        0, 0, 5, 3, 7, 2, 1, 1]), tensor([8, 0, 2, 0, 5, 9, 6, 3, 8, 1, 0, 4, 2, 6, 4, 8, 3, 4, 2, 1, 9, 3, 7, 9,\n",
            "        5, 7, 6, 1, 0, 8, 8, 2]), tensor([2, 4, 6, 3, 1, 6, 4, 2, 3, 9, 8, 4, 0, 8, 4, 3, 9, 7, 1, 1, 7, 5, 1, 9,\n",
            "        2, 4, 2, 3, 0, 6, 7, 1]), tensor([3, 0, 7, 3, 5, 8, 1, 4, 2, 3, 4, 0, 8, 8, 4, 8, 1, 8, 9, 3, 0, 6, 6, 2,\n",
            "        9, 7, 3, 7, 0, 1, 3, 5]), tensor([7, 4, 0, 5, 0, 5, 8, 7, 4, 6, 2, 8, 0, 4, 9, 3, 0, 5, 8, 1, 1, 2, 4, 0,\n",
            "        0, 7, 4, 2, 3, 3, 7, 7]), tensor([4, 3, 3, 1, 8, 1, 5, 4, 0, 0, 7, 9, 3, 2, 7, 1, 7, 4, 1, 6, 2, 6, 6, 7,\n",
            "        0, 4, 9, 3, 2, 5, 0, 8]), tensor([6, 2, 6, 7, 4, 2, 1, 1, 0, 3, 5, 5, 2, 6, 6, 1, 8, 0, 3, 4, 0, 4, 2, 9,\n",
            "        2, 3, 9, 6, 2, 0, 0, 4]), tensor([5, 4, 9, 8, 1, 6, 3, 4, 4, 9, 4, 3, 5, 1, 2, 6, 0, 1, 1, 0, 2, 6, 5, 7,\n",
            "        0, 1, 2, 4, 0, 7, 2, 1]), tensor([1, 7, 7, 8, 7, 6, 5, 3, 7, 2, 0, 9, 6, 1, 6, 2, 4, 5, 8, 5, 4, 5, 8, 4,\n",
            "        0, 9, 0, 8, 1, 3, 8, 2]), tensor([8, 2, 0, 0, 3, 8, 7, 8, 2, 2, 0, 6, 0, 4, 5, 3, 4, 1, 1, 9, 7, 0, 6, 3,\n",
            "        1, 4, 2, 7, 7, 1, 8, 3]), tensor([0, 7, 9, 6, 7, 2, 7, 9, 7, 2, 2, 6, 6, 3, 3, 9, 1, 1, 4, 8, 0, 9, 7, 5,\n",
            "        4, 8, 8, 3, 6, 3, 6, 4]), tensor([6, 2, 9, 9, 2, 4, 8, 4, 2, 4, 3, 6, 1, 1, 3, 0, 1, 8, 4, 1, 5, 4, 1, 5,\n",
            "        8, 6, 7, 7, 7, 5, 6, 6]), tensor([5, 3, 6, 9, 8, 4, 5, 1, 6, 6, 2, 4, 3, 7, 7, 9, 9, 2, 5, 8, 5, 8, 5, 3,\n",
            "        0, 9, 7, 2, 0, 6, 8, 6]), tensor([0, 5, 3, 7, 6, 5, 4, 9, 0, 0, 4, 0, 2, 9, 8, 1, 3, 8, 1, 5, 3, 6, 1, 1,\n",
            "        6, 6, 9, 6, 4, 8, 2, 7]), tensor([7, 1, 3, 0, 3, 0, 7, 8, 7, 6, 5, 2, 6, 7, 5, 5, 8, 9, 7, 3, 2, 4, 8, 3,\n",
            "        9, 5, 7, 6, 2, 3, 7, 3]), tensor([8, 5, 1, 8, 9, 2, 2, 1, 3, 2, 7, 4, 0, 6, 4, 8, 9, 7, 9, 2, 2, 8, 2, 6,\n",
            "        0, 6, 3, 3, 1, 5, 2, 7]), tensor([5, 3, 7, 6, 2, 3, 5, 1, 1, 3, 7, 3, 8, 8, 7, 5, 6, 9, 5, 5, 3, 0, 7, 1,\n",
            "        4, 6, 0, 9, 7, 3, 6, 4]), tensor([6, 5, 7, 8, 0, 2, 9, 6, 6, 2, 8, 1, 6, 4, 8, 0, 7, 5, 6, 9, 7, 5, 5, 6,\n",
            "        7, 6, 3, 2, 0, 3, 6, 2]), tensor([0, 3, 9, 4, 5, 4, 3, 1, 2, 8, 9, 0, 5, 6, 2, 8, 6, 3, 8, 6, 6, 7, 2, 7,\n",
            "        2, 3, 2, 7, 1, 2, 3, 4]), tensor([2, 2, 3, 9, 7, 6, 8, 0, 4, 6, 6, 1, 9, 3, 7, 0, 8, 6, 9, 4, 7, 9, 1, 5,\n",
            "        8, 1, 0, 6, 2, 6, 8, 3]), tensor([3, 3, 0, 0, 6, 3, 3, 1, 4, 8, 4, 9, 3, 0, 0, 5, 8, 8, 8, 6, 1, 0, 8, 9,\n",
            "        8, 5, 8, 9, 0, 7, 2, 7]), tensor([3, 5, 5, 8, 3, 4, 8, 5, 9, 9, 4, 0, 4, 7, 1, 8, 8, 8, 7, 2, 0, 9, 7, 9,\n",
            "        6, 7, 4, 1, 4, 7, 2, 5]), tensor([2, 6, 2, 9, 0, 7, 1, 9, 7, 2, 5, 3, 8, 4, 9, 3, 7, 5, 7, 5, 1, 3, 3, 6,\n",
            "        0, 7, 5, 3, 5, 5, 8, 7]), tensor([7, 4, 6, 5, 5, 3, 4, 8, 3, 0, 9, 2, 3, 2, 2, 9, 4, 3, 9, 1, 3, 8, 1, 4,\n",
            "        9, 8, 2, 6, 7, 2, 0, 2]), tensor([2, 3, 2, 3, 0, 5, 2, 3, 2, 8, 0, 0, 7, 4, 6, 2, 8, 3, 0, 1, 3, 9, 1, 4,\n",
            "        9, 0, 7, 4, 0, 3, 2, 5]), tensor([6, 3, 6, 4, 5, 1, 7, 9, 4, 6, 7, 3, 0, 2, 8, 1, 0, 3, 9, 7, 8, 4, 6, 9,\n",
            "        7, 7, 5, 6, 6, 7, 5, 3]), tensor([5, 5, 0, 8, 7, 7, 2, 1, 2, 7, 1, 3, 4, 3, 2, 2, 9, 4, 7, 7, 6, 5, 0, 8,\n",
            "        8, 6, 8, 5, 6, 0, 7, 3]), tensor([0, 6, 4, 5, 2, 0, 7, 7, 7, 1, 5, 2, 1, 8, 5, 4, 4, 8, 7, 7, 6, 7, 1, 0,\n",
            "        9, 5, 3, 9, 3, 5, 0, 7]), tensor([4, 6, 6, 1, 6, 5, 9, 3, 2, 8, 5, 7, 3, 1, 2, 0, 8, 1, 6, 5, 6, 9, 3, 3,\n",
            "        6, 6, 4, 2, 0, 6, 6, 2]), tensor([3, 4, 5, 7, 3, 1, 9, 4, 7, 0, 3, 1, 0, 0, 7, 7, 0, 7, 8, 0, 5, 6, 2, 3,\n",
            "        8, 9, 7, 2, 9, 5, 3, 7]), tensor([2, 6, 1, 9, 7, 8, 1, 3, 9, 3, 6, 7, 3, 6, 5, 6, 7, 7, 9, 7, 0, 4, 2, 3,\n",
            "        4, 0, 7, 5, 3, 9, 2, 8]), tensor([8, 6, 0, 4, 1, 7, 3, 3, 5, 0, 0, 5, 9, 6, 8, 5, 5, 9, 5, 4, 6, 7, 6, 6,\n",
            "        4, 2, 0, 9, 2, 8, 1, 9]), tensor([2, 6, 6, 4, 8, 8, 7, 7, 3, 9, 3, 9, 6, 8, 2, 6, 9, 0, 3, 2, 5, 7, 0, 4,\n",
            "        6, 4, 1, 3, 1, 8, 7, 8]), tensor([8, 9, 7, 0, 5, 9, 3, 6, 0, 4, 0, 3, 6, 8, 8, 8, 0, 2, 3, 2, 8, 8, 1, 4,\n",
            "        1, 1, 6, 3, 2, 2, 4, 0]), tensor([0, 4, 1, 2, 2, 5, 0, 6, 7, 5, 5, 2, 5, 0, 5, 9, 8, 4, 8, 3, 2, 0, 5, 6,\n",
            "        2, 4, 3, 8, 3, 2, 6, 5]), tensor([6, 4, 7, 3, 7, 8, 8, 2, 4, 8, 8, 0, 1, 5, 6, 9, 8, 7, 6, 0, 3, 6, 3, 0,\n",
            "        7, 3, 6, 9, 1, 5, 9, 4]), tensor([1, 7, 6, 1, 0, 5, 3, 8, 6, 2, 1, 7, 0, 5, 0, 4, 1, 7, 1, 7, 9, 6, 3, 9,\n",
            "        2, 2, 5, 3, 5, 8, 8, 6]), tensor([4, 7, 7, 3, 2, 0, 5, 5, 3, 6, 2, 5, 2, 8, 5, 6, 9, 1, 3, 1, 4, 5, 9, 3,\n",
            "        7, 0, 3, 5, 6, 1, 3, 8]), tensor([5, 6, 0, 9, 1, 9, 1, 7, 1, 8, 0, 3, 4, 0, 2, 0, 3, 3, 8, 8, 0, 3, 6, 8,\n",
            "        1, 1, 3, 3, 2, 2, 1, 8]), tensor([3, 2, 0, 0, 4, 2, 3, 9, 2, 3, 0, 4, 7, 7, 1, 4, 1, 0, 0, 0, 8, 5, 1, 0,\n",
            "        5, 4, 8, 1, 7, 1, 6, 4]), tensor([7, 4, 6, 1, 5, 3, 3, 5, 8, 7, 7, 7, 2, 7, 5, 4, 4, 2, 0, 6, 6, 9, 9, 7,\n",
            "        8, 0, 4, 4, 1, 3, 7, 3]), tensor([6, 0, 9, 8, 5, 3, 6, 7, 3, 9, 7, 8, 4, 6, 9, 9, 3, 2, 6, 6, 2, 4, 5, 1,\n",
            "        6, 4, 8, 3, 4, 8, 3, 4]), tensor([0, 0, 3, 6, 7, 2, 4, 1, 7, 3, 6, 7, 9, 9, 1, 8, 8, 9, 1, 2, 6, 1, 2, 8,\n",
            "        3, 5, 9, 8, 0, 6, 2, 7]), tensor([2, 7, 5, 6, 8, 7, 8, 1, 4, 9, 2, 1, 5, 9, 9, 6, 4, 2, 0, 6, 0, 1, 7, 0,\n",
            "        6, 7, 5, 2, 1, 0, 3, 4]), tensor([4, 8, 4, 0, 6, 7, 3, 7, 3, 6, 3, 8, 6, 6, 2, 3, 2, 5, 5, 8, 0, 7, 0, 8,\n",
            "        9, 0, 2, 1, 2, 5, 1, 3]), tensor([4, 7, 6, 4, 7, 9, 1, 4, 3, 1, 6, 8, 0, 3, 3, 0, 4, 0, 4, 3, 3, 7, 2, 3,\n",
            "        6, 0, 8, 5, 4, 0, 1, 0]), tensor([2, 2, 6, 7, 7, 6, 2, 4, 3, 6, 8, 5, 4, 4, 0, 3, 3, 5, 2, 5, 1, 5, 5, 1,\n",
            "        7, 5, 2, 1, 8, 8, 0, 9]), tensor([0, 0, 0, 3, 6, 1, 8, 3, 4, 2, 1, 2, 0, 3, 6, 8, 5, 7, 7, 0, 2, 6, 3, 9,\n",
            "        8, 4, 7, 1, 0, 2, 6, 6]), tensor([0, 3, 7, 5, 0, 6, 2, 0, 8, 4, 2, 1, 8, 4, 8, 2, 9, 2, 6, 8, 5, 2, 7, 3,\n",
            "        2, 4, 0, 0, 4, 8, 5, 4]), tensor([1, 7, 2, 8, 2, 9, 3, 6, 3, 6, 4, 4, 7, 7, 9, 0, 2, 9, 8, 3, 5, 8, 7, 7,\n",
            "        0, 7, 7, 0, 7, 7, 2, 9]), tensor([5, 4, 2, 2, 4, 8, 0, 1, 9, 8, 0, 2, 2, 4, 6, 8, 0, 7, 6, 4, 3, 4, 1, 3,\n",
            "        8, 7, 4, 0, 0, 4, 8, 8]), tensor([9, 1, 3, 2, 1, 4, 8, 0, 4, 6, 7, 3, 9, 4, 9, 0, 4, 6, 5, 7, 0, 8, 1, 7,\n",
            "        5, 4, 9, 5, 7, 3, 2, 6]), tensor([9, 8, 7, 3, 7, 7, 4, 7, 8, 8, 0, 2, 4, 0, 2, 3, 8, 9, 7, 1, 3, 4, 2, 9,\n",
            "        7, 1, 0, 2, 6, 0, 0, 5]), tensor([4, 0, 2, 0, 9, 0, 9, 9, 0, 4, 0, 1, 5, 5, 5, 6, 8, 1, 5, 0, 7, 7, 9, 0,\n",
            "        0, 1, 1, 0, 6, 0, 7, 3]), tensor([2, 4, 4, 8, 2, 5, 2, 9, 0, 2, 8, 4, 8, 6, 3, 6, 1, 2, 3, 3, 8, 2, 9, 9,\n",
            "        0, 7, 9, 5, 3, 1, 7, 2]), tensor([8, 4, 7, 2, 1, 6, 0, 7, 2, 1, 9, 3, 2, 8, 3, 8, 2, 2, 5, 6, 7, 2, 1, 4,\n",
            "        0, 7, 9, 0, 1, 3, 7, 5]), tensor([3, 2, 1, 1, 3, 8, 3, 9, 5, 4, 6, 3, 7, 7, 7, 2, 3, 9, 3, 9, 2, 4, 0, 7,\n",
            "        6, 6, 7, 7, 6, 3, 6, 7]), tensor([0, 4, 0, 2, 7, 9, 6, 1, 3, 2, 0, 8, 8, 7, 3, 4, 7, 5, 7, 6, 1, 8, 1, 4,\n",
            "        9, 8, 9, 3, 1, 0, 3, 0]), tensor([3, 0, 6, 4, 1, 9, 7, 1, 2, 6, 5, 3, 4, 1, 7, 4, 7, 6, 2, 8, 6, 1, 6, 9,\n",
            "        7, 3, 3, 4, 9, 3, 9, 8]), tensor([9, 3, 8, 4, 7, 1, 4, 1, 9, 6, 8, 3, 2, 4, 6, 1, 1, 5, 8, 6, 1, 6, 6, 9,\n",
            "        0, 9, 0, 3, 0, 0, 6, 5]), tensor([4, 8, 3, 8, 0, 3, 9, 9, 1, 5, 3, 2, 6, 5, 3, 3, 3, 6, 7, 4, 0, 4, 1, 9,\n",
            "        5, 1, 7, 5, 5, 5, 9, 4]), tensor([8, 4, 6, 6, 6, 6, 2, 1, 1, 2, 2, 8, 4, 9, 0, 5, 4, 1, 6, 4, 3, 2, 3, 8,\n",
            "        6, 2, 9, 3, 2, 9, 7, 2]), tensor([6, 2, 6, 8, 9, 6, 6, 4, 7, 7, 9, 7, 3, 6, 7, 2, 7, 3, 0, 2, 0, 9, 2, 3,\n",
            "        3, 1, 9, 5, 8, 2, 3, 5]), tensor([0, 0, 4, 5, 2, 3, 5, 2, 7, 7, 6, 6, 9, 5, 1, 4, 4, 5, 3, 0, 6, 1, 4, 0,\n",
            "        5, 4, 8, 5, 7, 0, 0, 8]), tensor([3, 5, 2, 4, 9, 8, 5, 9, 0, 1, 7, 5, 0, 1, 5, 3, 3, 3, 3, 4, 4, 3, 6, 7,\n",
            "        8, 0, 9, 3, 3, 0, 4, 2]), tensor([9, 3, 5, 7, 3, 9, 8, 4, 6, 2, 2, 3, 1, 0, 7, 9, 0, 6, 4, 1, 1, 4, 7, 2,\n",
            "        3, 5, 5, 0, 4, 4, 3, 9]), tensor([9, 9, 6, 0, 9, 8, 3, 5, 3, 1, 4, 5, 0, 1, 8, 5, 8, 4, 0, 7, 8, 9, 2, 4,\n",
            "        6, 3, 2, 6, 4, 5, 9, 1]), tensor([9, 7, 4, 5, 0, 3, 2, 2, 1, 6, 1, 5, 8, 0, 4, 6, 9, 4, 7, 1, 3, 0, 2, 7,\n",
            "        7, 5, 9, 7, 7, 3, 8, 7]), tensor([5, 9, 7, 8, 2, 1, 6, 8, 0, 2, 6, 7, 9, 2, 2, 5, 2, 3, 2, 1, 1, 7, 0, 5,\n",
            "        5, 4, 7, 8, 9, 3, 5, 4]), tensor([0, 2, 5, 7, 8, 4, 8, 4, 7, 2, 9, 3, 9, 6, 9, 7, 3, 9, 7, 3, 2, 2, 2, 8,\n",
            "        7, 9, 2, 0, 2, 4, 1, 0]), tensor([3, 8, 6, 8, 4, 4, 2, 3, 5, 7, 7, 8, 5, 6, 3, 2, 1, 8, 3, 8, 7, 4, 2, 3,\n",
            "        0, 8, 3, 3, 2, 9, 0, 9]), tensor([7, 0, 1, 8, 3, 6, 3, 8, 6, 8, 5, 1, 3, 0, 1, 9, 3, 5, 0, 4, 2, 3, 1, 5,\n",
            "        3, 2, 8, 5, 7, 8, 0, 1]), tensor([1, 0, 6, 2, 6, 9, 0, 7, 2, 3, 6, 4, 6, 3, 3, 9, 4, 7, 0, 8, 8, 8, 6, 2,\n",
            "        0, 1, 3, 9, 4, 2, 5, 0]), tensor([5, 3, 2, 5, 6, 0, 0, 0, 6, 9, 1, 3, 3, 3, 5, 6, 6, 6, 1, 4, 9, 7, 4, 4,\n",
            "        7, 5, 7, 1, 4, 8, 7, 9]), tensor([8, 7, 0, 2, 9, 2, 5, 0, 7, 6, 4, 5, 2, 7, 3, 1, 4, 5, 9, 6, 5, 7, 7, 3,\n",
            "        8, 3, 9, 6, 5, 3, 6, 7]), tensor([6, 9, 5, 1, 3, 6, 9, 1, 6, 4, 5, 3, 4, 9, 9, 1, 2, 2, 2, 4, 3, 0, 7, 9,\n",
            "        5, 4, 8, 8, 9, 0, 7, 6]), tensor([4, 3, 8, 8, 4, 4, 0, 1, 4, 0, 2, 1, 5, 4, 6, 3, 0, 3, 4, 5, 6, 3, 7, 6,\n",
            "        0, 3, 1, 8, 4, 8, 9, 9]), tensor([0, 0, 8, 2, 5, 4, 4, 2, 5, 6, 9, 2, 7, 1, 0, 3, 4, 6, 9, 0, 0, 2, 9, 1,\n",
            "        9, 2, 7, 3, 5, 4, 3, 4]), tensor([2, 1, 6, 2, 4, 3, 7, 8, 4, 6, 5, 9, 0, 4, 3, 4, 5, 5, 9, 7, 6, 1, 3, 3,\n",
            "        7, 0, 9, 7, 6, 8, 3, 5]), tensor([5, 8, 1, 9, 4, 0, 4, 2, 1, 6, 3, 3, 2, 5, 0, 3, 1, 3, 7, 5, 2, 5, 9, 0,\n",
            "        8, 3, 6, 4, 2, 7, 0, 7]), tensor([3, 5, 2, 3, 7, 1, 2, 2, 3, 3, 0, 6, 6, 4, 8, 7, 0, 3, 0, 3, 7, 3, 3, 6,\n",
            "        0, 2, 4, 4, 1, 8, 1, 9]), tensor([3, 2, 6, 4, 2, 3, 3, 3, 5, 3, 5, 8, 3, 9, 7, 3, 0, 6, 1, 6, 1, 0, 7, 7,\n",
            "        6, 8, 9, 6, 1, 5, 4, 9]), tensor([4, 7, 9, 9, 7, 0, 1, 0, 9, 9, 5, 1, 7, 2, 9, 3, 5, 6, 8, 1, 7, 3, 3, 8,\n",
            "        4, 7, 0, 8, 9, 8, 8, 4]), tensor([1, 6, 4, 5, 9, 1, 0, 5, 3, 1, 7, 1, 4, 7, 1, 1, 8, 3, 7, 2, 7, 1, 8, 1,\n",
            "        8, 7, 8, 6, 0, 5, 7, 1]), tensor([8, 5, 6, 0, 6, 2, 2, 2, 8, 9, 9, 1, 9, 5, 8, 4, 4, 2, 4, 2, 7, 2, 8, 3,\n",
            "        0, 7, 2, 2, 3, 9, 9, 5]), tensor([9, 2, 6, 7, 7, 0, 7, 4, 7, 9, 2, 3, 9, 5, 3, 4, 3, 1, 4, 9, 1, 2, 8, 5,\n",
            "        1, 7, 9, 0, 3, 3, 6, 9]), tensor([0, 2, 3, 0, 0, 2, 9, 7, 1, 9, 8, 5, 6, 8, 5, 9, 5, 6, 4, 6, 5, 2, 2, 5,\n",
            "        4, 2, 7, 1, 6, 6, 3, 6]), tensor([5, 6, 8, 6, 7, 8, 5, 1, 8, 2, 8, 4, 6, 4, 1, 9, 3, 7, 2, 7, 3, 2, 9, 7,\n",
            "        6, 8, 0, 1, 7, 1, 8, 7]), tensor([6, 1, 7, 3, 0, 3, 6, 6, 6, 0, 4, 1, 7, 9, 0, 2, 9, 2, 0, 7, 1, 7, 5, 2,\n",
            "        9, 8, 6, 4, 6, 3, 3, 2]), tensor([2, 8, 1, 0, 8, 1, 6, 1, 0, 1, 4, 7, 3, 7, 7, 3, 3, 9, 9, 0, 6, 2, 5, 8,\n",
            "        9, 3, 3, 7, 4, 1, 6, 9]), tensor([4, 3, 2, 6, 1, 8, 1, 3, 4, 0, 4, 1, 9, 0, 5, 3, 5, 3, 6, 4, 1, 4, 0, 7,\n",
            "        3, 6, 2, 3, 4, 4, 5, 2]), tensor([9, 6, 8, 0, 4, 4, 0, 1, 7, 5, 0, 3, 3, 2, 0, 3, 0, 2, 6, 2, 5, 1, 4, 6,\n",
            "        6, 1, 9, 3, 6, 6, 9, 7]), tensor([8, 0, 6, 3, 6, 4, 8, 1, 2, 3, 3, 1, 5, 5, 3, 2, 6, 9, 1, 9, 2, 9, 0, 3,\n",
            "        2, 4, 8, 0, 9, 4, 7, 0]), tensor([3, 1, 3, 8, 3, 4, 1, 2, 0, 2, 0, 7, 7, 8, 3, 2, 9, 5, 6, 6, 9, 5, 2, 3,\n",
            "        8, 5, 3, 8, 3, 7, 9, 0]), tensor([2, 5, 1, 0, 5, 2, 3, 7, 7, 9, 6, 3, 7, 1, 2, 0, 8, 6, 2, 2, 7, 8, 3, 2,\n",
            "        4, 6, 9, 7, 3, 2, 5, 4]), tensor([5, 1, 7, 5, 0, 5, 8, 4, 1, 7, 9, 0, 3, 3, 4, 9, 1, 0, 3, 9, 5, 6, 8, 2,\n",
            "        4, 1, 4, 0, 6, 7, 8, 0]), tensor([6, 1, 2, 1, 0, 9, 8, 1, 3, 7, 3, 7, 9, 5, 4, 2, 3, 6, 8, 0, 5, 5, 1, 8,\n",
            "        8, 5, 7, 9, 9, 3, 4, 6]), tensor([2, 7, 9, 4, 6, 7, 5, 4, 7, 6, 1, 4, 4, 2, 0, 9, 0, 0, 5, 1, 1, 7, 8, 3,\n",
            "        2, 4, 2, 0, 0, 4, 5, 5]), tensor([6, 4, 6, 4, 6, 1, 5, 2, 7, 8, 6, 7, 7, 0, 8, 4, 3, 6, 9, 1, 2, 1, 7, 4,\n",
            "        3, 4, 9, 9, 2, 4, 4, 3]), tensor([0, 3, 7, 5, 2, 7, 8, 9, 9, 2, 7, 0, 7, 7, 3, 8, 7, 6, 4, 9, 0, 1, 8, 7,\n",
            "        5, 4, 5, 3, 7, 4, 6, 5]), tensor([5, 0, 7, 9, 0, 9, 5, 9, 4, 0, 1, 7, 8, 3, 5, 0, 8, 6, 5, 0, 2, 3, 7, 1,\n",
            "        1, 1, 8, 7, 7, 6, 3, 4]), tensor([7, 0, 0, 5, 1, 4, 8, 1, 1, 6, 7, 3, 2, 3, 4, 7, 8, 6, 7, 6, 9, 5, 8, 0,\n",
            "        7, 3, 5, 0, 9, 7, 1, 0]), tensor([0, 5, 7, 8, 2, 3, 1, 9, 0, 2, 9, 1, 3, 4, 4, 3, 0, 6, 2, 3, 8, 6, 4, 9,\n",
            "        5, 0, 1, 8, 2, 4, 1, 6]), tensor([2, 9, 4, 3, 7, 9, 6, 3, 5, 4, 5, 9, 8, 5, 3, 0, 1, 2, 6, 4, 1, 9, 6, 3,\n",
            "        0, 5, 5, 4, 6, 2, 0, 1]), tensor([0, 9, 9, 7, 0, 1, 2, 6, 0, 2, 6, 2, 5, 9, 4, 8, 4, 6, 1, 5, 9, 4, 1, 8,\n",
            "        9, 3, 1, 7, 1, 3, 1, 9]), tensor([1, 3, 8, 9, 7, 1, 9, 6, 0, 7, 8, 5, 5, 5, 3, 8, 9, 4, 7, 6, 4, 9, 2, 0,\n",
            "        1, 5, 0, 7, 4, 4, 0, 7]), tensor([1, 1, 6, 2, 8, 9, 2, 6, 7, 2, 0, 0, 5, 1, 6, 8, 2, 3, 9, 6, 3, 9, 7, 6,\n",
            "        1, 3, 9, 6, 4, 0, 3, 7]), tensor([8, 3, 1, 8, 5, 3, 5, 4, 6, 6, 1, 8, 2, 3, 6, 2, 8, 9, 9, 4, 3, 4, 3, 7,\n",
            "        9, 0, 8, 7, 3, 3, 8, 4]), tensor([1, 8, 2, 7, 4, 4, 8, 9, 2, 9, 3, 2, 6, 1, 1, 0, 6, 1, 6, 7, 6, 5, 9, 1,\n",
            "        5, 0, 9, 0, 2, 1, 7, 6]), tensor([5, 8, 8, 9, 5, 5, 3, 8, 2, 0, 3, 6, 1, 1, 9, 0, 9, 7, 5, 3, 2, 9, 5, 5,\n",
            "        4, 2, 9, 9, 3, 0, 6, 4]), tensor([1, 7, 4, 7, 2, 8, 5, 8, 6, 0, 1, 3, 2, 2, 3, 0, 6, 0, 2, 8, 3, 2, 8, 0,\n",
            "        1, 8, 4, 5, 4, 2, 3, 9]), tensor([0, 4, 3, 4, 5, 4, 2, 7, 0, 7, 3, 3, 6, 9, 0, 8, 5, 6, 0, 3, 6, 7, 4, 8,\n",
            "        3, 1, 1, 9, 9, 5, 4, 2]), tensor([1, 6, 4, 8, 9, 2, 5, 8, 3, 3, 0, 9, 6, 0, 6, 3, 2, 4, 9, 2, 3, 0, 4, 2,\n",
            "        0, 4, 1, 3, 7, 2, 4, 2]), tensor([2, 3, 4, 3, 0, 8, 3, 5, 1, 4, 8, 8, 4, 1, 4, 1, 1, 9, 6, 5, 9, 6, 8, 0,\n",
            "        3, 4, 3, 4, 4, 7, 5, 4]), tensor([1, 1, 2, 0, 7, 7, 0, 1, 0, 5, 2, 8, 9, 7, 9, 1, 1, 3, 3, 5, 6, 7, 3, 9,\n",
            "        4, 9, 3, 6, 6, 2, 8, 0]), tensor([6, 5, 9, 8, 3, 8, 1, 3, 1, 3, 5, 2, 5, 4, 4, 9, 2, 7, 1, 4, 8, 3, 7, 7,\n",
            "        6, 7, 9, 6, 7, 7, 0, 1]), tensor([6, 1, 6, 8, 2, 2, 7, 6, 7, 1, 8, 7, 0, 1, 3, 1, 0, 3, 6, 5, 3, 8, 6, 3,\n",
            "        4, 9, 3, 1, 5, 3, 0, 7]), tensor([0, 3, 4, 5, 3, 6, 6, 3, 8, 3, 9, 8, 0, 7, 2, 4, 2, 3, 1, 9, 4, 3, 8, 7,\n",
            "        1, 8, 1, 2, 0, 9, 2, 4]), tensor([3, 4, 6, 1, 3, 5, 2, 9, 7, 5, 3, 9, 9, 9, 6, 4, 8, 0, 7, 0, 8, 6, 2, 1,\n",
            "        9, 7, 7, 3, 8, 0, 3, 0]), tensor([9, 8, 5, 6, 4, 8, 1, 5, 5, 9, 0, 1, 6, 1, 3, 4, 4, 2, 4, 1, 7, 6, 2, 2,\n",
            "        6, 1, 8, 2, 2, 6, 3, 0]), tensor([8, 8, 4, 4, 2, 0, 7, 0, 8, 9, 1, 2, 6, 7, 6, 8, 1, 8, 2, 6, 6, 7, 5, 7,\n",
            "        9, 9, 3, 9, 4, 4, 0, 2]), tensor([1, 4, 8, 4, 4, 5, 0, 2, 2, 9, 1, 8, 0, 6, 2, 6, 6, 4, 6, 6, 1, 3, 6, 3,\n",
            "        4, 1, 7, 8, 1, 0, 7, 6]), tensor([5, 0, 8, 2, 0, 8, 8, 7, 8, 3, 5, 9, 5, 5, 1, 2, 4, 7, 2, 9, 7, 8, 3, 7,\n",
            "        4, 6, 3, 8, 8, 4, 5, 3]), tensor([8, 4, 4, 2, 2, 7, 8, 9, 0, 2, 7, 7, 1, 5, 7, 8, 4, 3, 9, 5, 9, 1, 0, 8,\n",
            "        6, 0, 6, 1, 7, 8, 0, 0]), tensor([3, 8, 6, 5, 0, 0, 7, 6, 6, 8, 5, 6, 8, 8, 2, 6, 3, 6, 7, 1, 3, 7, 4, 6,\n",
            "        7, 1, 6, 5, 2, 0, 7, 9]), tensor([6, 6, 8, 2, 1, 1, 8, 8, 3, 5, 7, 5, 6, 7, 4, 3, 7, 3, 8, 9, 6, 4, 2, 2,\n",
            "        5, 7, 0, 2, 2, 9, 5, 7]), tensor([2, 6, 5, 8, 3, 1, 3, 7, 2, 9, 6, 3, 9, 7, 2, 0, 8, 6, 9, 1, 9, 9, 6, 7,\n",
            "        1, 4, 7, 0, 6, 8, 7, 2]), tensor([8, 5, 9, 3, 4, 0, 6, 9, 6, 5, 6, 4, 3, 7, 9, 1, 8, 9, 4, 0, 9, 7, 4, 9,\n",
            "        2, 1, 2, 7, 5, 1, 6, 7]), tensor([3, 4, 7, 2, 4, 6, 8, 5, 7, 9, 2, 7, 4, 2, 3, 7, 3, 4, 1, 5, 6, 9, 7, 4,\n",
            "        0, 2, 5, 8, 0, 7, 7, 2]), tensor([2, 0, 6, 8, 2, 0, 6, 9, 8, 9, 6, 5, 0, 6, 0, 2, 3, 3, 1, 8, 7, 4, 1, 9,\n",
            "        1, 2, 6, 5, 2, 3, 6, 0]), tensor([2, 6, 0, 7, 2, 1, 8, 4, 8, 7, 9, 4, 1, 3, 5, 7, 7, 3, 6, 5, 7, 4, 4, 7,\n",
            "        3, 2, 4, 9, 6, 7, 3, 9]), tensor([1, 2, 1, 9, 7, 2, 3, 3, 8, 1, 8, 3, 5, 0, 5, 3, 8, 2, 7, 4, 9, 0, 6, 8,\n",
            "        4, 2, 4, 3, 4, 3, 7, 8]), tensor([7, 1, 3, 7, 8, 9, 5, 5, 2, 2, 4, 5, 0, 8, 6, 3, 4, 0, 8, 8, 9, 6, 9, 1,\n",
            "        5, 1, 2, 1, 3, 2, 2, 2]), tensor([4, 8, 7, 5, 9, 2, 0, 5, 7, 3, 5, 6, 5, 3, 0, 4, 0, 7, 1, 5, 8, 9, 8, 1,\n",
            "        9, 3, 2, 4, 3, 7, 1, 8]), tensor([5, 7, 0, 0, 0, 1, 8, 7, 7, 7, 7, 6, 5, 2, 2, 1, 4, 3, 4, 0, 3, 0, 9, 3,\n",
            "        8, 2, 3, 7, 4, 9, 5, 7]), tensor([4, 3, 9, 5, 6, 8, 2, 7, 3, 9, 3, 0, 8, 9, 0, 9, 6, 6, 8, 5, 7, 1, 6, 8,\n",
            "        2, 0, 2, 3, 3, 1, 1, 7]), tensor([6, 2, 2, 5, 9, 8, 7, 5, 3, 4, 7, 5, 2, 0, 1, 1, 1, 4, 8, 6, 6, 0, 5, 5,\n",
            "        6, 7, 6, 8, 2, 4, 6, 2]), tensor([6, 8, 5, 7, 4, 9, 7, 2, 2, 4, 0, 7, 4, 5, 6, 3, 3, 1, 7, 8, 1, 8, 6, 6,\n",
            "        3, 9, 1, 9, 7, 6, 9, 6]), tensor([9, 3, 0, 4, 2, 3, 8, 6, 6, 9, 2, 1, 1, 0, 5, 6, 7, 0, 8, 1, 1, 7, 0, 0,\n",
            "        1, 9, 4, 7, 3, 5, 8, 1]), tensor([6, 6, 4, 0, 3, 0, 2, 3, 8, 9, 5, 8, 9, 3, 1, 7, 8, 9, 4, 1, 1, 7, 0, 7,\n",
            "        0, 0, 9, 6, 0, 2, 9, 4]), tensor([8, 5, 5, 9, 3, 3, 5, 7, 1, 2, 3, 3, 5, 6, 6, 4, 1, 0, 9, 1, 4, 0, 6, 2,\n",
            "        2, 6, 6, 0, 3, 5, 0, 3]), tensor([0, 5, 1, 1, 8, 2, 5, 3, 5, 1, 4, 6, 3, 1, 6, 7, 9, 6, 3, 8, 5, 6, 4, 9,\n",
            "        1, 3, 7, 7, 6, 2, 2, 7]), tensor([5, 6, 1, 5, 7, 9, 8, 2, 8, 3, 7, 6, 6, 2, 9, 9, 0, 2, 7, 3, 1, 0, 8, 2,\n",
            "        4, 4, 6, 7, 1, 8, 6, 0]), tensor([3, 6, 0, 6, 9, 8, 0, 6, 8, 3, 9, 2, 1, 5, 4, 5, 6, 8, 4, 2, 5, 9, 3, 6,\n",
            "        4, 7, 8, 6, 9, 5, 0, 0]), tensor([6, 9, 7, 2, 9, 8, 2, 8, 4, 8, 1, 6, 3, 9, 4, 0, 3, 8, 4, 6, 9, 8, 7, 6,\n",
            "        5, 4, 8, 6, 8, 7, 0, 2]), tensor([1, 1, 8, 7, 3, 2, 0, 3, 2, 3, 8, 8, 8, 9, 3, 6, 9, 6, 0, 3, 6, 4, 2, 8,\n",
            "        0, 5, 9, 6, 7, 1, 9, 0]), tensor([3, 3, 3, 2, 3, 9, 7, 7, 3, 0, 2, 2, 6, 6, 4, 5, 3, 4, 7, 0, 5, 8, 3, 4,\n",
            "        1, 4, 8, 7, 2, 6, 2, 3]), tensor([5, 0, 3, 5, 2, 5, 3, 7, 1, 2, 9, 8, 7, 4, 8, 8, 5, 5, 8, 4, 4, 0, 8, 3,\n",
            "        0, 2, 9, 6, 1, 0, 5, 1]), tensor([4, 0, 9, 2, 6, 3, 6, 7, 4, 4, 4, 3, 8, 5, 1, 8, 3, 4, 4, 5, 0, 0, 7, 8,\n",
            "        7, 4, 4, 2, 2, 9, 3, 5]), tensor([0, 9, 9, 0, 1, 3, 7, 1, 9, 6, 5, 2, 6, 9, 5, 7, 7, 4, 2, 8, 3, 1, 7, 8,\n",
            "        4, 4, 8, 0, 5, 5, 7, 1]), tensor([7, 6, 2, 1, 5, 1, 7, 4, 1, 0, 3, 2, 7, 3, 9, 3, 5, 4, 0, 0, 7, 7, 4, 2,\n",
            "        3, 8, 5, 8, 3, 0, 4, 1]), tensor([4, 9, 0, 8, 9, 0, 3, 2, 9, 5, 9, 1, 1, 3, 8, 0, 1, 4, 6, 9, 9, 8, 9, 7,\n",
            "        2, 0, 0, 9, 9, 3, 9, 3]), tensor([2, 3, 7, 1, 1, 3, 6, 8, 3, 4, 3, 3, 8, 3, 7, 1, 0, 3, 8, 3, 7, 9, 6, 0,\n",
            "        3, 0, 4, 5, 7, 6, 7, 3]), tensor([7, 0, 2, 3, 3, 3, 0, 0, 6, 4, 4, 3, 6, 7, 7, 6, 7, 4, 0, 2, 6, 1, 9, 5,\n",
            "        9, 9, 0, 5, 8, 2, 7, 3]), tensor([7, 5, 2, 8, 9, 7, 8, 0, 0, 3, 0, 6, 3, 7, 8, 0, 1, 2, 2, 6, 1, 1, 3, 2,\n",
            "        6, 5, 4, 3, 9, 3, 3, 2]), tensor([3, 7, 2, 9, 2, 1, 4, 7, 5, 5, 7, 4, 6, 9, 7, 7, 7, 4, 1, 8, 3, 3, 8, 0,\n",
            "        8, 7, 6, 7, 7, 9, 4, 4]), tensor([0, 3, 9, 2, 1, 5, 2, 0, 5, 8, 6, 7, 0, 1, 0, 5, 6, 2, 1, 4, 1, 8, 7, 9,\n",
            "        9, 7, 3, 2, 2, 2, 7, 6]), tensor([3, 9, 0, 3, 9, 5, 1, 0, 9, 6, 7, 6, 3, 5, 7, 2, 7, 6, 8, 7, 5, 4, 5, 9,\n",
            "        4, 3, 5, 0, 2, 7, 5, 3]), tensor([1, 9, 3, 7, 1, 0, 3, 4, 4, 2, 5, 9, 2, 1, 1, 9, 7, 9, 0, 1, 4, 8, 5, 2,\n",
            "        5, 3, 7, 8, 7, 7, 0, 8]), tensor([5, 6, 2, 8, 5, 6, 7, 7, 9, 7, 1, 2, 0, 8, 6, 4, 2, 2, 4, 5, 5, 0, 3, 3,\n",
            "        2, 4, 5, 6, 7, 1, 8, 7]), tensor([1, 6, 2, 0, 6, 7, 3, 8, 6, 6, 6, 3, 7, 4, 0, 3, 0, 8, 7, 3, 3, 0, 5, 6,\n",
            "        1, 5, 0, 9, 9, 0, 3, 0]), tensor([6, 1, 6, 6, 5, 7, 2, 2, 0, 9, 2, 0, 8, 2, 8, 3, 7, 7, 3, 3, 7, 5, 7, 0,\n",
            "        0, 9, 4, 5, 0, 7, 2, 9]), tensor([5, 5, 8, 7, 4, 9, 5, 6, 3, 6, 3, 0, 2, 7, 6, 4, 2, 7, 4, 1, 5, 7, 9, 7,\n",
            "        3, 9, 8, 8, 5, 1, 9, 6]), tensor([1, 0, 4, 8, 0, 5, 6, 9, 8, 8, 4, 4, 4, 1, 7, 7, 1, 5, 6, 7, 0, 3, 2, 8,\n",
            "        7, 8, 5, 5, 1, 1, 3, 8]), tensor([9, 9, 9, 1, 0, 6, 3, 4, 3, 4, 9, 1, 3, 0, 1, 5, 3, 6, 9, 6, 4, 2, 2, 6,\n",
            "        7, 9, 6, 7, 1, 3, 0, 8]), tensor([3, 3, 5, 6, 0, 8, 3, 0, 4, 0, 1, 8, 4, 3, 2, 9, 5, 4, 3, 5, 4, 1, 6, 4,\n",
            "        4, 5, 8, 0, 7, 3, 0, 6]), tensor([7, 4, 4, 3, 8, 3, 4, 6, 3, 8, 8, 1, 7, 3, 4, 8, 7, 8, 9, 9, 9, 2, 6, 9,\n",
            "        4, 0, 8, 8, 8, 0, 5, 6]), tensor([6, 2, 6, 3, 9, 9, 2, 3, 5, 4, 0, 3, 0, 8, 9, 5, 7, 3, 0, 2, 4, 1, 3, 8,\n",
            "        1, 8, 2, 2, 6, 5, 8, 5]), tensor([1, 2, 4, 0, 5, 2, 5, 8, 0, 7, 1, 6, 5, 8, 9, 7, 4, 9, 4, 3, 3, 4, 5, 0,\n",
            "        8, 0, 4, 6, 3, 0, 0, 0]), tensor([3, 3, 5, 9, 4, 7, 1, 8, 0, 0, 6, 1, 7, 9, 4, 0, 4, 5, 2, 9, 4, 9, 8, 8,\n",
            "        7, 6, 2, 0, 9, 3, 0, 7]), tensor([3, 4, 7, 6, 4, 1, 0, 5, 7, 0, 5, 9, 4, 3, 2, 8, 5, 8, 1, 9, 6, 7, 6, 7,\n",
            "        3, 6, 4, 5, 6, 8, 0, 6]), tensor([7, 4, 0, 5, 1, 5, 9, 6, 0, 9, 5, 8, 5, 7, 3, 9, 8, 3, 2, 6, 5, 7, 5, 1,\n",
            "        1, 0, 4, 1, 8, 9, 8, 2]), tensor([9, 6, 3, 3, 4, 6, 2, 4, 1, 1, 3, 7, 3, 5, 0, 2, 6, 8, 8, 6, 7, 7, 1, 2,\n",
            "        6, 6, 1, 6, 0, 2, 5, 8]), tensor([2, 8, 2, 3, 1, 8, 8, 4, 4, 0, 8, 4, 8, 8, 3, 4, 8, 8, 7, 5, 7, 0, 1, 1,\n",
            "        9, 7, 8, 0, 1, 9, 6, 3]), tensor([6, 9, 4, 0, 4, 9, 9, 2, 2, 2, 0, 5, 0, 6, 3, 7, 8, 0, 2, 6, 1, 1, 9, 9,\n",
            "        2, 5, 3, 4, 8, 9, 0, 8]), tensor([6, 1, 2, 3, 7, 6, 9, 0, 4, 8, 2, 3, 4, 9, 5, 5, 9, 4, 0, 4, 1, 1, 8, 9,\n",
            "        6, 2, 2, 3, 3, 0, 7, 1]), tensor([8, 8, 5, 3, 3, 7, 7, 1, 0, 1, 4, 1, 6, 0, 2, 1, 1, 0, 7, 3, 7, 3, 9, 0,\n",
            "        1, 8, 9, 2, 6, 6, 0, 9]), tensor([1, 6, 1, 2, 7, 6, 0, 5, 6, 6, 2, 5, 5, 1, 5, 9, 1, 8, 5, 3, 1, 6, 6, 3,\n",
            "        7, 3, 5, 4, 8, 0, 7, 1]), tensor([2, 3, 9, 8, 3, 8, 7, 7, 9, 7, 0, 9, 4, 0, 9, 6, 1, 9, 8, 6, 3, 7, 2, 9,\n",
            "        5, 4, 7, 1, 2, 1, 2, 3]), tensor([9, 2, 0, 5, 0, 0, 5, 3, 4, 6, 9, 9, 1, 6, 7, 7, 7, 2, 5, 1, 2, 0, 6, 3,\n",
            "        8, 9, 8, 4, 1, 0, 6, 3]), tensor([9, 8, 8, 7, 8, 3, 0, 0, 7, 2, 8, 6, 9, 9, 6, 3, 7, 2, 2, 1, 5, 3, 2, 0,\n",
            "        5, 5, 0, 8, 4, 7, 8, 9]), tensor([4, 2, 1, 7, 6, 4, 4, 7, 4, 3, 6, 0, 7, 7, 8, 0, 9, 1, 2, 6, 2, 9, 7, 1,\n",
            "        9, 7, 3, 3, 1, 6, 3, 5]), tensor([3, 3, 9, 4, 1, 4, 6, 6, 7, 5, 4, 6, 9, 9, 8, 1, 8, 1, 2, 2, 7, 5, 0, 1,\n",
            "        4, 4, 0, 1, 2, 0, 7, 6]), tensor([8, 8, 2, 8, 4, 5, 0, 6, 1, 7, 9, 7, 3, 9, 4, 6, 2, 8, 7, 1, 6, 8, 7, 6,\n",
            "        6, 4, 8, 2, 8, 0, 1, 5]), tensor([3, 4, 1, 7, 4, 9, 3, 7, 9, 7, 1, 8, 3, 0, 9, 3, 0, 2, 4, 2, 7, 6, 0, 9,\n",
            "        8, 8, 1, 5, 7, 7, 0, 7]), tensor([5, 3, 2, 0, 9, 8, 7, 3, 7, 0, 2, 5, 5, 2, 2, 9, 2, 6, 3, 2, 0, 4, 7, 8,\n",
            "        6, 0, 0, 1, 9, 3, 8, 3]), tensor([7, 7, 1, 7, 1, 3, 3, 8, 5, 0, 0, 6, 4, 1, 1, 2, 9, 0, 0, 2, 1, 3, 2, 7,\n",
            "        0, 1, 8, 5, 7, 0, 0, 5]), tensor([0, 4, 6, 2, 2, 5, 6, 1, 0, 2, 1, 5, 3, 8, 8, 9, 5, 0, 1, 3, 1, 2, 9, 0,\n",
            "        3, 1, 1, 4, 7, 8, 3, 6]), tensor([9, 0, 6, 8, 3, 8, 6, 9, 4, 7, 7, 0, 3, 6, 2, 5, 7, 3, 7, 4, 6, 0, 9, 3,\n",
            "        0, 5, 4, 1, 2, 1, 8, 1]), tensor([9, 4, 8, 9, 9, 3, 3, 7, 0, 0, 6, 1, 6, 4, 6, 4, 4, 2, 7, 3, 6, 3, 4, 0,\n",
            "        0, 1, 3, 3, 6, 5, 7, 9]), tensor([6, 6, 3, 7, 5, 1, 6, 7, 7, 5, 8, 0, 9, 1, 2, 1, 2, 9, 1, 6, 5, 3, 3, 6,\n",
            "        7, 1, 2, 7, 9, 3, 7, 4]), tensor([4, 3, 6, 7, 2, 7, 3, 3, 7, 8, 8, 7, 0, 1, 4, 0, 9, 7, 7, 7, 1, 2, 0, 4,\n",
            "        7, 4, 3, 3, 1, 3, 5, 7]), tensor([2, 5, 2, 0, 3, 1, 4, 7, 5, 3, 2, 5, 8, 4, 7, 4, 0, 8, 3, 0, 1, 7, 5, 2,\n",
            "        9, 1, 4, 6, 5, 1, 0, 6]), tensor([3, 7, 3, 1, 8, 6, 5, 9, 8, 8, 1, 0, 9, 6, 6, 6, 1, 1, 4, 7, 3, 0, 7, 5,\n",
            "        8, 3, 5, 4, 6, 6, 7, 2]), tensor([0, 8, 3, 8, 1, 1, 2, 4, 8, 1, 0, 8, 1, 8, 5, 3, 2, 7, 0, 2, 4, 9, 6, 2,\n",
            "        4, 9, 9, 6, 9, 9, 6, 7]), tensor([3, 2, 3, 3, 9, 6, 7, 7, 8, 1, 1, 2, 6, 2, 7, 9, 4, 7, 6, 7, 0, 6, 2, 9,\n",
            "        9, 7, 7, 5, 0, 1, 2, 3]), tensor([4, 6, 2, 0, 9, 8, 7, 8, 4, 2, 8, 9, 7, 1, 6, 7, 9, 9, 2, 1, 5, 1, 1, 3,\n",
            "        6, 7, 9, 8, 3, 3, 8, 5]), tensor([2, 4, 3, 6, 8, 0, 9, 2, 6, 5, 0, 1, 2, 8, 1, 8, 2, 1, 8, 1, 7, 3, 9, 1,\n",
            "        8, 3, 5, 4, 1, 0, 8, 4]), tensor([6, 6, 8, 2, 2, 5, 5, 0, 6, 6, 9, 8, 0, 1, 0, 0, 6, 8, 3, 4, 7, 7, 5, 9,\n",
            "        2, 5, 3, 6, 9, 9, 4, 8]), tensor([5, 3, 9, 3, 3, 0, 2, 8, 3, 1, 9, 0, 1, 0, 7, 0, 8, 5, 0, 4, 6, 4, 1, 1,\n",
            "        9, 0, 8, 5, 5, 2, 6, 0]), tensor([5, 2, 5, 6, 8, 3, 2, 4, 8, 4, 1, 5, 0, 4, 3, 1, 9, 2, 4, 7, 8, 2, 3, 6,\n",
            "        2, 5, 4, 9, 0, 7, 1, 1]), tensor([7, 9, 0, 1, 6, 7, 5, 6, 6, 3, 3, 6, 1, 0, 0, 9, 9, 8, 2, 9, 0, 4, 5, 4,\n",
            "        7, 2, 6, 5, 6, 6, 9, 3]), tensor([7, 0, 6, 3, 5, 6, 4, 3, 4, 6, 9, 8, 8, 6, 6, 0, 0, 3, 9, 4, 2, 8, 1, 7,\n",
            "        2, 4, 9, 3, 6, 2, 0, 6]), tensor([7, 0, 5, 0, 6, 3, 1, 3, 0, 9, 5, 4, 3, 7, 6, 6, 2, 9, 0, 7, 6, 5, 6, 8,\n",
            "        2, 1, 0, 0, 6, 5, 9, 3]), tensor([5, 0, 2, 0, 7, 4, 4, 8, 1, 3, 6, 0, 3, 8, 9, 4, 0, 1, 8, 3, 8, 2, 5, 7,\n",
            "        0, 3, 6, 8, 1, 5, 9, 2]), tensor([2, 8, 9, 4, 1, 0, 5, 5, 2, 2, 8, 2, 0, 6, 7, 6, 5, 3, 7, 4, 5, 8, 8, 3,\n",
            "        9, 5, 0, 6, 3, 6, 3, 6]), tensor([6, 9, 2, 5, 6, 5, 0, 3, 1, 7, 8, 0, 4, 7, 3, 3, 8, 0, 0, 9, 2, 8, 5, 4,\n",
            "        9, 6, 3, 2, 2, 0, 1, 1]), tensor([7, 3, 0, 0, 1, 9, 7, 8, 4, 0, 2, 3, 7, 3, 6, 4, 7, 0, 6, 2, 9, 8, 0, 5,\n",
            "        7, 2, 4, 5, 2, 1, 0, 7]), tensor([4, 4, 2, 7, 3, 3, 3, 3, 1, 5, 4, 0, 3, 7, 7, 5, 6, 5, 6, 7, 2, 6, 3, 5,\n",
            "        4, 8, 9, 0, 9, 7, 5, 7]), tensor([7, 9, 3, 3, 8, 4, 3, 9, 3, 1, 0, 2, 5, 2, 8, 7, 9, 7, 7, 7, 9, 2, 3, 0,\n",
            "        6, 7, 6, 1, 8, 0, 3, 8]), tensor([5, 0, 5, 6, 9, 1, 1, 2, 0, 8, 9, 7, 7, 5, 8, 6, 1, 4, 0, 1, 8, 4, 3, 4,\n",
            "        7, 9, 3, 7, 5, 5, 0, 9]), tensor([1, 6, 1, 6, 7, 6, 6, 9, 3, 4, 4, 1, 7, 8, 1, 6, 5, 9, 0, 0, 9, 5, 3, 8,\n",
            "        8, 2, 8, 5, 7, 0, 7, 0]), tensor([9, 6, 9, 2, 9, 4, 8, 5, 4, 0, 1, 6, 6, 0, 7, 3, 1, 7, 7, 8, 5, 7, 0, 6,\n",
            "        4, 2, 1, 3, 8, 0, 3, 2]), tensor([7, 5, 9, 1, 0, 4, 3, 7, 6, 6, 3, 1, 8, 4, 7, 2, 5, 5, 3, 1, 5, 1, 9, 2,\n",
            "        9, 6, 6, 6, 1, 8, 6, 9]), tensor([0, 0, 0, 6, 8, 4, 0, 1, 0, 2, 6, 4, 4, 8, 5, 7, 7, 7, 0, 5, 5, 7, 9, 7,\n",
            "        8, 2, 8, 2, 1, 3, 3, 4]), tensor([8, 9, 4, 0, 7, 3, 6, 8, 1, 0, 6, 1, 6, 5, 3, 9, 7, 2, 8, 7, 3, 7, 6, 3,\n",
            "        2, 1, 7, 3, 3, 8, 3, 0]), tensor([2, 3, 0, 1, 6, 6, 5, 0, 1, 5, 5, 4, 5, 1, 7, 8, 7, 1, 2, 7, 0, 9, 3, 1,\n",
            "        9, 0, 4, 6, 4, 5, 9, 9]), tensor([3, 2, 7, 1, 8, 1, 4, 2, 3, 7, 8, 4, 0, 4, 5, 1, 2, 9, 3, 5, 8, 0, 1, 9,\n",
            "        6, 7, 3, 7, 4, 4, 6, 6]), tensor([2, 1, 3, 3, 6, 7, 0, 5, 9, 6, 9, 3, 7, 9, 9, 4, 8, 3, 0, 1, 4, 4, 0, 2,\n",
            "        8, 3, 6, 1, 3, 3, 2, 7]), tensor([8, 7, 0, 4, 3, 4, 4, 5, 7, 9, 4, 8, 2, 4, 5, 0, 1, 7, 6, 7, 6, 0, 0, 3,\n",
            "        5, 1, 1, 2, 3, 6, 9, 8]), tensor([1, 0, 1, 6, 8, 5, 4, 0, 4, 0, 4, 9, 3, 8, 5, 2, 8, 6, 2, 8, 6, 4, 4, 0,\n",
            "        8, 7, 5, 2, 8, 7, 2, 9]), tensor([5, 9, 2, 1, 0, 4, 1, 7, 7, 1, 7, 3, 5, 8, 7, 2, 5, 1, 5, 2, 0, 6, 0, 1,\n",
            "        2, 4, 4, 8, 0, 3, 2, 2]), tensor([3, 5, 1, 6, 3, 6, 5, 1, 8, 3, 1, 8, 7, 8, 4, 2, 0, 0, 7, 6, 1, 6, 9, 0,\n",
            "        6, 6, 1, 6, 6, 8, 3, 0]), tensor([8, 5, 7, 5, 4, 7, 7, 6, 1, 8, 1, 7, 7, 0, 3, 1, 6, 5, 5, 3, 8, 9, 3, 0,\n",
            "        9, 5, 1, 7, 2, 1, 5, 2]), tensor([8, 3, 3, 0, 7, 1, 3, 4, 4, 5, 7, 0, 6, 7, 3, 3, 7, 8, 8, 2, 5, 6, 9, 7,\n",
            "        3, 2, 5, 3, 0, 5, 5, 0]), tensor([9, 1, 4, 3, 5, 6, 4, 1, 4, 0, 3, 3, 6, 3, 0, 8, 4, 7, 5, 5, 7, 0, 7, 9,\n",
            "        4, 3, 2, 9, 4, 7, 1, 8]), tensor([8, 8, 5, 8, 3, 8, 9, 3, 0, 0, 2, 1, 8, 4, 4, 2, 0, 9, 5, 3, 1, 5, 1, 3,\n",
            "        5, 6, 6, 2, 1, 7, 3, 0]), tensor([8, 2, 9, 3, 9, 0, 0, 4, 1, 2, 6, 2, 3, 1, 4, 9, 7, 3, 2, 6, 2, 7, 7, 8,\n",
            "        5, 0, 9, 3, 0, 3, 8, 1]), tensor([3, 2, 7, 5, 0, 2, 0, 6, 8, 9, 1, 9, 1, 8, 1, 0])]\n"
          ]
        },
        {
          "output_type": "execute_result",
          "data": {
            "text/plain": [
              "tensor([9, 2, 1,  ..., 8, 1, 0])"
            ]
          },
          "metadata": {},
          "execution_count": 181
        }
      ]
    },
    {
      "cell_type": "code",
      "source": [
        "pip install torchmetrics"
      ],
      "metadata": {
        "colab": {
          "base_uri": "https://localhost:8080/"
        },
        "id": "3xcNEbE2vSJw",
        "outputId": "e7980c00-de41-4b5d-ef44-04b97f665993"
      },
      "execution_count": 183,
      "outputs": [
        {
          "output_type": "stream",
          "name": "stdout",
          "text": [
            "Collecting torchmetrics\n",
            "  Downloading torchmetrics-1.3.0.post0-py3-none-any.whl (840 kB)\n",
            "\u001b[2K     \u001b[90m━━━━━━━━━━━━━━━━━━━━━━━━━━━━━━━━━━━━━━━━\u001b[0m \u001b[32m840.2/840.2 kB\u001b[0m \u001b[31m6.0 MB/s\u001b[0m eta \u001b[36m0:00:00\u001b[0m\n",
            "\u001b[?25hRequirement already satisfied: numpy>1.20.0 in /usr/local/lib/python3.10/dist-packages (from torchmetrics) (1.23.5)\n",
            "Requirement already satisfied: packaging>17.1 in /usr/local/lib/python3.10/dist-packages (from torchmetrics) (23.2)\n",
            "Requirement already satisfied: torch>=1.10.0 in /usr/local/lib/python3.10/dist-packages (from torchmetrics) (2.1.0+cu121)\n",
            "Collecting lightning-utilities>=0.8.0 (from torchmetrics)\n",
            "  Downloading lightning_utilities-0.10.1-py3-none-any.whl (24 kB)\n",
            "Requirement already satisfied: setuptools in /usr/local/lib/python3.10/dist-packages (from lightning-utilities>=0.8.0->torchmetrics) (67.7.2)\n",
            "Requirement already satisfied: typing-extensions in /usr/local/lib/python3.10/dist-packages (from lightning-utilities>=0.8.0->torchmetrics) (4.5.0)\n",
            "Requirement already satisfied: filelock in /usr/local/lib/python3.10/dist-packages (from torch>=1.10.0->torchmetrics) (3.13.1)\n",
            "Requirement already satisfied: sympy in /usr/local/lib/python3.10/dist-packages (from torch>=1.10.0->torchmetrics) (1.12)\n",
            "Requirement already satisfied: networkx in /usr/local/lib/python3.10/dist-packages (from torch>=1.10.0->torchmetrics) (3.2.1)\n",
            "Requirement already satisfied: jinja2 in /usr/local/lib/python3.10/dist-packages (from torch>=1.10.0->torchmetrics) (3.1.3)\n",
            "Requirement already satisfied: fsspec in /usr/local/lib/python3.10/dist-packages (from torch>=1.10.0->torchmetrics) (2023.6.0)\n",
            "Requirement already satisfied: triton==2.1.0 in /usr/local/lib/python3.10/dist-packages (from torch>=1.10.0->torchmetrics) (2.1.0)\n",
            "Requirement already satisfied: MarkupSafe>=2.0 in /usr/local/lib/python3.10/dist-packages (from jinja2->torch>=1.10.0->torchmetrics) (2.1.4)\n",
            "Requirement already satisfied: mpmath>=0.19 in /usr/local/lib/python3.10/dist-packages (from sympy->torch>=1.10.0->torchmetrics) (1.3.0)\n",
            "Installing collected packages: lightning-utilities, torchmetrics\n",
            "Successfully installed lightning-utilities-0.10.1 torchmetrics-1.3.0.post0\n"
          ]
        }
      ]
    },
    {
      "cell_type": "code",
      "source": [
        "pip install mlxtend"
      ],
      "metadata": {
        "colab": {
          "base_uri": "https://localhost:8080/"
        },
        "id": "zXOE4eyFwmNI",
        "outputId": "6f88305d-923a-4f0e-a690-db658fbcbf66"
      },
      "execution_count": 187,
      "outputs": [
        {
          "output_type": "stream",
          "name": "stdout",
          "text": [
            "Requirement already satisfied: mlxtend in /usr/local/lib/python3.10/dist-packages (0.22.0)\n",
            "Requirement already satisfied: scipy>=1.2.1 in /usr/local/lib/python3.10/dist-packages (from mlxtend) (1.11.4)\n",
            "Requirement already satisfied: numpy>=1.16.2 in /usr/local/lib/python3.10/dist-packages (from mlxtend) (1.23.5)\n",
            "Requirement already satisfied: pandas>=0.24.2 in /usr/local/lib/python3.10/dist-packages (from mlxtend) (1.5.3)\n",
            "Requirement already satisfied: scikit-learn>=1.0.2 in /usr/local/lib/python3.10/dist-packages (from mlxtend) (1.2.2)\n",
            "Requirement already satisfied: matplotlib>=3.0.0 in /usr/local/lib/python3.10/dist-packages (from mlxtend) (3.7.1)\n",
            "Requirement already satisfied: joblib>=0.13.2 in /usr/local/lib/python3.10/dist-packages (from mlxtend) (1.3.2)\n",
            "Requirement already satisfied: setuptools in /usr/local/lib/python3.10/dist-packages (from mlxtend) (67.7.2)\n",
            "Requirement already satisfied: contourpy>=1.0.1 in /usr/local/lib/python3.10/dist-packages (from matplotlib>=3.0.0->mlxtend) (1.2.0)\n",
            "Requirement already satisfied: cycler>=0.10 in /usr/local/lib/python3.10/dist-packages (from matplotlib>=3.0.0->mlxtend) (0.12.1)\n",
            "Requirement already satisfied: fonttools>=4.22.0 in /usr/local/lib/python3.10/dist-packages (from matplotlib>=3.0.0->mlxtend) (4.47.2)\n",
            "Requirement already satisfied: kiwisolver>=1.0.1 in /usr/local/lib/python3.10/dist-packages (from matplotlib>=3.0.0->mlxtend) (1.4.5)\n",
            "Requirement already satisfied: packaging>=20.0 in /usr/local/lib/python3.10/dist-packages (from matplotlib>=3.0.0->mlxtend) (23.2)\n",
            "Requirement already satisfied: pillow>=6.2.0 in /usr/local/lib/python3.10/dist-packages (from matplotlib>=3.0.0->mlxtend) (9.4.0)\n",
            "Requirement already satisfied: pyparsing>=2.3.1 in /usr/local/lib/python3.10/dist-packages (from matplotlib>=3.0.0->mlxtend) (3.1.1)\n",
            "Requirement already satisfied: python-dateutil>=2.7 in /usr/local/lib/python3.10/dist-packages (from matplotlib>=3.0.0->mlxtend) (2.8.2)\n",
            "Requirement already satisfied: pytz>=2020.1 in /usr/local/lib/python3.10/dist-packages (from pandas>=0.24.2->mlxtend) (2023.3.post1)\n",
            "Requirement already satisfied: threadpoolctl>=2.0.0 in /usr/local/lib/python3.10/dist-packages (from scikit-learn>=1.0.2->mlxtend) (3.2.0)\n",
            "Requirement already satisfied: six>=1.5 in /usr/local/lib/python3.10/dist-packages (from python-dateutil>=2.7->matplotlib>=3.0.0->mlxtend) (1.16.0)\n"
          ]
        }
      ]
    },
    {
      "cell_type": "code",
      "source": [
        "import torchmetrics, mlxtend"
      ],
      "metadata": {
        "id": "moAaNj6GwqOG"
      },
      "execution_count": 188,
      "outputs": []
    },
    {
      "cell_type": "code",
      "source": [
        "test_data.targets\n"
      ],
      "metadata": {
        "colab": {
          "base_uri": "https://localhost:8080/"
        },
        "id": "_VGsIJrHxcbl",
        "outputId": "85650e8b-bf3c-464a-8f81-5146b1e5cad3"
      },
      "execution_count": 190,
      "outputs": [
        {
          "output_type": "execute_result",
          "data": {
            "text/plain": [
              "tensor([9, 2, 1,  ..., 8, 1, 5])"
            ]
          },
          "metadata": {},
          "execution_count": 190
        }
      ]
    },
    {
      "cell_type": "code",
      "source": [
        "from torchmetrics import ConfusionMatrix\n",
        "from mlxtend.plotting import plot_confusion_matrix\n",
        "\n",
        "confmat = ConfusionMatrix(num_classes =len(class_name), task = \"multiclass\")\n",
        "confmat_tensor = confmat(preds = y_pred_tensor,\n",
        "                         target = test_data.targets)\n"
      ],
      "metadata": {
        "id": "EQSULvipw32B"
      },
      "execution_count": 193,
      "outputs": []
    },
    {
      "cell_type": "code",
      "source": [
        "confmat_tensor"
      ],
      "metadata": {
        "colab": {
          "base_uri": "https://localhost:8080/"
        },
        "id": "yKUBa14hxfWC",
        "outputId": "bdb0d204-3f08-4865-aa1d-1c7ca9039c68"
      },
      "execution_count": 194,
      "outputs": [
        {
          "output_type": "execute_result",
          "data": {
            "text/plain": [
              "tensor([[773,   4,  29,  50,  10,   0, 129,   0,   5,   0],\n",
              "        [ 21, 900,   2,  59,   8,   2,   6,   1,   1,   0],\n",
              "        [ 22,   1, 752,  23,  94,   0, 100,   0,   8,   0],\n",
              "        [ 37,  12,   7, 888,  21,   0,  28,   0,   5,   2],\n",
              "        [ 16,   5,  87,  76, 712,   0,  93,   0,  11,   0],\n",
              "        [ 30,   5,   3,  15,   1, 802,  10,  58,  58,  18],\n",
              "        [135,   5,  79,  60,  79,   1, 633,   0,   8,   0],\n",
              "        [  1,   1,   0,   1,   0,  16,   0, 920,   5,  56],\n",
              "        [ 31,   7,   8,  13,  16,   5,  41,   7, 870,   2],\n",
              "        [  1,   3,   0,   5,   0,  39,   5, 126,   6, 815]])"
            ]
          },
          "metadata": {},
          "execution_count": 194
        }
      ]
    },
    {
      "cell_type": "code",
      "source": [
        "fig, axis = plot_confusion_matrix(conf_mat=confmat_tensor.numpy(),\n",
        "                                  class_names = class_name,\n",
        "                                  figsize = (10,7),\n",
        "                                  )"
      ],
      "metadata": {
        "colab": {
          "base_uri": "https://localhost:8080/",
          "height": 667
        },
        "id": "O01ZfRlXxva8",
        "outputId": "10289673-b018-4d65-b092-fcd8a4c60198"
      },
      "execution_count": 200,
      "outputs": [
        {
          "output_type": "display_data",
          "data": {
            "text/plain": [
              "<Figure size 1000x700 with 1 Axes>"
            ],
            "image/png": "[encoded data removed]"
          },
          "metadata": {}
        }
      ]
    },
    {
      "cell_type": "markdown",
      "source": [
        "Saving and loading our best model"
      ],
      "metadata": {
        "id": "L4XG95JDx_bS"
      }
    },
    {
      "cell_type": "code",
      "source": [
        "from pathlib import Path\n",
        "\n",
        "Model_path = Path(\"model2\")\n",
        "Model_path.mkdir(parents = True, exist_ok = True)\n",
        "Model_name = \"model.pth\"\n",
        "model_save_path= Model_path/Model_name\n",
        "\n",
        "print(f\"saving model for {model_save_path}\")\n",
        "torch.save(obj = model_2.state_dict(),\n",
        "           f = model_save_path)\n"
      ],
      "metadata": {
        "colab": {
          "base_uri": "https://localhost:8080/"
        },
        "id": "39WSm2igypMb",
        "outputId": "5d6cd950-0661-434a-b9dd-295896e49783"
      },
      "execution_count": 202,
      "outputs": [
        {
          "output_type": "stream",
          "name": "stdout",
          "text": [
            "saving model for model2/model.pth\n"
          ]
        }
      ]
    },
    {
      "cell_type": "code",
      "source": [
        "torch.manual_seed(42)\n",
        "\n",
        "loaded_model = FashionMNISTModelV2(input_shape =1,\n",
        "                                   hidden_units = 10,\n",
        "                                   output_shape = len(class_name)\n",
        "                                   )\n",
        "\n",
        "loaded_model.load_state_dict(torch.load(f = model_save_path))"
      ],
      "metadata": {
        "colab": {
          "base_uri": "https://localhost:8080/"
        },
        "id": "wnm5hmieypPF",
        "outputId": "b33c6d71-982a-42bd-d25b-43aed4690f41"
      },
      "execution_count": 203,
      "outputs": [
        {
          "output_type": "execute_result",
          "data": {
            "text/plain": [
              "<All keys matched successfully>"
            ]
          },
          "metadata": {},
          "execution_count": 203
        }
      ]
    },
    {
      "cell_type": "code",
      "source": [
        "loaded_model.to(device)"
      ],
      "metadata": {
        "colab": {
          "base_uri": "https://localhost:8080/"
        },
        "id": "7rlOh4K-ztfh",
        "outputId": "e8bc4982-a37c-4aae-d9cf-73918a928d6a"
      },
      "execution_count": 204,
      "outputs": [
        {
          "output_type": "execute_result",
          "data": {
            "text/plain": [
              "FashionMNISTModelV2(\n",
              "  (conv_block1): Sequential(\n",
              "    (0): Conv2d(1, 10, kernel_size=(3, 3), stride=(1, 1), padding=(1, 1))\n",
              "    (1): ReLU()\n",
              "    (2): Conv2d(10, 10, kernel_size=(3, 3), stride=(1, 1), padding=(1, 1))\n",
              "    (3): ReLU()\n",
              "    (4): MaxPool2d(kernel_size=2, stride=2, padding=0, dilation=1, ceil_mode=False)\n",
              "  )\n",
              "  (conv_block2): Sequential(\n",
              "    (0): Conv2d(10, 10, kernel_size=(3, 3), stride=(1, 1), padding=(1, 1))\n",
              "    (1): ReLU()\n",
              "    (2): Conv2d(10, 10, kernel_size=(3, 3), stride=(1, 1), padding=(1, 1))\n",
              "    (3): ReLU()\n",
              "    (4): MaxPool2d(kernel_size=2, stride=2, padding=0, dilation=1, ceil_mode=False)\n",
              "  )\n",
              "  (classifier): Sequential(\n",
              "    (0): Flatten(start_dim=1, end_dim=-1)\n",
              "    (1): Linear(in_features=490, out_features=10, bias=True)\n",
              "  )\n",
              ")"
            ]
          },
          "metadata": {},
          "execution_count": 204
        }
      ]
    },
    {
      "cell_type": "code",
      "source": [
        "loaded_model_results = eval_model(model = loaded_model,data_loader = test_data_loader,\n",
        "           loss_fn = loss_fn, accuracy_fn = accuracy_fn)"
      ],
      "metadata": {
        "id": "aoJjsat0zxKq"
      },
      "execution_count": 208,
      "outputs": []
    },
    {
      "cell_type": "code",
      "source": [
        "loaded_model_results"
      ],
      "metadata": {
        "colab": {
          "base_uri": "https://localhost:8080/"
        },
        "id": "ncwItwiIz_hE",
        "outputId": "2098e562-5a9a-4c07-a32d-6b3eb53c8abc"
      },
      "execution_count": 209,
      "outputs": [
        {
          "output_type": "execute_result",
          "data": {
            "text/plain": [
              "{'model_name': 'FashionMNISTModelV2',\n",
              " 'model_loss': 0.30092281103134155,\n",
              " 'model_acc': 89.48682108626198,\n",
              " 'precision': 0.8944361784696526,\n",
              " 'recall': 0.8949,\n",
              " 'f1': 0.8936009780482685}"
            ]
          },
          "metadata": {},
          "execution_count": 209
        }
      ]
    },
    {
      "cell_type": "code",
      "source": [
        "model_2_results"
      ],
      "metadata": {
        "colab": {
          "base_uri": "https://localhost:8080/"
        },
        "id": "k6mis3-H0GzX",
        "outputId": "5e192e92-a6f3-499a-b162-9ebc6acf99f4"
      },
      "execution_count": 210,
      "outputs": [
        {
          "output_type": "execute_result",
          "data": {
            "text/plain": [
              "{'model_name': 'FashionMNISTModelV2',\n",
              " 'model_loss': 0.30092281103134155,\n",
              " 'model_acc': 89.48682108626198,\n",
              " 'precision': 0.8944361784696526,\n",
              " 'recall': 0.8949,\n",
              " 'f1': 0.8936009780482685}"
            ]
          },
          "metadata": {},
          "execution_count": 210
        }
      ]
    },
    {
      "cell_type": "code",
      "source": [],
      "metadata": {
        "id": "4JxUxTCh0IhI"
      },
      "execution_count": null,
      "outputs": []
    }
  ]
}